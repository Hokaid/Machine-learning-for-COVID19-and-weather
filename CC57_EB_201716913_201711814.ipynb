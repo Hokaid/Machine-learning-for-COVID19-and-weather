{
  "nbformat": 4,
  "nbformat_minor": 0,
  "metadata": {
    "colab": {
      "name": "CC57_EB_201716913_201711814.ipynb",
      "provenance": [],
      "collapsed_sections": [
        "Z3hHkE1Q-lSN",
        "fvsEkl-qLd6-",
        "vj64_E_CLm4t",
        "extMG6atv2Hi",
        "Q9F9-JPXwSco",
        "kZ06JtH6X7tz",
        "meBiQaEbjuFI"
      ],
      "include_colab_link": true
    },
    "kernelspec": {
      "name": "python3",
      "display_name": "Python 3"
    }
  },
  "cells": [
    {
      "cell_type": "markdown",
      "metadata": {
        "id": "view-in-github",
        "colab_type": "text"
      },
      "source": [
        "<a href=\"https://colab.research.google.com/github/Hokaid/Machine-learning-for-COVID19-and-weather/blob/master/CC57_EB_201716913_201711814.ipynb\" target=\"_parent\"><img src=\"https://colab.research.google.com/assets/colab-badge.svg\" alt=\"Open In Colab\"/></a>"
      ]
    },
    {
      "cell_type": "markdown",
      "metadata": {
        "id": "le2Wa3THW4r6",
        "colab_type": "text"
      },
      "source": [
        "#**[Enlace del notebook en linea](https://colab.research.google.com/drive/1PsrmL6xA_2tIGs66IOsZMsQ2lfyAFtWT?usp=sharing)**"
      ]
    },
    {
      "cell_type": "markdown",
      "metadata": {
        "id": "Z3hHkE1Q-lSN",
        "colab_type": "text"
      },
      "source": [
        "#***VIDEOS DE EXPLICACIÓN***"
      ]
    },
    {
      "cell_type": "markdown",
      "metadata": {
        "id": "6Ow2FSry-snY",
        "colab_type": "text"
      },
      "source": [
        "##***Video en el que se explica las tecnicas de procesamiento de datos y feature selection (Exposición: GERAL ESTEEN CASTILLO ARREDONDO):*** **[Enlace para el video](https://www.loom.com/share/df993f1a7b334cb3a38aae85b4a0deec)**"
      ]
    },
    {
      "cell_type": "markdown",
      "metadata": {
        "id": "7kRFwveo_e62",
        "colab_type": "text"
      },
      "source": [
        "##***Video en el que se explica el desarrollo de workflows (Exposición: JAVIER ROZAS):*** **[Enlace para el video](https://www.loom.com/share/48c53824c2924d19a9c4e77306623c03)**"
      ]
    },
    {
      "cell_type": "markdown",
      "metadata": {
        "id": "H0VOwKylXwGw",
        "colab_type": "text"
      },
      "source": [
        "#***Índice***"
      ]
    },
    {
      "cell_type": "markdown",
      "metadata": {
        "id": "HBn3TBkMZf8I",
        "colab_type": "text"
      },
      "source": [
        "***I. Lectura y Descripción de los datos***\n",
        "\n",
        "   1. ***Lectura de datos***\n",
        "\n",
        "   2. ***Descripción del conjunto de datos***\n",
        "\n",
        "***II. Procesamiento de datos***\n",
        "\n",
        "   1. ***Limpieza de datos***\n",
        "\n",
        "      * ***Valores duplicados***\n",
        "\n",
        "      * ***Detección de outliers***\n",
        "\n",
        "      * ***Detección de inconsistencia de datos***\n",
        "\n",
        "      * ***Detección de valores faltantes***\n",
        "\n",
        "   2. ***Transformación de datos***\n",
        "\n",
        "   3. ***Reducción de datos***\n",
        "\n",
        "   4. ***Discretización de datos***\n",
        "\n",
        "   5. ***Feature construction***\n",
        "\n",
        "   6. ***Tabla o reporte final***\n",
        "\n",
        "***III. Feature Selection***\n",
        "\n",
        "   1. ***Filtering***\n",
        "\n",
        "      * ***Aplicación del Método de filtrado con correlación de Pearson***\n",
        "\n",
        "   2. ***Embedded***\n",
        "\n",
        "      * ***Aplicación del Método embebido***\n",
        "\n",
        "   3. ***Wrapper***\n",
        "\n",
        "      * ***Aplicación del Método Wrapper: Eliminación de Característica Recursiva***\n",
        "\n",
        "   4. ***PCA***\n",
        "\n",
        "      * ***Aplicación de Análisis de componentes principales (PCA)***\n",
        "\n",
        "***IV. Workflows***\n",
        "\n",
        "   1. ***Introducción y contexto***\n",
        "\n",
        "   2. ***Listado de Workflows***\n",
        "\n",
        "   3. ***Comparación y conclusión***"
      ]
    },
    {
      "cell_type": "markdown",
      "metadata": {
        "id": "Vrl6mtP9gsXj",
        "colab_type": "text"
      },
      "source": [
        "#***I. Lectura y Descripción de los datos***"
      ]
    },
    {
      "cell_type": "markdown",
      "metadata": {
        "id": "b9humhstg9as",
        "colab_type": "text"
      },
      "source": [
        "##***1. Lectura de datos***"
      ]
    },
    {
      "cell_type": "markdown",
      "metadata": {
        "id": "09RWzy2JhLjw",
        "colab_type": "text"
      },
      "source": [
        "En las siguientes 2 celdas de codigo, se lee el conjunto de datos respectivo desde google drive. El archivo correspondiente a leer posee como nombre ***tempdata.csv***. "
      ]
    },
    {
      "cell_type": "code",
      "metadata": {
        "id": "vz6AMTDrTTr0",
        "colab_type": "code",
        "colab": {}
      },
      "source": [
        "#Leer un CSV \n",
        "!pip install -U -q PyDrive\n",
        "from pydrive.auth import GoogleAuth\n",
        "from pydrive.drive import GoogleDrive\n",
        "from google.colab import auth\n",
        "from oauth2client.client import GoogleCredentials \n",
        "auth.authenticate_user()\n",
        "gauth = GoogleAuth()\n",
        "gauth.credentials = GoogleCredentials.get_application_default()\n",
        "drive = GoogleDrive(gauth)"
      ],
      "execution_count": null,
      "outputs": []
    },
    {
      "cell_type": "code",
      "metadata": {
        "id": "rrVDUiPDyuSq",
        "colab_type": "code",
        "colab": {
          "base_uri": "https://localhost:8080/",
          "height": 204
        },
        "outputId": "19226132-9066-464c-94a6-6767ce688bf4"
      },
      "source": [
        "import pandas as pd\n",
        "import numpy as np\n",
        "from google.colab import data_table\n",
        "\n",
        "link_google_drive = 'https://drive.google.com/open?id=11z8TZ71D5lH5VUACkPQryM1nhLu1wPSO'\n",
        "flu, id = link_google_drive.split('=')\n",
        "dataset = drive.CreateFile({'id':id})\n",
        "dataset.GetContentFile('tempdata.csv')\n",
        "df = pd.read_csv('tempdata.csv')\n",
        "df.head()"
      ],
      "execution_count": null,
      "outputs": [
        {
          "output_type": "execute_result",
          "data": {
            "text/html": [
              "<div>\n",
              "<style scoped>\n",
              "    .dataframe tbody tr th:only-of-type {\n",
              "        vertical-align: middle;\n",
              "    }\n",
              "\n",
              "    .dataframe tbody tr th {\n",
              "        vertical-align: top;\n",
              "    }\n",
              "\n",
              "    .dataframe thead th {\n",
              "        text-align: right;\n",
              "    }\n",
              "</style>\n",
              "<table border=\"1\" class=\"dataframe\">\n",
              "  <thead>\n",
              "    <tr style=\"text-align: right;\">\n",
              "      <th></th>\n",
              "      <th>province</th>\n",
              "      <th>country</th>\n",
              "      <th>lat</th>\n",
              "      <th>long</th>\n",
              "      <th>date</th>\n",
              "      <th>cases</th>\n",
              "      <th>fatalities</th>\n",
              "      <th>capital</th>\n",
              "      <th>humidity</th>\n",
              "      <th>sunHour</th>\n",
              "      <th>tempC</th>\n",
              "      <th>windspeedKmph</th>\n",
              "    </tr>\n",
              "  </thead>\n",
              "  <tbody>\n",
              "    <tr>\n",
              "      <th>0</th>\n",
              "      <td>NaN</td>\n",
              "      <td>Afghanistan</td>\n",
              "      <td>33.0</td>\n",
              "      <td>65.0</td>\n",
              "      <td>22/01/2020</td>\n",
              "      <td>0</td>\n",
              "      <td>0</td>\n",
              "      <td>Kabul</td>\n",
              "      <td>65.0</td>\n",
              "      <td>8.7</td>\n",
              "      <td>-1.0</td>\n",
              "      <td>8.0</td>\n",
              "    </tr>\n",
              "    <tr>\n",
              "      <th>1</th>\n",
              "      <td>NaN</td>\n",
              "      <td>Afghanistan</td>\n",
              "      <td>33.0</td>\n",
              "      <td>65.0</td>\n",
              "      <td>23/01/2020</td>\n",
              "      <td>0</td>\n",
              "      <td>0</td>\n",
              "      <td>Kabul</td>\n",
              "      <td>59.0</td>\n",
              "      <td>8.7</td>\n",
              "      <td>-3.0</td>\n",
              "      <td>8.0</td>\n",
              "    </tr>\n",
              "    <tr>\n",
              "      <th>2</th>\n",
              "      <td>NaN</td>\n",
              "      <td>Afghanistan</td>\n",
              "      <td>33.0</td>\n",
              "      <td>65.0</td>\n",
              "      <td>24/01/2020</td>\n",
              "      <td>0</td>\n",
              "      <td>0</td>\n",
              "      <td>Kabul</td>\n",
              "      <td>71.0</td>\n",
              "      <td>7.1</td>\n",
              "      <td>0.0</td>\n",
              "      <td>7.0</td>\n",
              "    </tr>\n",
              "    <tr>\n",
              "      <th>3</th>\n",
              "      <td>NaN</td>\n",
              "      <td>Afghanistan</td>\n",
              "      <td>33.0</td>\n",
              "      <td>65.0</td>\n",
              "      <td>25/01/2020</td>\n",
              "      <td>0</td>\n",
              "      <td>0</td>\n",
              "      <td>Kabul</td>\n",
              "      <td>79.0</td>\n",
              "      <td>8.7</td>\n",
              "      <td>0.0</td>\n",
              "      <td>7.0</td>\n",
              "    </tr>\n",
              "    <tr>\n",
              "      <th>4</th>\n",
              "      <td>NaN</td>\n",
              "      <td>Afghanistan</td>\n",
              "      <td>33.0</td>\n",
              "      <td>65.0</td>\n",
              "      <td>26/01/2020</td>\n",
              "      <td>0</td>\n",
              "      <td>0</td>\n",
              "      <td>Kabul</td>\n",
              "      <td>64.0</td>\n",
              "      <td>8.7</td>\n",
              "      <td>-1.0</td>\n",
              "      <td>8.0</td>\n",
              "    </tr>\n",
              "  </tbody>\n",
              "</table>\n",
              "</div>"
            ],
            "text/plain": [
              "  province      country   lat  long  ... humidity  sunHour  tempC windspeedKmph\n",
              "0      NaN  Afghanistan  33.0  65.0  ...     65.0      8.7   -1.0           8.0\n",
              "1      NaN  Afghanistan  33.0  65.0  ...     59.0      8.7   -3.0           8.0\n",
              "2      NaN  Afghanistan  33.0  65.0  ...     71.0      7.1    0.0           7.0\n",
              "3      NaN  Afghanistan  33.0  65.0  ...     79.0      8.7    0.0           7.0\n",
              "4      NaN  Afghanistan  33.0  65.0  ...     64.0      8.7   -1.0           8.0\n",
              "\n",
              "[5 rows x 12 columns]"
            ]
          },
          "metadata": {
            "tags": []
          },
          "execution_count": 95
        }
      ]
    },
    {
      "cell_type": "markdown",
      "metadata": {
        "id": "flXEBjvlhzGA",
        "colab_type": "text"
      },
      "source": [
        "##***2. Descripción del conjunto de datos***"
      ]
    },
    {
      "cell_type": "markdown",
      "metadata": {
        "id": "dwXU6vOyiYik",
        "colab_type": "text"
      },
      "source": [
        "***Contexto del dataset:*** Este conjunto de datos fue hecho con el objetivo de cuantificar y analizar la correlación entre los ***datos meteorológicos básicos*** y la transmisión del virus ***COVID-19***. Entre los datos, se encuentran temperatura promedio, horas de luz solar, porcentaje de humedad y velocidad del viento en la capital de 156 países. Las fechas varian del 22/1/2020 al 21/3/2020.\n",
        "\n",
        "Ahora bien, se procedera a definir cada atributo del conjunto de datos obtenido y a identificar el atributo clase o objetivo:\n",
        "\n",
        "***Caracteristicas***\n",
        "\n",
        "* **Provincia (province):** indica la provincia, la cual se encuentra en la capital del país respectivo, en la que se reportaron los casos y muertos por coronavirus.\n",
        "\n",
        "* **País (country):** indica el País en el que se reportaron los casos y muertos por coronavirus.\n",
        "\n",
        "* **Latitud (lat):** indica la latitud correspondiente a la región en la que se reportaron los casos y muertos por coronavirus.\n",
        "\n",
        "* **Longitud (long):** indica la longitud correspondiente a la región en la que se reportaron los casos y muertos por coronavirus.\n",
        "\n",
        "* **Fecha (date):** indica la fecha en la que se reportaron los casos, recuperados y muertos por coronavirus.\n",
        "\n",
        "* **Muertos (fatalities):** indica la cantidad de muertos de coronavirus respectiva.\n",
        "\n",
        "* **Capital (capital):** indica la capital, la cual se encuentra en el país respectivo, en la que se reportaron los casos y muertos por coronavirus.\n",
        "\n",
        "* **Humedad (humidity):** indica el porcentaje de humedad correspondiente a la región en la que se reportaron los casos y muertos por coronavirus.\n",
        "\n",
        "* **Horas de luz solar (sunHour):** indica la horas de luz solar correspondiente a la región en la que se reportaron los casos y muertos por coronavirus\n",
        "\n",
        "* **Temperatura (tempC):** indica la temperatura promedio en Celcius correspondiente a la región en la que se reportaron los casos y muertos por coronavirus\n",
        "\n",
        "* **Velocidad del viento (windspeedKmph):** indica velocidad del viento correspondiente a la región en la que se reportaron los casos y muertos por coronavirus\n",
        "\n",
        "***Atributo clase o objetivo***\n",
        "\n",
        "* ***Casos (cases):*** indica la cantidad de casos de coronavirus respectiva. Se eligio este atributo como columna clase, ya que con respecto a los otros datos tu lo puedes saber o determinar con facilidad. Si alguien esta muerto, es facil de identificar. No obstante, con respecto a **Casos (cases)**, es necesario realizar pruebas de descarte para identificar los casos de coronavirus respectivo. Los modelos que se presentaran a continuación, permitiran predecir la cantidad de casos de coronavirus sin necesidad de pruebas medicas. En ese sentido, representa una ventaja, ya que dichas pruebas son de dificil acceso para ciertas regiones. "
      ]
    },
    {
      "cell_type": "markdown",
      "metadata": {
        "id": "uP6FeJVEuc_d",
        "colab_type": "text"
      },
      "source": [
        "#***II. Procesamiento de Datos***"
      ]
    },
    {
      "cell_type": "markdown",
      "metadata": {
        "id": "FRHbpBEXvES3",
        "colab_type": "text"
      },
      "source": [
        "##***1. Limpieza de datos***"
      ]
    },
    {
      "cell_type": "markdown",
      "metadata": {
        "id": "E5nTqQbeLIAt",
        "colab_type": "text"
      },
      "source": [
        "###***Valores duplicados***"
      ]
    },
    {
      "cell_type": "markdown",
      "metadata": {
        "id": "RQKq3TkCbOAm",
        "colab_type": "text"
      },
      "source": [
        "El siguiente codigo es capaz de identificar y contar la cantidad de registros duplicados en el conjunto de datos analizado. Se impreme el valor de 0, por lo que se llega a una conclusión.\n",
        "\n",
        "***Conslución: No existen registros duplicados en el conjunto de datos***"
      ]
    },
    {
      "cell_type": "code",
      "metadata": {
        "id": "CUUhkZblITG0",
        "colab_type": "code",
        "colab": {
          "base_uri": "https://localhost:8080/",
          "height": 34
        },
        "outputId": "fbc4b6ae-635d-42e9-8098-1f5cda3dfbd7"
      },
      "source": [
        "#identificar si hay valores duplicados\n",
        "ddf = df.duplicated()\n",
        "n_vdupli = 0 #numeros de valores duplicados\n",
        "for i in range(len(ddf)):\n",
        "  if (ddf[i] == True):\n",
        "    n_vdupli += 1\n",
        "print(n_vdupli)"
      ],
      "execution_count": null,
      "outputs": [
        {
          "output_type": "stream",
          "text": [
            "0\n"
          ],
          "name": "stdout"
        }
      ]
    },
    {
      "cell_type": "markdown",
      "metadata": {
        "id": "KtThF1q0LT6Z",
        "colab_type": "text"
      },
      "source": [
        "###***Detección de outliers***"
      ]
    },
    {
      "cell_type": "markdown",
      "metadata": {
        "id": "1QMAJSCWNU2r",
        "colab_type": "text"
      },
      "source": [
        "Ahora bien, se procedera a identificar la posible precencia de outliers en cada atributo numerico del conjunto de datos:\n",
        "\n",
        "* ***Latitud (lat)***\n",
        "\n",
        "![alt text](https://i.ibb.co/Z80Mpsc/bp3.png)\n",
        "\n",
        "Se debe considerar el  Rango: [-41.45; 71.71]\n",
        "\n",
        "* ***Longitud (long)***\n",
        "\n",
        "![alt text](https://i.ibb.co/vzSZDmt/bp4.png)\n",
        "\n",
        "Se debe considerar el  Rango: [-157.50; 174.89]\n",
        "\n",
        "* ***Casos (cases)***\n",
        "\n",
        "![alt text](https://i.ibb.co/gW3qshL/bp6.png)\n",
        "\n",
        "Se debe considerar el  Rango: [0; 67800]\n",
        "\n",
        "* ***Muertes (fatalities)***\n",
        "\n",
        "![alt text](https://i.ibb.co/MBzsCcX/bp7.png)\n",
        "\n",
        "Se debe considerar el  Rango: [0; 4825]\n",
        "\n",
        "* ***Humedad (humidity)***\n",
        "\n",
        "![alt text](https://i.ibb.co/hc08c3D/bp8.png)\n",
        "\n",
        "Se debe considerar el  Rango: [5; 99]\n",
        "\n",
        "* ***Horas de luz solar (sunHour)***\n",
        "\n",
        "![alt text](https://i.ibb.co/99btbc7/bpsolar.png)\n",
        "\n",
        "Se debe considerar el  Rango: [1.5; 14]\n",
        "\n",
        "* ***Temperatura en grados Celsius (tempC)***\n",
        "\n",
        "![alt text](https://i.ibb.co/0nKn7Sr/bptemp.png)\n",
        "\n",
        "Se debe considerar el  Rango: [-21; 45]\n",
        "\n",
        "* ***Velocidad del viento en km/h (windspeedKmph)***\n",
        "\n",
        "![alt text](https://i.ibb.co/nL8QP0k/bpspeed.png)\n",
        "\n",
        "Se debe considerar el  Rango: [1; 71]\n",
        "\n",
        "***Conclusión: Como se puede apreciar en los diagramas de caja dados anteriormente, no existen valores que superen los extremos superiores e inferiores en ninguno de ellos. Por lo tanto, se concluye que no existen outliers o valores atipicos para cada caso. En ese sentido, no existen outliers con respecto a atributos numericos en el conjunto de datos analizado.***\n",
        "\n",
        "\n",
        "\n"
      ]
    },
    {
      "cell_type": "markdown",
      "metadata": {
        "id": "fvsEkl-qLd6-",
        "colab_type": "text"
      },
      "source": [
        "###***Detección de inconsistencia de datos***"
      ]
    },
    {
      "cell_type": "markdown",
      "metadata": {
        "id": "1ancDvTYcOAl",
        "colab_type": "text"
      },
      "source": [
        "Se utilizo la herramienta **Orange** para la determinación de valores inconsistentes o inconsistencia en los datos. A continuación, se muestran las estadisticas de los datos dados por la herramienta mencionada:\n",
        "\n",
        "![alt text](https://i.ibb.co/VHfdd0S/1report.png)\n",
        "![alt text](https://i.ibb.co/4SbStdf/2report.png)\n",
        "\n",
        "De acuerdo a la información dada anteriormente, no se a logrado identificar ningun tipo de inconsistencia en ningun atributo con respecto a el rango, la media, dispersión y otros valores estadisticos analizados. \n",
        "\n",
        "***Conclusión: No hay una inconsistencia significativa en los datos***"
      ]
    },
    {
      "cell_type": "markdown",
      "metadata": {
        "id": "vj64_E_CLm4t",
        "colab_type": "text"
      },
      "source": [
        "###***Detección de valores faltantes***"
      ]
    },
    {
      "cell_type": "markdown",
      "metadata": {
        "id": "m8FboOwWgJ-v",
        "colab_type": "text"
      },
      "source": [
        "A continuación, se imprimen los valores faltantes por cada columna. En este caso, podemos identificar que existe una gran cantidad de valores faltantes en el conjunto de datos. "
      ]
    },
    {
      "cell_type": "code",
      "metadata": {
        "id": "bVQSvnIi0RCn",
        "colab_type": "code",
        "colab": {
          "base_uri": "https://localhost:8080/",
          "height": 255
        },
        "outputId": "69946cb2-4140-4a4a-ccc2-255d3cd8f18d"
      },
      "source": [
        " print(\"cantidad de registros: \", len(df))\n",
        " df.isnull().sum()"
      ],
      "execution_count": null,
      "outputs": [
        {
          "output_type": "stream",
          "text": [
            "cantidad de registros:  16677\n"
          ],
          "name": "stdout"
        },
        {
          "output_type": "execute_result",
          "data": {
            "text/plain": [
              "province         8937\n",
              "country             0\n",
              "lat                 0\n",
              "long                0\n",
              "date                0\n",
              "cases               0\n",
              "fatalities          0\n",
              "capital             0\n",
              "humidity          177\n",
              "sunHour           177\n",
              "tempC             177\n",
              "windspeedKmph     177\n",
              "dtype: int64"
            ]
          },
          "metadata": {
            "tags": []
          },
          "execution_count": 97
        }
      ]
    },
    {
      "cell_type": "markdown",
      "metadata": {
        "id": "tQW1YX_lhfK7",
        "colab_type": "text"
      },
      "source": [
        "Se logran encontrar valores faltantes en los siguientes atributos: ***Province (8937), Humidity (177), suHour (177), tempC (177) y windspeedKmph (177)***. Se plantean 2 decisiones de experimentación para eliminar los valores faltantes. Estas se describen a continuación:"
      ]
    },
    {
      "cell_type": "markdown",
      "metadata": {
        "id": "Jvc0fQKrjfAZ",
        "colab_type": "text"
      },
      "source": [
        "* ***Primera decisión: Consiste en remplazar los valores faltantes por la media o valor central dependiendo de la naturaleza del atributo.*** La implementación de la misma, se muestra a continuación. Luego de aplicarse la tecnica implementada sobre el conjunto de datos, se imprimen la cantidad de valores faltantes por atributo y los 5 primeros registros del conjunto de datos resultante. "
      ]
    },
    {
      "cell_type": "code",
      "metadata": {
        "id": "DfdrWpm7jdrz",
        "colab_type": "code",
        "colab": {
          "base_uri": "https://localhost:8080/",
          "height": 425
        },
        "outputId": "e51ed7db-28e5-4792-bfec-dde5b7237902"
      },
      "source": [
        "#Fución que define la primera tecnica de limpieza de datos propuesta\n",
        "def natocenter(df):\n",
        "  names = df.columns.values\n",
        "  for i in range(len(names)): \n",
        "    if df.dtypes[i] == 'object':\n",
        "      df = df.fillna({names[i]: df.describe(include = 'all').iloc[2][i]})\n",
        "    elif df.dtypes[i] == 'int64' or df.dtypes[i] == 'float64':\n",
        "      df = df.fillna({names[i]: df.describe(include = 'all').iloc[4][i]})\n",
        "  return df\n",
        "\n",
        "dfsinna = natocenter(df)\n",
        "print(dfsinna.isnull().sum())\n",
        "dfsinna.head()"
      ],
      "execution_count": null,
      "outputs": [
        {
          "output_type": "stream",
          "text": [
            "province         0\n",
            "country          0\n",
            "lat              0\n",
            "long             0\n",
            "date             0\n",
            "cases            0\n",
            "fatalities       0\n",
            "capital          0\n",
            "humidity         0\n",
            "sunHour          0\n",
            "tempC            0\n",
            "windspeedKmph    0\n",
            "dtype: int64\n"
          ],
          "name": "stdout"
        },
        {
          "output_type": "execute_result",
          "data": {
            "text/html": [
              "<div>\n",
              "<style scoped>\n",
              "    .dataframe tbody tr th:only-of-type {\n",
              "        vertical-align: middle;\n",
              "    }\n",
              "\n",
              "    .dataframe tbody tr th {\n",
              "        vertical-align: top;\n",
              "    }\n",
              "\n",
              "    .dataframe thead th {\n",
              "        text-align: right;\n",
              "    }\n",
              "</style>\n",
              "<table border=\"1\" class=\"dataframe\">\n",
              "  <thead>\n",
              "    <tr style=\"text-align: right;\">\n",
              "      <th></th>\n",
              "      <th>province</th>\n",
              "      <th>country</th>\n",
              "      <th>lat</th>\n",
              "      <th>long</th>\n",
              "      <th>date</th>\n",
              "      <th>cases</th>\n",
              "      <th>fatalities</th>\n",
              "      <th>capital</th>\n",
              "      <th>humidity</th>\n",
              "      <th>sunHour</th>\n",
              "      <th>tempC</th>\n",
              "      <th>windspeedKmph</th>\n",
              "    </tr>\n",
              "  </thead>\n",
              "  <tbody>\n",
              "    <tr>\n",
              "      <th>0</th>\n",
              "      <td>Grand Princess</td>\n",
              "      <td>Afghanistan</td>\n",
              "      <td>33.0</td>\n",
              "      <td>65.0</td>\n",
              "      <td>22/01/2020</td>\n",
              "      <td>0</td>\n",
              "      <td>0</td>\n",
              "      <td>Kabul</td>\n",
              "      <td>65.0</td>\n",
              "      <td>8.7</td>\n",
              "      <td>-1.0</td>\n",
              "      <td>8.0</td>\n",
              "    </tr>\n",
              "    <tr>\n",
              "      <th>1</th>\n",
              "      <td>Grand Princess</td>\n",
              "      <td>Afghanistan</td>\n",
              "      <td>33.0</td>\n",
              "      <td>65.0</td>\n",
              "      <td>23/01/2020</td>\n",
              "      <td>0</td>\n",
              "      <td>0</td>\n",
              "      <td>Kabul</td>\n",
              "      <td>59.0</td>\n",
              "      <td>8.7</td>\n",
              "      <td>-3.0</td>\n",
              "      <td>8.0</td>\n",
              "    </tr>\n",
              "    <tr>\n",
              "      <th>2</th>\n",
              "      <td>Grand Princess</td>\n",
              "      <td>Afghanistan</td>\n",
              "      <td>33.0</td>\n",
              "      <td>65.0</td>\n",
              "      <td>24/01/2020</td>\n",
              "      <td>0</td>\n",
              "      <td>0</td>\n",
              "      <td>Kabul</td>\n",
              "      <td>71.0</td>\n",
              "      <td>7.1</td>\n",
              "      <td>0.0</td>\n",
              "      <td>7.0</td>\n",
              "    </tr>\n",
              "    <tr>\n",
              "      <th>3</th>\n",
              "      <td>Grand Princess</td>\n",
              "      <td>Afghanistan</td>\n",
              "      <td>33.0</td>\n",
              "      <td>65.0</td>\n",
              "      <td>25/01/2020</td>\n",
              "      <td>0</td>\n",
              "      <td>0</td>\n",
              "      <td>Kabul</td>\n",
              "      <td>79.0</td>\n",
              "      <td>8.7</td>\n",
              "      <td>0.0</td>\n",
              "      <td>7.0</td>\n",
              "    </tr>\n",
              "    <tr>\n",
              "      <th>4</th>\n",
              "      <td>Grand Princess</td>\n",
              "      <td>Afghanistan</td>\n",
              "      <td>33.0</td>\n",
              "      <td>65.0</td>\n",
              "      <td>26/01/2020</td>\n",
              "      <td>0</td>\n",
              "      <td>0</td>\n",
              "      <td>Kabul</td>\n",
              "      <td>64.0</td>\n",
              "      <td>8.7</td>\n",
              "      <td>-1.0</td>\n",
              "      <td>8.0</td>\n",
              "    </tr>\n",
              "  </tbody>\n",
              "</table>\n",
              "</div>"
            ],
            "text/plain": [
              "         province      country   lat  ...  sunHour tempC  windspeedKmph\n",
              "0  Grand Princess  Afghanistan  33.0  ...      8.7  -1.0            8.0\n",
              "1  Grand Princess  Afghanistan  33.0  ...      8.7  -3.0            8.0\n",
              "2  Grand Princess  Afghanistan  33.0  ...      7.1   0.0            7.0\n",
              "3  Grand Princess  Afghanistan  33.0  ...      8.7   0.0            7.0\n",
              "4  Grand Princess  Afghanistan  33.0  ...      8.7  -1.0            8.0\n",
              "\n",
              "[5 rows x 12 columns]"
            ]
          },
          "metadata": {
            "tags": []
          },
          "execution_count": 98
        }
      ]
    },
    {
      "cell_type": "markdown",
      "metadata": {
        "id": "1sU9ib-JnuUj",
        "colab_type": "text"
      },
      "source": [
        "* ***Segunda decisión: Consiste en remplazar los valores faltantes por el valor de 0.*** La implementación de la misma, se muestra a continuación. Luego de aplicarse la tecnica implementada sobre el conjunto de datos, se imprimen la cantidad de valores faltantes por atributo y los 5 primeros registrso del conjunto de datos resultante."
      ]
    },
    {
      "cell_type": "code",
      "metadata": {
        "id": "nmzgTYNXohXC",
        "colab_type": "code",
        "colab": {
          "base_uri": "https://localhost:8080/",
          "height": 425
        },
        "outputId": "fdf5e709-14b6-49fd-d91d-b0474cebd479"
      },
      "source": [
        "#Fución que define la segunda tecnica de limpieza de datos propuesta\n",
        "def natozero(df):\n",
        "  names = df.columns.values\n",
        "  for i in range(len(names)): \n",
        "    if df.dtypes[i] == 'object':\n",
        "      df = df.fillna({names[i]: '0'})\n",
        "    elif df.dtypes[i] == 'int64' or df.dtypes[i] == 'float64':\n",
        "      df = df.fillna({names[i]: 0})\n",
        "  return df\n",
        "\n",
        "dfsinna = natozero(df)\n",
        "print(dfsinna.isnull().sum())\n",
        "dfsinna.head()"
      ],
      "execution_count": null,
      "outputs": [
        {
          "output_type": "stream",
          "text": [
            "province         0\n",
            "country          0\n",
            "lat              0\n",
            "long             0\n",
            "date             0\n",
            "cases            0\n",
            "fatalities       0\n",
            "capital          0\n",
            "humidity         0\n",
            "sunHour          0\n",
            "tempC            0\n",
            "windspeedKmph    0\n",
            "dtype: int64\n"
          ],
          "name": "stdout"
        },
        {
          "output_type": "execute_result",
          "data": {
            "text/html": [
              "<div>\n",
              "<style scoped>\n",
              "    .dataframe tbody tr th:only-of-type {\n",
              "        vertical-align: middle;\n",
              "    }\n",
              "\n",
              "    .dataframe tbody tr th {\n",
              "        vertical-align: top;\n",
              "    }\n",
              "\n",
              "    .dataframe thead th {\n",
              "        text-align: right;\n",
              "    }\n",
              "</style>\n",
              "<table border=\"1\" class=\"dataframe\">\n",
              "  <thead>\n",
              "    <tr style=\"text-align: right;\">\n",
              "      <th></th>\n",
              "      <th>province</th>\n",
              "      <th>country</th>\n",
              "      <th>lat</th>\n",
              "      <th>long</th>\n",
              "      <th>date</th>\n",
              "      <th>cases</th>\n",
              "      <th>fatalities</th>\n",
              "      <th>capital</th>\n",
              "      <th>humidity</th>\n",
              "      <th>sunHour</th>\n",
              "      <th>tempC</th>\n",
              "      <th>windspeedKmph</th>\n",
              "    </tr>\n",
              "  </thead>\n",
              "  <tbody>\n",
              "    <tr>\n",
              "      <th>0</th>\n",
              "      <td>0</td>\n",
              "      <td>Afghanistan</td>\n",
              "      <td>33.0</td>\n",
              "      <td>65.0</td>\n",
              "      <td>22/01/2020</td>\n",
              "      <td>0</td>\n",
              "      <td>0</td>\n",
              "      <td>Kabul</td>\n",
              "      <td>65.0</td>\n",
              "      <td>8.7</td>\n",
              "      <td>-1.0</td>\n",
              "      <td>8.0</td>\n",
              "    </tr>\n",
              "    <tr>\n",
              "      <th>1</th>\n",
              "      <td>0</td>\n",
              "      <td>Afghanistan</td>\n",
              "      <td>33.0</td>\n",
              "      <td>65.0</td>\n",
              "      <td>23/01/2020</td>\n",
              "      <td>0</td>\n",
              "      <td>0</td>\n",
              "      <td>Kabul</td>\n",
              "      <td>59.0</td>\n",
              "      <td>8.7</td>\n",
              "      <td>-3.0</td>\n",
              "      <td>8.0</td>\n",
              "    </tr>\n",
              "    <tr>\n",
              "      <th>2</th>\n",
              "      <td>0</td>\n",
              "      <td>Afghanistan</td>\n",
              "      <td>33.0</td>\n",
              "      <td>65.0</td>\n",
              "      <td>24/01/2020</td>\n",
              "      <td>0</td>\n",
              "      <td>0</td>\n",
              "      <td>Kabul</td>\n",
              "      <td>71.0</td>\n",
              "      <td>7.1</td>\n",
              "      <td>0.0</td>\n",
              "      <td>7.0</td>\n",
              "    </tr>\n",
              "    <tr>\n",
              "      <th>3</th>\n",
              "      <td>0</td>\n",
              "      <td>Afghanistan</td>\n",
              "      <td>33.0</td>\n",
              "      <td>65.0</td>\n",
              "      <td>25/01/2020</td>\n",
              "      <td>0</td>\n",
              "      <td>0</td>\n",
              "      <td>Kabul</td>\n",
              "      <td>79.0</td>\n",
              "      <td>8.7</td>\n",
              "      <td>0.0</td>\n",
              "      <td>7.0</td>\n",
              "    </tr>\n",
              "    <tr>\n",
              "      <th>4</th>\n",
              "      <td>0</td>\n",
              "      <td>Afghanistan</td>\n",
              "      <td>33.0</td>\n",
              "      <td>65.0</td>\n",
              "      <td>26/01/2020</td>\n",
              "      <td>0</td>\n",
              "      <td>0</td>\n",
              "      <td>Kabul</td>\n",
              "      <td>64.0</td>\n",
              "      <td>8.7</td>\n",
              "      <td>-1.0</td>\n",
              "      <td>8.0</td>\n",
              "    </tr>\n",
              "  </tbody>\n",
              "</table>\n",
              "</div>"
            ],
            "text/plain": [
              "  province      country   lat  long  ... humidity  sunHour  tempC windspeedKmph\n",
              "0        0  Afghanistan  33.0  65.0  ...     65.0      8.7   -1.0           8.0\n",
              "1        0  Afghanistan  33.0  65.0  ...     59.0      8.7   -3.0           8.0\n",
              "2        0  Afghanistan  33.0  65.0  ...     71.0      7.1    0.0           7.0\n",
              "3        0  Afghanistan  33.0  65.0  ...     79.0      8.7    0.0           7.0\n",
              "4        0  Afghanistan  33.0  65.0  ...     64.0      8.7   -1.0           8.0\n",
              "\n",
              "[5 rows x 12 columns]"
            ]
          },
          "metadata": {
            "tags": []
          },
          "execution_count": 99
        }
      ]
    },
    {
      "cell_type": "markdown",
      "metadata": {
        "id": "FPtpVdb0vOLd",
        "colab_type": "text"
      },
      "source": [
        "##***2. Transformación de datos***"
      ]
    },
    {
      "cell_type": "markdown",
      "metadata": {
        "id": "Q0_20DNQpKhr",
        "colab_type": "text"
      },
      "source": [
        "Las caracteristicas poseen diferentes rangos, por lo que sus datos deben ser llevados a una misma escala. Antes de realizar una operación de ***normalización o estandarización*** sobre el conjunto de datos, es importante definir que todos estos esten expresados como numeros. Asimismo, los modelos de aprendizaje automatico, generalmente, solo entienden numeros. En ese sentido, es importante codificar los atributos categoricos, de tal manera que puedan ser representados por numeros. Luego de ello, se ejecuta la normalización o estandarización sobre todas las columnas, excepto aquella correspondiente a la columna clase o objetivo. ***El atributo objetivo debe ser indicado, ya que este no sera normalizado o estandarizado***. Se plantean 2 tecnicas de ***transformación de datos***. Estas se describen como sigue:"
      ]
    },
    {
      "cell_type": "markdown",
      "metadata": {
        "id": "JTOJe7qYvOgL",
        "colab_type": "text"
      },
      "source": [
        "* ***Primera decisión: Consiste en transformar todos los datos a numeros. Luego de ello, normalizar todos los datos que no correspondan al atributo clase o objetivo.*** La implementación de la misma, se muestra a continuación. ***Esta parte del codigo no es del todo generica***, esto sucede, ya que se debe indicar el indice de la columna objetivo o clase. La columna objetivo o clase no posee el mismo indice en todos los conjuntos de datos. Luego de aplicar la tecnica, se imprime una descripción del conjunto de datos. ***Esta descripción muestra que todos los atributos, excepto el atributo clase o objetivo, poseen un rango de [0, 1].***"
      ]
    },
    {
      "cell_type": "code",
      "metadata": {
        "id": "raIyvyefrH84",
        "colab_type": "code",
        "colab": {
          "base_uri": "https://localhost:8080/",
          "height": 317
        },
        "outputId": "bd287dfc-e4be-4815-daad-886864f184de"
      },
      "source": [
        "from sklearn.preprocessing import LabelEncoder\n",
        "\n",
        "def cod_normalize(df, clase):\n",
        "  names = df.columns.values\n",
        "  categorical_feature_mask = df.dtypes==object #Codificando todas las variables categoricas\n",
        "  categorical_cols = df.columns[categorical_feature_mask].tolist()\n",
        "  le = LabelEncoder()\n",
        "  df[categorical_cols] = df[categorical_cols].apply(lambda col: le.fit_transform(col))\n",
        "  for i in range(len(names)):\n",
        "    if names[i] != clase:\n",
        "      if (df[names[i]].max()-df[names[i]].min() != 0):\n",
        "        df[names[i]] = (df[names[i]] - df[names[i]].min())/ (df[names[i]].max()-df[names[i]].min())\n",
        "  return df\n",
        "\n",
        "ind_clase = 5 #se debe indicar el indice de la columna objetivo, ya que esta no sera tratada\n",
        "names = df.columns.values\n",
        "dfn = cod_normalize(natocenter(df), names[ind_clase])\n",
        "dfn.describe()"
      ],
      "execution_count": null,
      "outputs": [
        {
          "output_type": "execute_result",
          "data": {
            "text/html": [
              "<div>\n",
              "<style scoped>\n",
              "    .dataframe tbody tr th:only-of-type {\n",
              "        vertical-align: middle;\n",
              "    }\n",
              "\n",
              "    .dataframe tbody tr th {\n",
              "        vertical-align: top;\n",
              "    }\n",
              "\n",
              "    .dataframe thead th {\n",
              "        text-align: right;\n",
              "    }\n",
              "</style>\n",
              "<table border=\"1\" class=\"dataframe\">\n",
              "  <thead>\n",
              "    <tr style=\"text-align: right;\">\n",
              "      <th></th>\n",
              "      <th>province</th>\n",
              "      <th>country</th>\n",
              "      <th>lat</th>\n",
              "      <th>long</th>\n",
              "      <th>date</th>\n",
              "      <th>cases</th>\n",
              "      <th>fatalities</th>\n",
              "      <th>capital</th>\n",
              "      <th>humidity</th>\n",
              "      <th>sunHour</th>\n",
              "      <th>tempC</th>\n",
              "      <th>windspeedKmph</th>\n",
              "    </tr>\n",
              "  </thead>\n",
              "  <tbody>\n",
              "    <tr>\n",
              "      <th>count</th>\n",
              "      <td>16677.000000</td>\n",
              "      <td>16677.000000</td>\n",
              "      <td>16677.000000</td>\n",
              "      <td>16677.000000</td>\n",
              "      <td>16677.000000</td>\n",
              "      <td>16677.000000</td>\n",
              "      <td>16677.000000</td>\n",
              "      <td>16677.000000</td>\n",
              "      <td>16677.000000</td>\n",
              "      <td>16677.000000</td>\n",
              "      <td>16677.000000</td>\n",
              "      <td>16677.000000</td>\n",
              "    </tr>\n",
              "    <tr>\n",
              "      <th>mean</th>\n",
              "      <td>0.361943</td>\n",
              "      <td>0.535974</td>\n",
              "      <td>0.599755</td>\n",
              "      <td>0.487186</td>\n",
              "      <td>0.500008</td>\n",
              "      <td>289.678120</td>\n",
              "      <td>0.002078</td>\n",
              "      <td>0.544985</td>\n",
              "      <td>0.654193</td>\n",
              "      <td>0.562382</td>\n",
              "      <td>0.561028</td>\n",
              "      <td>0.166084</td>\n",
              "    </tr>\n",
              "    <tr>\n",
              "      <th>std</th>\n",
              "      <td>0.235061</td>\n",
              "      <td>0.338742</td>\n",
              "      <td>0.202967</td>\n",
              "      <td>0.241242</td>\n",
              "      <td>0.293562</td>\n",
              "      <td>3354.089372</td>\n",
              "      <td>0.031005</td>\n",
              "      <td>0.332241</td>\n",
              "      <td>0.200850</td>\n",
              "      <td>0.200798</td>\n",
              "      <td>0.159493</td>\n",
              "      <td>0.108811</td>\n",
              "    </tr>\n",
              "    <tr>\n",
              "      <th>min</th>\n",
              "      <td>0.000000</td>\n",
              "      <td>0.000000</td>\n",
              "      <td>0.000000</td>\n",
              "      <td>0.000000</td>\n",
              "      <td>0.000000</td>\n",
              "      <td>0.000000</td>\n",
              "      <td>0.000000</td>\n",
              "      <td>0.000000</td>\n",
              "      <td>0.000000</td>\n",
              "      <td>0.000000</td>\n",
              "      <td>0.000000</td>\n",
              "      <td>0.000000</td>\n",
              "    </tr>\n",
              "    <tr>\n",
              "      <th>25%</th>\n",
              "      <td>0.244094</td>\n",
              "      <td>0.193548</td>\n",
              "      <td>0.485127</td>\n",
              "      <td>0.258641</td>\n",
              "      <td>0.237288</td>\n",
              "      <td>0.000000</td>\n",
              "      <td>0.000000</td>\n",
              "      <td>0.222222</td>\n",
              "      <td>0.542553</td>\n",
              "      <td>0.392000</td>\n",
              "      <td>0.454545</td>\n",
              "      <td>0.085714</td>\n",
              "    </tr>\n",
              "    <tr>\n",
              "      <th>50%</th>\n",
              "      <td>0.244094</td>\n",
              "      <td>0.509677</td>\n",
              "      <td>0.657950</td>\n",
              "      <td>0.502431</td>\n",
              "      <td>0.508475</td>\n",
              "      <td>0.000000</td>\n",
              "      <td>0.000000</td>\n",
              "      <td>0.575163</td>\n",
              "      <td>0.712766</td>\n",
              "      <td>0.576000</td>\n",
              "      <td>0.545455</td>\n",
              "      <td>0.142857</td>\n",
              "    </tr>\n",
              "    <tr>\n",
              "      <th>75%</th>\n",
              "      <td>0.456693</td>\n",
              "      <td>0.948387</td>\n",
              "      <td>0.741956</td>\n",
              "      <td>0.669401</td>\n",
              "      <td>0.762712</td>\n",
              "      <td>9.000000</td>\n",
              "      <td>0.000000</td>\n",
              "      <td>0.921569</td>\n",
              "      <td>0.797872</td>\n",
              "      <td>0.760000</td>\n",
              "      <td>0.696970</td>\n",
              "      <td>0.214286</td>\n",
              "    </tr>\n",
              "    <tr>\n",
              "      <th>max</th>\n",
              "      <td>1.000000</td>\n",
              "      <td>1.000000</td>\n",
              "      <td>1.000000</td>\n",
              "      <td>1.000000</td>\n",
              "      <td>1.000000</td>\n",
              "      <td>67800.000000</td>\n",
              "      <td>1.000000</td>\n",
              "      <td>1.000000</td>\n",
              "      <td>1.000000</td>\n",
              "      <td>1.000000</td>\n",
              "      <td>1.000000</td>\n",
              "      <td>1.000000</td>\n",
              "    </tr>\n",
              "  </tbody>\n",
              "</table>\n",
              "</div>"
            ],
            "text/plain": [
              "           province       country  ...         tempC  windspeedKmph\n",
              "count  16677.000000  16677.000000  ...  16677.000000   16677.000000\n",
              "mean       0.361943      0.535974  ...      0.561028       0.166084\n",
              "std        0.235061      0.338742  ...      0.159493       0.108811\n",
              "min        0.000000      0.000000  ...      0.000000       0.000000\n",
              "25%        0.244094      0.193548  ...      0.454545       0.085714\n",
              "50%        0.244094      0.509677  ...      0.545455       0.142857\n",
              "75%        0.456693      0.948387  ...      0.696970       0.214286\n",
              "max        1.000000      1.000000  ...      1.000000       1.000000\n",
              "\n",
              "[8 rows x 12 columns]"
            ]
          },
          "metadata": {
            "tags": []
          },
          "execution_count": 153
        }
      ]
    },
    {
      "cell_type": "markdown",
      "metadata": {
        "id": "QCYA6FzL3hB2",
        "colab_type": "text"
      },
      "source": [
        "* ***Segunda decisión: Consiste en transformar todos los datos a numeros. Luego de ello, estandarizar todos los datos que no correspondan al atributo clase o objetivo.*** La implementación de la misma, se muestra a continuación. ***Esta parte del codigo no es del todo generica***, esto sucede, ya que se debe indicar el indice de la columna objetivo o clase. La columna objetivo o clase no posee el mismo indice en todos los conjuntos de datos. Luego de aplicar la tecnica, se imprime una descripción del conjunto de datos. ***Esta descripción muestra que todos los atributos, excepto el atributo clase o objetivo, poseen una media de aproximadamente 0.***"
      ]
    },
    {
      "cell_type": "code",
      "metadata": {
        "id": "S-UZvB-H2bdb",
        "colab_type": "code",
        "colab": {
          "base_uri": "https://localhost:8080/",
          "height": 385
        },
        "outputId": "19b3a5a2-192e-4474-a4fa-978570af38c3"
      },
      "source": [
        "from sklearn.preprocessing import LabelEncoder\n",
        "\n",
        "def cod_standarize(df, clase):\n",
        "  names = df.columns.values\n",
        "  categorical_feature_mask = df.dtypes==object #Codificando todas las variables categoricas\n",
        "  categorical_cols = df.columns[categorical_feature_mask].tolist()\n",
        "  le = LabelEncoder()\n",
        "  df[categorical_cols] = df[categorical_cols].apply(lambda col: le.fit_transform(col))\n",
        "  names = df.columns.values\n",
        "  for i in range(len(names)):\n",
        "    if names[i] != clase:\n",
        "      if (df[names[i]].std() != 0):\n",
        "        df[names[i]] = (df[names[i]] - df[names[i]].mean())/ df[names[i]].std()\n",
        "  return df\n",
        "\n",
        "ind_clase = 7 #se debe indicar el indice de la columna objetivo, ya que esta no sera tratada\n",
        "names = df.columns.values\n",
        "dfe = cod_standarize(natocenter(df), names[ind_clase])\n",
        "dfe.describe()"
      ],
      "execution_count": null,
      "outputs": [
        {
          "output_type": "execute_result",
          "data": {
            "text/html": [
              "<div>\n",
              "<style scoped>\n",
              "    .dataframe tbody tr th:only-of-type {\n",
              "        vertical-align: middle;\n",
              "    }\n",
              "\n",
              "    .dataframe tbody tr th {\n",
              "        vertical-align: top;\n",
              "    }\n",
              "\n",
              "    .dataframe thead th {\n",
              "        text-align: right;\n",
              "    }\n",
              "</style>\n",
              "<table border=\"1\" class=\"dataframe\">\n",
              "  <thead>\n",
              "    <tr style=\"text-align: right;\">\n",
              "      <th></th>\n",
              "      <th>province</th>\n",
              "      <th>country</th>\n",
              "      <th>lat</th>\n",
              "      <th>long</th>\n",
              "      <th>date</th>\n",
              "      <th>cases</th>\n",
              "      <th>fatalities</th>\n",
              "      <th>capital</th>\n",
              "      <th>humidity</th>\n",
              "      <th>sunHour</th>\n",
              "      <th>tempC</th>\n",
              "      <th>windspeedKmph</th>\n",
              "    </tr>\n",
              "  </thead>\n",
              "  <tbody>\n",
              "    <tr>\n",
              "      <th>count</th>\n",
              "      <td>1.667700e+04</td>\n",
              "      <td>1.667700e+04</td>\n",
              "      <td>1.667700e+04</td>\n",
              "      <td>1.667700e+04</td>\n",
              "      <td>1.667700e+04</td>\n",
              "      <td>1.667700e+04</td>\n",
              "      <td>1.667700e+04</td>\n",
              "      <td>16677.000000</td>\n",
              "      <td>1.667700e+04</td>\n",
              "      <td>1.667700e+04</td>\n",
              "      <td>1.667700e+04</td>\n",
              "      <td>1.667700e+04</td>\n",
              "    </tr>\n",
              "    <tr>\n",
              "      <th>mean</th>\n",
              "      <td>8.856114e-15</td>\n",
              "      <td>-2.869982e-14</td>\n",
              "      <td>1.955063e-15</td>\n",
              "      <td>3.038943e-15</td>\n",
              "      <td>9.146125e-16</td>\n",
              "      <td>8.266670e-15</td>\n",
              "      <td>2.847574e-15</td>\n",
              "      <td>83.382683</td>\n",
              "      <td>-6.821218e-15</td>\n",
              "      <td>-1.029144e-13</td>\n",
              "      <td>-9.557694e-15</td>\n",
              "      <td>-1.395944e-15</td>\n",
              "    </tr>\n",
              "    <tr>\n",
              "      <th>std</th>\n",
              "      <td>1.000000e+00</td>\n",
              "      <td>1.000000e+00</td>\n",
              "      <td>1.000000e+00</td>\n",
              "      <td>1.000000e+00</td>\n",
              "      <td>1.000000e+00</td>\n",
              "      <td>1.000000e+00</td>\n",
              "      <td>1.000000e+00</td>\n",
              "      <td>50.832895</td>\n",
              "      <td>1.000000e+00</td>\n",
              "      <td>1.000000e+00</td>\n",
              "      <td>1.000000e+00</td>\n",
              "      <td>1.000000e+00</td>\n",
              "    </tr>\n",
              "    <tr>\n",
              "      <th>min</th>\n",
              "      <td>-1.539782e+00</td>\n",
              "      <td>-1.582249e+00</td>\n",
              "      <td>-2.954942e+00</td>\n",
              "      <td>-2.019490e+00</td>\n",
              "      <td>-1.703245e+00</td>\n",
              "      <td>-8.636565e-02</td>\n",
              "      <td>-6.702064e-02</td>\n",
              "      <td>0.000000</td>\n",
              "      <td>-3.257128e+00</td>\n",
              "      <td>-2.800738e+00</td>\n",
              "      <td>-3.517570e+00</td>\n",
              "      <td>-1.526349e+00</td>\n",
              "    </tr>\n",
              "    <tr>\n",
              "      <th>25%</th>\n",
              "      <td>-5.013515e-01</td>\n",
              "      <td>-1.010875e+00</td>\n",
              "      <td>-5.647611e-01</td>\n",
              "      <td>-9.473672e-01</td>\n",
              "      <td>-8.949376e-01</td>\n",
              "      <td>-8.636565e-02</td>\n",
              "      <td>-6.702064e-02</td>\n",
              "      <td>34.000000</td>\n",
              "      <td>-5.558395e-01</td>\n",
              "      <td>-8.485256e-01</td>\n",
              "      <td>-6.676335e-01</td>\n",
              "      <td>-7.386157e-01</td>\n",
              "    </tr>\n",
              "    <tr>\n",
              "      <th>50%</th>\n",
              "      <td>-5.013515e-01</td>\n",
              "      <td>-7.763130e-02</td>\n",
              "      <td>2.867186e-01</td>\n",
              "      <td>6.319448e-02</td>\n",
              "      <td>2.884215e-02</td>\n",
              "      <td>-8.636565e-02</td>\n",
              "      <td>-6.702064e-02</td>\n",
              "      <td>88.000000</td>\n",
              "      <td>2.916236e-01</td>\n",
              "      <td>6.781917e-02</td>\n",
              "      <td>-9.764629e-02</td>\n",
              "      <td>-2.134599e-01</td>\n",
              "    </tr>\n",
              "    <tr>\n",
              "      <th>75%</th>\n",
              "      <td>4.030878e-01</td>\n",
              "      <td>1.217483e+00</td>\n",
              "      <td>7.006116e-01</td>\n",
              "      <td>7.553214e-01</td>\n",
              "      <td>8.948856e-01</td>\n",
              "      <td>-8.368236e-02</td>\n",
              "      <td>-6.702064e-02</td>\n",
              "      <td>141.000000</td>\n",
              "      <td>7.153552e-01</td>\n",
              "      <td>9.841640e-01</td>\n",
              "      <td>8.523324e-01</td>\n",
              "      <td>4.429848e-01</td>\n",
              "    </tr>\n",
              "    <tr>\n",
              "      <th>max</th>\n",
              "      <td>2.714433e+00</td>\n",
              "      <td>1.369849e+00</td>\n",
              "      <td>1.971971e+00</td>\n",
              "      <td>2.125727e+00</td>\n",
              "      <td>1.703193e+00</td>\n",
              "      <td>2.012776e+01</td>\n",
              "      <td>3.218534e+01</td>\n",
              "      <td>153.000000</td>\n",
              "      <td>1.721718e+00</td>\n",
              "      <td>2.179396e+00</td>\n",
              "      <td>2.752290e+00</td>\n",
              "      <td>7.663877e+00</td>\n",
              "    </tr>\n",
              "  </tbody>\n",
              "</table>\n",
              "</div>"
            ],
            "text/plain": [
              "           province       country  ...         tempC  windspeedKmph\n",
              "count  1.667700e+04  1.667700e+04  ...  1.667700e+04   1.667700e+04\n",
              "mean   8.856114e-15 -2.869982e-14  ... -9.557694e-15  -1.395944e-15\n",
              "std    1.000000e+00  1.000000e+00  ...  1.000000e+00   1.000000e+00\n",
              "min   -1.539782e+00 -1.582249e+00  ... -3.517570e+00  -1.526349e+00\n",
              "25%   -5.013515e-01 -1.010875e+00  ... -6.676335e-01  -7.386157e-01\n",
              "50%   -5.013515e-01 -7.763130e-02  ... -9.764629e-02  -2.134599e-01\n",
              "75%    4.030878e-01  1.217483e+00  ...  8.523324e-01   4.429848e-01\n",
              "max    2.714433e+00  1.369849e+00  ...  2.752290e+00   7.663877e+00\n",
              "\n",
              "[8 rows x 12 columns]"
            ]
          },
          "metadata": {
            "tags": []
          },
          "execution_count": 101
        }
      ]
    },
    {
      "cell_type": "markdown",
      "metadata": {
        "id": "xUNPfQGsvo-U",
        "colab_type": "text"
      },
      "source": [
        "##***3. Reducción de datos***"
      ]
    },
    {
      "cell_type": "markdown",
      "metadata": {
        "id": "9bkLjBxlgqn7",
        "colab_type": "text"
      },
      "source": [
        "Llegados a este punto, se planteara la reducción de datos basandose en la cantidad de valores perdidos o nulos correspondientes del conjunto de datos analizado. A continuación, se imprimen la cantidad de registros y el porcentaje (%) de datos nulos por columna respectivamente."
      ]
    },
    {
      "cell_type": "code",
      "metadata": {
        "id": "R72RozUfANtb",
        "colab_type": "code",
        "colab": {
          "base_uri": "https://localhost:8080/",
          "height": 272
        },
        "outputId": "5c7abfbc-f46d-48a7-9620-5d7f2a968a23"
      },
      "source": [
        "print(\"cantidad de registros: \", len(df))\n",
        "print(\"Mostrar porcentaje (%) de datos faltantes por cada columna: \")\n",
        "print((df.isnull().sum()/len(df))*100)"
      ],
      "execution_count": null,
      "outputs": [
        {
          "output_type": "stream",
          "text": [
            "cantidad de registros:  16677\n",
            "Mostrar porcentaje (%) de datos faltantes por cada columna: \n",
            "province         53.588775\n",
            "country           0.000000\n",
            "lat               0.000000\n",
            "long              0.000000\n",
            "date              0.000000\n",
            "cases             0.000000\n",
            "fatalities        0.000000\n",
            "capital           0.000000\n",
            "humidity          1.061342\n",
            "sunHour           1.061342\n",
            "tempC             1.061342\n",
            "windspeedKmph     1.061342\n",
            "dtype: float64\n"
          ],
          "name": "stdout"
        }
      ]
    },
    {
      "cell_type": "markdown",
      "metadata": {
        "id": "fvAbz2958Unv",
        "colab_type": "text"
      },
      "source": [
        "Dados los datos anteriores, se argumenta que existen datos faltantes en los siguientes atributos. Asimismo, se muestra el porcentaje de valores nulos asociado: \n",
        "\n",
        "* ***Provincia (province) : 53.6%***\n",
        "* ***Humedad (humidity) : 1.1%***\n",
        "* ***Horas de luz solar (sunHour) : 1.1%*** \n",
        "* ***Temperatura en grados Celcius (tempC) : 1.1%***\n",
        "* ***Velocidad del viento en km/h (windspeedKmph) : 1.1%***\n",
        "\n",
        "Como se puede observar, existe un porcentaje muy significativo de valores faltantes en la columna ***Provincia (province)***, ya que representa un ***53.6%*** de perdida. Por esta razón, se plantea la ***Eliminación de la columna Provincia (province)***. Esta decisión, se argumenta en el hecho de que menos del ***50%*** de los datos en dicha columna estan registrados. "
      ]
    },
    {
      "cell_type": "markdown",
      "metadata": {
        "id": "b24sNZRhjDPs",
        "colab_type": "text"
      },
      "source": [
        "Por otro lado, el porcentaje de nulos para ***Humedad (humidity), Horas de luz solar (sunHour), Temperatura en grados Celcius (tempC) y Velocidad del viento en km/h (windspeedKmph)*** es practicamente el mismo. En ese sentido, se sospecha que los valores nulos en las 4 columnas mencionadas correspondan a las mismas filas o instancias del conjunto de datos. En primera instancia, es necesario identificar la cantidad de valores nulos en las 4 columnas detallas. En el siguiente codigo, se imprime la cantidad de valores nulos por columna. "
      ]
    },
    {
      "cell_type": "code",
      "metadata": {
        "id": "R_5RmnpwgnxY",
        "colab_type": "code",
        "colab": {
          "base_uri": "https://localhost:8080/",
          "height": 255
        },
        "outputId": "7a7510a3-9427-41db-8e7a-247c76644ea6"
      },
      "source": [
        "print(\"Cantidad de valores nulos en las columnas mencionadas: \")\n",
        "df.isnull().sum()"
      ],
      "execution_count": null,
      "outputs": [
        {
          "output_type": "stream",
          "text": [
            "Cantidad de valores nulos en las columnas mencionadas: \n"
          ],
          "name": "stdout"
        },
        {
          "output_type": "execute_result",
          "data": {
            "text/plain": [
              "province         8937\n",
              "country             0\n",
              "lat                 0\n",
              "long                0\n",
              "date                0\n",
              "cases               0\n",
              "fatalities          0\n",
              "capital             0\n",
              "humidity          177\n",
              "sunHour           177\n",
              "tempC             177\n",
              "windspeedKmph     177\n",
              "dtype: int64"
            ]
          },
          "metadata": {
            "tags": []
          },
          "execution_count": 103
        }
      ]
    },
    {
      "cell_type": "markdown",
      "metadata": {
        "id": "HuMPjXHZ9JcN",
        "colab_type": "text"
      },
      "source": [
        "Ahora bien, es factible concluir que existen exactamente 177 valores nulos en cada una de las columnas ***Humedad (humidity), Horas de luz solar (sunHour), Temperatura en grados Celcius (tempC) y Velocidad del viento en km/h (windspeedKmph)***. Se requiere comprobar si estos valores nulos corresponden a las mismas instancias en el conjunto de datos. ***En otras palabras, saber si existen 177 registros que cuenten con datos faltantes en las 4 columnas especificadas***. Para ello, se realizara la respectiva verificación y conteo. El siguiente codigo permite contar ***todos los registros que poseen valores nulos en todas las 4 columnas mencionadas***. El resultado de dicho conteo, se imprime respectivamente. "
      ]
    },
    {
      "cell_type": "code",
      "metadata": {
        "id": "a9Nedb0u8V_t",
        "colab_type": "code",
        "colab": {
          "base_uri": "https://localhost:8080/",
          "height": 34
        },
        "outputId": "16510d4d-9f91-4004-dd78-e6fcf2c539c3"
      },
      "source": [
        "arrna = pd.isnull(df).values\n",
        "contna_cols = 0\n",
        "for i in range(len(arrna)):\n",
        "  contna_rows = 0\n",
        "  for j in range(len(arrna[i])):\n",
        "    if (arrna[i][j]): contna_rows += 1\n",
        "  if (contna_rows >= 4): contna_cols += 1\n",
        "print(contna_cols)"
      ],
      "execution_count": null,
      "outputs": [
        {
          "output_type": "stream",
          "text": [
            "177\n"
          ],
          "name": "stdout"
        }
      ]
    },
    {
      "cell_type": "markdown",
      "metadata": {
        "id": "a0JuWVH3_Si_",
        "colab_type": "text"
      },
      "source": [
        "El resultado del conteo anterior, es efectivamente ***177***. Con ello, se comprueba que ***existen 177 registros que cuenten con datos faltantes en las columnas Humedad (humidity), Horas de luz solar (sunHour), Temperatura en grados Celcius (tempC) y Velocidad del viento en km/h (windspeedKmph)***. Ello implica aproximadamente un ***30%*** de valores faltantes por fila o registro. En ese sentido, se plantea la eliminación de aquellos registros que poseean un ***30%*** de valores faltantes o más. Con respecto a esta sección, se ha planteado la ***Eliminación de la columna Provincia (province)*** y ***la eliminación de los registros especificados***. Dado dicha información, se derivan 2 decisiones de experimentación correspondiente a ***Reducción de datos*** para esta parte:"
      ]
    },
    {
      "cell_type": "markdown",
      "metadata": {
        "id": "m5yXBayKCD-8",
        "colab_type": "text"
      },
      "source": [
        "* ***Primera decisión: Consiste en eliminar las columnas que poseean un 50% o más de datos faltantes y los registros que poseean un 30% o más de valores faltantes.*** La implementación de la misma, se muestra a continuación. Con respecto a la tecnica, se debe indicar el porcentaje minimo de datos nulos en una columna para poder eliminarla y el porcentaje minimo de datos nulos en una fila para poder eliminarla respectivamente. Dichos porcentajes deben indicarse como parametros de la función correspondiente a la implementación de la tecnica. Luego de aplicar la tecnica, se imprime la cantidad de valores nulos por cada columna restante. ***Se comprueba la eliminación total de nulos en el conjunto de datos***. "
      ]
    },
    {
      "cell_type": "code",
      "metadata": {
        "id": "iuF0mfoeFSe2",
        "colab_type": "code",
        "colab": {
          "base_uri": "https://localhost:8080/",
          "height": 221
        },
        "outputId": "c3fd8bbf-5130-4012-ecdc-394a041b280f"
      },
      "source": [
        "def reducedata(df, pcol, prow): #Implementación de la tecnica\n",
        "  names = df.columns.values\n",
        "  arrna = pd.isnull(df).values\n",
        "  for j in range(len(arrna[0])):\n",
        "    contna = 0\n",
        "    for i in range(len(arrna)):\n",
        "      if (arrna[i][j]): contna += 1\n",
        "    if (contna/len(arrna) >= pcol): df = df.drop([names[j]], axis=1)\n",
        "  for i in range(len(arrna)):\n",
        "    contna = 0\n",
        "    for j in range(len(arrna[i])):\n",
        "      if (arrna[i][j]): contna += 1\n",
        "    if (contna/len(arrna[i]) >= prow): df = df.drop([i],axis=0)\n",
        "  return df\n",
        "\n",
        "reducedf = reducedata(df, 0.5, 0.3) #Se deben indicar los porcentajes minimos de valores nulos para eliminar columnas y filas respectivamente. \n",
        "reducedf.isnull().sum()"
      ],
      "execution_count": null,
      "outputs": [
        {
          "output_type": "execute_result",
          "data": {
            "text/plain": [
              "country          0\n",
              "lat              0\n",
              "long             0\n",
              "date             0\n",
              "cases            0\n",
              "fatalities       0\n",
              "capital          0\n",
              "humidity         0\n",
              "sunHour          0\n",
              "tempC            0\n",
              "windspeedKmph    0\n",
              "dtype: int64"
            ]
          },
          "metadata": {
            "tags": []
          },
          "execution_count": 105
        }
      ]
    },
    {
      "cell_type": "markdown",
      "metadata": {
        "id": "l_AwWqdyM4vz",
        "colab_type": "text"
      },
      "source": [
        "* ***Segunda decisión: Consiste en no aplicar ningun tipo de reducción de datos***. Esta decisión se plantea como la antitesis de la tecnica vista anteriormente. ***Se plantea ello de esta manera, ya que se desea comparar el impacto de la aplicación y no aplicación de la reducción de datos sobre el desempeño de los clasificadores a probar***. Al no aplicarse ningun tipo de reducción, no es necesario la implementación de alguna tecnica."
      ]
    },
    {
      "cell_type": "markdown",
      "metadata": {
        "id": "extMG6atv2Hi",
        "colab_type": "text"
      },
      "source": [
        "##***4. Discretización de datos***"
      ]
    },
    {
      "cell_type": "markdown",
      "metadata": {
        "id": "oWC7mlIxO-He",
        "colab_type": "text"
      },
      "source": [
        "Ahora bien, con respecto a la discretización. ***El atributo clase o objetivo, identificado en el conjunto de datos, es de tipo numerico. Se debe discretizar dicha variable con el objetivo de facilitar el trabajo con clasificadores***. El atributo clase o objetivo corresponde a aquel que se va a predecir, por lo tanto su discretización facilita el proceso de predicción. Este atributo corresponde a la columna ***Casos (cases)***. ***Es importante considerar que los intervalos resultantes, luego de la discretización, deben contender la cantidad de datos más parecida posible entre ellos***. En ese sentido, se plantean las siguientes decisiones: "
      ]
    },
    {
      "cell_type": "markdown",
      "metadata": {
        "id": "0AF3jkDsXmuJ",
        "colab_type": "text"
      },
      "source": [
        "* ***Primera decisión: Se trata de discretizar la variable clase o objetivo Casos (cases) en 2 intervalos***. La implementación de la tecnica respectiva se detalla a continuación. ***Esta parte no es del todo generica, ya que se debe de indicar el indice de la columna clase o objetivo***. Se debe indicar dicho indice, ya que la discretización solo se aplicara sobre la columna ***Casos (cases)***. Cabe mencionar que se esta priorizando que ambos intervalos poseean la cantidad de datos lo más parecida posible. Luego de aplicada la tecnica, se imprime la cantidad de datos por cada clase o intervalo generado y codificado como ***0 o 1***. "
      ]
    },
    {
      "cell_type": "code",
      "metadata": {
        "id": "YV0uO7eE_E-S",
        "colab_type": "code",
        "colab": {
          "base_uri": "https://localhost:8080/",
          "height": 68
        },
        "outputId": "dd8952d7-315f-4593-b522-e7ae5dad45db"
      },
      "source": [
        "def discre2(dframe, col): #Implementación de la tecnica \n",
        "  dframe[col] = pd.qcut(dframe[col], 3, duplicates = 'drop')\n",
        "  for i in range(len(dframe[col].unique())): \n",
        "    dframe[col] = dframe[col].replace([dframe[col].unique()[i]], i)\n",
        "  dframe[col] = dframe[col].astype(int)\n",
        "  return dframe\n",
        "\n",
        "ind_col = 5 #Se debe indicar el indice de la columna a discretizar\n",
        "names = df.columns.values\n",
        "dfd2 = df.copy()\n",
        "dfd2 = discre2(dfd2, names[ind_col])\n",
        "dfd2[names[ind_col]].value_counts()"
      ],
      "execution_count": null,
      "outputs": [
        {
          "output_type": "execute_result",
          "data": {
            "text/plain": [
              "0    11158\n",
              "1     5519\n",
              "Name: cases, dtype: int64"
            ]
          },
          "metadata": {
            "tags": []
          },
          "execution_count": 106
        }
      ]
    },
    {
      "cell_type": "markdown",
      "metadata": {
        "id": "udZfVWOqaVeX",
        "colab_type": "text"
      },
      "source": [
        "* ***Segunda decisión: Se trata de discretizar la variable clase o objetivo Casos (cases) en 3 intervalos***. La implementación de la tecnica respectiva se detalla a continuación. ***Esta parte no es del todo generica, ya que se debe de indicar el indice de la columna clase o objetivo***. Se debe indicar dicho indice, ya que la discretización solo se aplicara sobre la columna ***Casos (cases)***. Cabe mencionar que se esta priorizando que los 3 intervalos poseean la cantidad de datos lo más parecida posible. Luego de aplicada la tecnica, se imprime la cantidad de datos por cada clase o intervalo generado y codificado como ***0, 1 o 2***."
      ]
    },
    {
      "cell_type": "code",
      "metadata": {
        "id": "w5qkEsk4auOv",
        "colab_type": "code",
        "colab": {
          "base_uri": "https://localhost:8080/",
          "height": 85
        },
        "outputId": "558d1c2c-2907-4aca-ff3b-d14bf50b34f7"
      },
      "source": [
        "def discre3(dframe, col): #Implementación de la tecnica \n",
        "  dframe[col] = pd.qcut(dframe[col], 6, duplicates = 'drop')\n",
        "  for i in range(len(dframe[col].unique())): \n",
        "    dframe[col] = dframe[col].replace([dframe[col].unique()[i]], i)\n",
        "  dframe[col] = dframe[col].astype(int)\n",
        "  return dframe\n",
        "\n",
        "ind_col = 5 #Se debe indicar el indice de la columna a discretizar\n",
        "names = df.columns.values\n",
        "dfd3 = df.copy()\n",
        "dfd3 = discre3(dfd3, names[ind_col])\n",
        "dfd3[names[ind_col]].value_counts()"
      ],
      "execution_count": null,
      "outputs": [
        {
          "output_type": "execute_result",
          "data": {
            "text/plain": [
              "0    11158\n",
              "2     2770\n",
              "1     2749\n",
              "Name: cases, dtype: int64"
            ]
          },
          "metadata": {
            "tags": []
          },
          "execution_count": 107
        }
      ]
    },
    {
      "cell_type": "markdown",
      "metadata": {
        "id": "Hlo6ECLmwHLC",
        "colab_type": "text"
      },
      "source": [
        "##***5. Feature Construction***"
      ]
    },
    {
      "cell_type": "markdown",
      "metadata": {
        "id": "9L5A_flzdHbv",
        "colab_type": "text"
      },
      "source": [
        "Continuando con el asunto, en el conjunto de datos analizado, se ha detectado una atributo ***Fecha (date)***. Debido a la naturaleza de este atributo, no es posible trabajar el mismo como una variable categorica. Por lo tanto, se plantea construir, a partir de esta caracteristica, 3 caracteristicas que representen lo mismo. En otras palabras, remplazar el atributo ***Fecha (date)*** por caracteristicas como ***Dia (day), Mes (month) y Año (year)***. Con respecto a ello, se plantean 2 decisiones de experimentación. En la primera, se realizara lo mencionado. Por otro lado, en la segunda decisión, no se construira ninguna nueva caracteristica. Esto ultimo con el objetivo de comprobar el impacto de ***Feature Construction***. "
      ]
    },
    {
      "cell_type": "markdown",
      "metadata": {
        "id": "SwO-O9KJhjDn",
        "colab_type": "text"
      },
      "source": [
        "* ***Primera decisión: Remplazar la caracteristica Fecha (date) por tres nuevas caracteristicas correspondientes a Dia (day), Mes (month) y Año (year) respectivamente.*** La implementación de la tecnica respectiva se detalla a continuación. ***Esta parte no es del todo generica, ya que se debe de indicar el indice de la columna a tratar***. En este caso, se debe indicar el indice de la caracteristica ***Fecha (date)***. Luego de aplicada la tecnica, se imprimen los 5 primeros registros del conjunto de datos. Asimismo, se evidencia el remplazo de la caracteristica ***Fecha (date)*** por las caracteristicas ***Dia (day), Mes (month) y Año (year) respectivamente***."
      ]
    },
    {
      "cell_type": "code",
      "metadata": {
        "id": "P9khvEBFAO_i",
        "colab_type": "code",
        "colab": {
          "base_uri": "https://localhost:8080/",
          "height": 204
        },
        "outputId": "873ec789-77a0-443e-ba25-e431e97edaf7"
      },
      "source": [
        "def datetodmy(df, date): #implementación de la técnica\n",
        "  df[date] =  pd.to_datetime(df[date])\n",
        "  df[\"day\"] = df[date].map(lambda x: x.day)\n",
        "  df[\"month\"] = df[date].map(lambda x: x.month)\n",
        "  df[\"year\"] = df[date].map(lambda x: x.year)\n",
        "  df = df.drop([date], axis=1)\n",
        "  return df\n",
        "\n",
        "names = df.columns.values\n",
        "ind_date = 4 #Se debe indicar el indice de la columna a tratar\n",
        "dfdmy = df.copy()\n",
        "dfdmy = datetodmy(dfdmy, names[ind_date])\n",
        "dfdmy.head()"
      ],
      "execution_count": null,
      "outputs": [
        {
          "output_type": "execute_result",
          "data": {
            "text/html": [
              "<div>\n",
              "<style scoped>\n",
              "    .dataframe tbody tr th:only-of-type {\n",
              "        vertical-align: middle;\n",
              "    }\n",
              "\n",
              "    .dataframe tbody tr th {\n",
              "        vertical-align: top;\n",
              "    }\n",
              "\n",
              "    .dataframe thead th {\n",
              "        text-align: right;\n",
              "    }\n",
              "</style>\n",
              "<table border=\"1\" class=\"dataframe\">\n",
              "  <thead>\n",
              "    <tr style=\"text-align: right;\">\n",
              "      <th></th>\n",
              "      <th>province</th>\n",
              "      <th>country</th>\n",
              "      <th>lat</th>\n",
              "      <th>long</th>\n",
              "      <th>cases</th>\n",
              "      <th>fatalities</th>\n",
              "      <th>capital</th>\n",
              "      <th>humidity</th>\n",
              "      <th>sunHour</th>\n",
              "      <th>tempC</th>\n",
              "      <th>windspeedKmph</th>\n",
              "      <th>day</th>\n",
              "      <th>month</th>\n",
              "      <th>year</th>\n",
              "    </tr>\n",
              "  </thead>\n",
              "  <tbody>\n",
              "    <tr>\n",
              "      <th>0</th>\n",
              "      <td>NaN</td>\n",
              "      <td>Afghanistan</td>\n",
              "      <td>33.0</td>\n",
              "      <td>65.0</td>\n",
              "      <td>0</td>\n",
              "      <td>0</td>\n",
              "      <td>Kabul</td>\n",
              "      <td>65.0</td>\n",
              "      <td>8.7</td>\n",
              "      <td>-1.0</td>\n",
              "      <td>8.0</td>\n",
              "      <td>22</td>\n",
              "      <td>1</td>\n",
              "      <td>2020</td>\n",
              "    </tr>\n",
              "    <tr>\n",
              "      <th>1</th>\n",
              "      <td>NaN</td>\n",
              "      <td>Afghanistan</td>\n",
              "      <td>33.0</td>\n",
              "      <td>65.0</td>\n",
              "      <td>0</td>\n",
              "      <td>0</td>\n",
              "      <td>Kabul</td>\n",
              "      <td>59.0</td>\n",
              "      <td>8.7</td>\n",
              "      <td>-3.0</td>\n",
              "      <td>8.0</td>\n",
              "      <td>23</td>\n",
              "      <td>1</td>\n",
              "      <td>2020</td>\n",
              "    </tr>\n",
              "    <tr>\n",
              "      <th>2</th>\n",
              "      <td>NaN</td>\n",
              "      <td>Afghanistan</td>\n",
              "      <td>33.0</td>\n",
              "      <td>65.0</td>\n",
              "      <td>0</td>\n",
              "      <td>0</td>\n",
              "      <td>Kabul</td>\n",
              "      <td>71.0</td>\n",
              "      <td>7.1</td>\n",
              "      <td>0.0</td>\n",
              "      <td>7.0</td>\n",
              "      <td>24</td>\n",
              "      <td>1</td>\n",
              "      <td>2020</td>\n",
              "    </tr>\n",
              "    <tr>\n",
              "      <th>3</th>\n",
              "      <td>NaN</td>\n",
              "      <td>Afghanistan</td>\n",
              "      <td>33.0</td>\n",
              "      <td>65.0</td>\n",
              "      <td>0</td>\n",
              "      <td>0</td>\n",
              "      <td>Kabul</td>\n",
              "      <td>79.0</td>\n",
              "      <td>8.7</td>\n",
              "      <td>0.0</td>\n",
              "      <td>7.0</td>\n",
              "      <td>25</td>\n",
              "      <td>1</td>\n",
              "      <td>2020</td>\n",
              "    </tr>\n",
              "    <tr>\n",
              "      <th>4</th>\n",
              "      <td>NaN</td>\n",
              "      <td>Afghanistan</td>\n",
              "      <td>33.0</td>\n",
              "      <td>65.0</td>\n",
              "      <td>0</td>\n",
              "      <td>0</td>\n",
              "      <td>Kabul</td>\n",
              "      <td>64.0</td>\n",
              "      <td>8.7</td>\n",
              "      <td>-1.0</td>\n",
              "      <td>8.0</td>\n",
              "      <td>26</td>\n",
              "      <td>1</td>\n",
              "      <td>2020</td>\n",
              "    </tr>\n",
              "  </tbody>\n",
              "</table>\n",
              "</div>"
            ],
            "text/plain": [
              "  province      country   lat  long  ...  windspeedKmph  day month  year\n",
              "0      NaN  Afghanistan  33.0  65.0  ...            8.0   22     1  2020\n",
              "1      NaN  Afghanistan  33.0  65.0  ...            8.0   23     1  2020\n",
              "2      NaN  Afghanistan  33.0  65.0  ...            7.0   24     1  2020\n",
              "3      NaN  Afghanistan  33.0  65.0  ...            7.0   25     1  2020\n",
              "4      NaN  Afghanistan  33.0  65.0  ...            8.0   26     1  2020\n",
              "\n",
              "[5 rows x 14 columns]"
            ]
          },
          "metadata": {
            "tags": []
          },
          "execution_count": 108
        }
      ]
    },
    {
      "cell_type": "markdown",
      "metadata": {
        "id": "n2UqwFnhBzDx",
        "colab_type": "text"
      },
      "source": [
        "* ***Segunda decisión: Se trata de no construir ninguna nueva caracteristica y dejar el conjunto de datos tal cual***. Esta decisión se plantea como la antitesis de la tecnica vista anteriormente. ***Se plantea ello de esta manera, ya que se desea comparar el impacto de la aplicación y no aplicación de Feature Construction sobre el desempeño de los clasificadores a probar***. Al no aplicarse ningun tipo de ***Feature Construction***, no es necesario la implementación de alguna técnica. "
      ]
    },
    {
      "cell_type": "markdown",
      "metadata": {
        "id": "Q9F9-JPXwSco",
        "colab_type": "text"
      },
      "source": [
        "##***6. Tabla o reporte final***"
      ]
    },
    {
      "cell_type": "markdown",
      "metadata": {
        "id": "EOoJReBlUFb8",
        "colab_type": "text"
      },
      "source": [
        "Ahora bien, se debe dar un ***reporte*** como resumen final de lo aplicado en esta parte. A continuación, se encuentra la tabla correspondiente:\n",
        "\n",
        "![alt text](https://i.ibb.co/88h7tmj/tabla-reporte-eb.png)\n",
        "\n",
        "Esta tabla corresponde a la tabla dada en el enunciado del examen respectivo. Asimismo, en dicha tabla se reportan todas las tecnicas o decisiones a aplicar y combinar en los ***Workflows*** de la parte 3. ***Cada tecnica o decisión fue correctamente sustentada en los apartados anteriores*** y posee una nomenclatura respectiva a la actividad realizada. En ese sentido, las tecnicas de ***limpieza de datos*** se identifican como ***L1*** y ***L2***. Analogicamente, el mismo proceso se cumple para el resto de actividades. "
      ]
    },
    {
      "cell_type": "markdown",
      "metadata": {
        "id": "9KueVIRXukSF",
        "colab_type": "text"
      },
      "source": [
        "#***III. Feature Selection***"
      ]
    },
    {
      "cell_type": "markdown",
      "metadata": {
        "id": "uEjDGyDLXhxq",
        "colab_type": "text"
      },
      "source": [
        "## ***1. Filtering***"
      ]
    },
    {
      "cell_type": "markdown",
      "metadata": {
        "id": "4iM-N7sZYP7L",
        "colab_type": "text"
      },
      "source": [
        "### ***Aplicación de Método de filtrado con correlación de Pearson***"
      ]
    },
    {
      "cell_type": "markdown",
      "metadata": {
        "id": "chlaM-TuemfM",
        "colab_type": "text"
      },
      "source": [
        "En el siguiente codigo, se esta implementando una técnica de ***Filtering***. Dicha tecnica corresponde a la aplicación de el ***Método de filtrado con correlación de Pearson***. ***Esta parte del codigo no es del todo generica, ya que se debe indicar el indice de la columna clase o objetivo***. La columna clase o objetivo debe ser especificada con el objetivo de que no entre en el proceso de ***selección de caracteristicas***. Luego de la aplicación de la técnica, se imprime el conjunto de datos resultante con las ***caracteristicas seleccionadas y el atributo objetivo***.  "
      ]
    },
    {
      "cell_type": "code",
      "metadata": {
        "id": "3CdL-eOFYwvc",
        "colab_type": "code",
        "colab": {
          "base_uri": "https://localhost:8080/",
          "height": 204
        },
        "outputId": "d3c2351e-2ac8-4611-acae-58fcc6e5e22c"
      },
      "source": [
        "def filterpearson(df, clase): #Implementación de la técnica\n",
        "  names = df.columns.values\n",
        "  cor = df.corr()\n",
        "  cor_target = abs(cor[clase])\n",
        "  peacols = []\n",
        "  for i in range(len(names)):\n",
        "    if (names[i] != clase and cor_target[i] >= 0.1):\n",
        "      peacols += [names[i]]\n",
        "  df_x = df[peacols]\n",
        "  df_y = df[clase]\n",
        "  df = pd.concat([df_x,df_y],axis=1)\n",
        "  return df\n",
        "\n",
        "ind_clase = 5 #Se debe indicar el indice de la columna clase o objetivo\n",
        "names = df.columns.values\n",
        "dffp = filterpearson(cod_standarize(natocenter(df), names[ind_clase]), names[ind_clase])\n",
        "dffp.head()"
      ],
      "execution_count": null,
      "outputs": [
        {
          "output_type": "execute_result",
          "data": {
            "text/html": [
              "<div>\n",
              "<style scoped>\n",
              "    .dataframe tbody tr th:only-of-type {\n",
              "        vertical-align: middle;\n",
              "    }\n",
              "\n",
              "    .dataframe tbody tr th {\n",
              "        vertical-align: top;\n",
              "    }\n",
              "\n",
              "    .dataframe thead th {\n",
              "        text-align: right;\n",
              "    }\n",
              "</style>\n",
              "<table border=\"1\" class=\"dataframe\">\n",
              "  <thead>\n",
              "    <tr style=\"text-align: right;\">\n",
              "      <th></th>\n",
              "      <th>fatalities</th>\n",
              "      <th>humidity</th>\n",
              "      <th>cases</th>\n",
              "    </tr>\n",
              "  </thead>\n",
              "  <tbody>\n",
              "    <tr>\n",
              "      <th>0</th>\n",
              "      <td>-0.067021</td>\n",
              "      <td>-0.079141</td>\n",
              "      <td>0</td>\n",
              "    </tr>\n",
              "    <tr>\n",
              "      <th>1</th>\n",
              "      <td>-0.067021</td>\n",
              "      <td>-0.396940</td>\n",
              "      <td>0</td>\n",
              "    </tr>\n",
              "    <tr>\n",
              "      <th>2</th>\n",
              "      <td>-0.067021</td>\n",
              "      <td>0.238657</td>\n",
              "      <td>0</td>\n",
              "    </tr>\n",
              "    <tr>\n",
              "      <th>3</th>\n",
              "      <td>-0.067021</td>\n",
              "      <td>0.662389</td>\n",
              "      <td>0</td>\n",
              "    </tr>\n",
              "    <tr>\n",
              "      <th>4</th>\n",
              "      <td>-0.067021</td>\n",
              "      <td>-0.132108</td>\n",
              "      <td>0</td>\n",
              "    </tr>\n",
              "  </tbody>\n",
              "</table>\n",
              "</div>"
            ],
            "text/plain": [
              "   fatalities  humidity  cases\n",
              "0   -0.067021 -0.079141      0\n",
              "1   -0.067021 -0.396940      0\n",
              "2   -0.067021  0.238657      0\n",
              "3   -0.067021  0.662389      0\n",
              "4   -0.067021 -0.132108      0"
            ]
          },
          "metadata": {
            "tags": []
          },
          "execution_count": 109
        }
      ]
    },
    {
      "cell_type": "markdown",
      "metadata": {
        "id": "Uua8lBoRX7cf",
        "colab_type": "text"
      },
      "source": [
        "## ***2. Embedded***"
      ]
    },
    {
      "cell_type": "markdown",
      "metadata": {
        "id": "SGBHugxXg9Bs",
        "colab_type": "text"
      },
      "source": [
        "### ***Aplicación de Método embebido***"
      ]
    },
    {
      "cell_type": "markdown",
      "metadata": {
        "id": "EUxQ0clEjBqW",
        "colab_type": "text"
      },
      "source": [
        "En el siguiente codigo, se esta implementando una técnica de ***Embedded***. Dicha tecnica corresponde a la aplicación de el ***Método de embebido***. ***Esta parte del codigo no es del todo generica, ya que se debe indicar el indice de la columna clase o objetivo***. La columna clase o objetivo debe ser especificada con el objetivo de que no entre en el proceso de ***selección de caracteristicas***. Luego de la aplicación de la técnica, se imprime el conjunto de datos resultante con las ***caracteristicas seleccionadas y el atributo objetivo***."
      ]
    },
    {
      "cell_type": "code",
      "metadata": {
        "id": "OBQDxSa9gZv-",
        "colab_type": "code",
        "colab": {
          "base_uri": "https://localhost:8080/",
          "height": 204
        },
        "outputId": "39d4499e-a8a2-445d-f3fe-bebf16d2ab99"
      },
      "source": [
        "from sklearn.linear_model import LassoCV\n",
        "\n",
        "def embebido(df, clase): #Implementación de la técnica\n",
        "  X = df.drop(clase, 1) \n",
        "  Y = df[clase]\n",
        "  reg = LassoCV()\n",
        "  reg.fit(X, Y)\n",
        "  coef = pd.Series(reg.coef_, index = X.columns)\n",
        "  embbcols = coef[abs(coef) > 0.1].index\n",
        "  df_x = df[embbcols]\n",
        "  df_y = df[clase]\n",
        "  df = pd.concat([df_x,df_y],axis=1)\n",
        "  return df\n",
        "\n",
        "ind_clase = 5 #Se debe indicar el indice de la columna clase o objetivo\n",
        "names = df.columns.values\n",
        "emdf = embebido(cod_standarize(natocenter(df), names[ind_clase]), names[ind_clase])\n",
        "emdf.head()"
      ],
      "execution_count": null,
      "outputs": [
        {
          "output_type": "execute_result",
          "data": {
            "text/html": [
              "<div>\n",
              "<style scoped>\n",
              "    .dataframe tbody tr th:only-of-type {\n",
              "        vertical-align: middle;\n",
              "    }\n",
              "\n",
              "    .dataframe tbody tr th {\n",
              "        vertical-align: top;\n",
              "    }\n",
              "\n",
              "    .dataframe thead th {\n",
              "        text-align: right;\n",
              "    }\n",
              "</style>\n",
              "<table border=\"1\" class=\"dataframe\">\n",
              "  <thead>\n",
              "    <tr style=\"text-align: right;\">\n",
              "      <th></th>\n",
              "      <th>province</th>\n",
              "      <th>lat</th>\n",
              "      <th>long</th>\n",
              "      <th>date</th>\n",
              "      <th>fatalities</th>\n",
              "      <th>capital</th>\n",
              "      <th>humidity</th>\n",
              "      <th>sunHour</th>\n",
              "      <th>tempC</th>\n",
              "      <th>windspeedKmph</th>\n",
              "      <th>cases</th>\n",
              "    </tr>\n",
              "  </thead>\n",
              "  <tbody>\n",
              "    <tr>\n",
              "      <th>0</th>\n",
              "      <td>-0.501352</td>\n",
              "      <td>0.286719</td>\n",
              "      <td>0.755321</td>\n",
              "      <td>-0.086630</td>\n",
              "      <td>-0.067021</td>\n",
              "      <td>-0.459991</td>\n",
              "      <td>-0.079141</td>\n",
              "      <td>0.067819</td>\n",
              "      <td>-1.617612</td>\n",
              "      <td>-0.607327</td>\n",
              "      <td>0</td>\n",
              "    </tr>\n",
              "    <tr>\n",
              "      <th>1</th>\n",
              "      <td>-0.501352</td>\n",
              "      <td>0.286719</td>\n",
              "      <td>0.755321</td>\n",
              "      <td>0.028842</td>\n",
              "      <td>-0.067021</td>\n",
              "      <td>-0.459991</td>\n",
              "      <td>-0.396940</td>\n",
              "      <td>0.067819</td>\n",
              "      <td>-1.807608</td>\n",
              "      <td>-0.607327</td>\n",
              "      <td>0</td>\n",
              "    </tr>\n",
              "    <tr>\n",
              "      <th>2</th>\n",
              "      <td>-0.501352</td>\n",
              "      <td>0.286719</td>\n",
              "      <td>0.755321</td>\n",
              "      <td>0.144315</td>\n",
              "      <td>-0.067021</td>\n",
              "      <td>-0.459991</td>\n",
              "      <td>0.238657</td>\n",
              "      <td>-0.569638</td>\n",
              "      <td>-1.522614</td>\n",
              "      <td>-0.738616</td>\n",
              "      <td>0</td>\n",
              "    </tr>\n",
              "    <tr>\n",
              "      <th>3</th>\n",
              "      <td>-0.501352</td>\n",
              "      <td>0.286719</td>\n",
              "      <td>0.755321</td>\n",
              "      <td>0.259787</td>\n",
              "      <td>-0.067021</td>\n",
              "      <td>-0.459991</td>\n",
              "      <td>0.662389</td>\n",
              "      <td>0.067819</td>\n",
              "      <td>-1.522614</td>\n",
              "      <td>-0.738616</td>\n",
              "      <td>0</td>\n",
              "    </tr>\n",
              "    <tr>\n",
              "      <th>4</th>\n",
              "      <td>-0.501352</td>\n",
              "      <td>0.286719</td>\n",
              "      <td>0.755321</td>\n",
              "      <td>0.375260</td>\n",
              "      <td>-0.067021</td>\n",
              "      <td>-0.459991</td>\n",
              "      <td>-0.132108</td>\n",
              "      <td>0.067819</td>\n",
              "      <td>-1.617612</td>\n",
              "      <td>-0.607327</td>\n",
              "      <td>0</td>\n",
              "    </tr>\n",
              "  </tbody>\n",
              "</table>\n",
              "</div>"
            ],
            "text/plain": [
              "   province       lat      long  ...     tempC  windspeedKmph  cases\n",
              "0 -0.501352  0.286719  0.755321  ... -1.617612      -0.607327      0\n",
              "1 -0.501352  0.286719  0.755321  ... -1.807608      -0.607327      0\n",
              "2 -0.501352  0.286719  0.755321  ... -1.522614      -0.738616      0\n",
              "3 -0.501352  0.286719  0.755321  ... -1.522614      -0.738616      0\n",
              "4 -0.501352  0.286719  0.755321  ... -1.617612      -0.607327      0\n",
              "\n",
              "[5 rows x 11 columns]"
            ]
          },
          "metadata": {
            "tags": []
          },
          "execution_count": 154
        }
      ]
    },
    {
      "cell_type": "markdown",
      "metadata": {
        "id": "kZ06JtH6X7tz",
        "colab_type": "text"
      },
      "source": [
        "## ***3. Wrapper***"
      ]
    },
    {
      "cell_type": "markdown",
      "metadata": {
        "id": "meBiQaEbjuFI",
        "colab_type": "text"
      },
      "source": [
        "### ***Aplicación de Método Wrapper: Eliminación de Característica Recursiva***"
      ]
    },
    {
      "cell_type": "markdown",
      "metadata": {
        "id": "8x_Jkjy9mqH4",
        "colab_type": "text"
      },
      "source": [
        "En el siguiente codigo, se esta implementando una técnica de ***Wrapper***. Dicha tecnica corresponde a la aplicación de el ***Método Wrapper: Eliminación de Característica Recursiva***. ***Esta parte del codigo no es del todo generica, ya que se debe indicar el indice de la columna clase o objetivo***. La columna clase o objetivo debe ser especificada con el objetivo de que no entre en el proceso de ***selección de caracteristicas***. Luego de la aplicación de la técnica, se imprime el conjunto de datos resultante con las ***caracteristicas seleccionadas y el atributo objetivo***."
      ]
    },
    {
      "cell_type": "code",
      "metadata": {
        "id": "WkGs_2c1gaTT",
        "colab_type": "code",
        "colab": {
          "base_uri": "https://localhost:8080/",
          "height": 204
        },
        "outputId": "9f992392-e3f4-4719-da53-8c79afe4db41"
      },
      "source": [
        "from sklearn.model_selection import train_test_split\n",
        "from sklearn.linear_model import LinearRegression\n",
        "from sklearn.feature_selection import RFE\n",
        "\n",
        "def recursivewrapper(df, clase): #Implementación de la técnica\n",
        "  X = df.drop(clase, 1) \n",
        "  Y = df[clase]\n",
        "  high_score=0\n",
        "  nof=0\n",
        "  for i in range(len(X.columns)):\n",
        "    X_train, X_test, Y_train, Y_test = train_test_split(X,Y, test_size = 0.3, random_state = 0)\n",
        "    model = LinearRegression()\n",
        "    rfe = RFE(model,i+1)\n",
        "    X_train_rfe = rfe.fit_transform(X_train,Y_train)\n",
        "    X_test_rfe = rfe.transform(X_test)\n",
        "    model.fit(X_train_rfe,Y_train)\n",
        "    score = model.score(X_test_rfe,Y_test)\n",
        "    if(score>high_score):\n",
        "      high_score = score\n",
        "      nof = i+1\n",
        "  model = LinearRegression()\n",
        "  rfe = RFE(model, nof)\n",
        "  X_rfe = rfe.fit_transform(X,Y)\n",
        "  model.fit(X_rfe,Y)\n",
        "  temp = pd.Series(rfe.support_,index = X.columns)\n",
        "  rfecols = temp[temp==True].index\n",
        "  df_x = df[rfecols]\n",
        "  df_y = df[clase]\n",
        "  df = pd.concat([df_x,df_y],axis=1)\n",
        "  return df\n",
        "\n",
        "ind_clase = 5 #Se debe indicar el indice de la columna clase o objetivo\n",
        "names = df.columns.values\n",
        "wradf = recursivewrapper(cod_standarize(natocenter(df), names[ind_clase]), names[ind_clase])\n",
        "wradf.head()"
      ],
      "execution_count": null,
      "outputs": [
        {
          "output_type": "execute_result",
          "data": {
            "text/html": [
              "<div>\n",
              "<style scoped>\n",
              "    .dataframe tbody tr th:only-of-type {\n",
              "        vertical-align: middle;\n",
              "    }\n",
              "\n",
              "    .dataframe tbody tr th {\n",
              "        vertical-align: top;\n",
              "    }\n",
              "\n",
              "    .dataframe thead th {\n",
              "        text-align: right;\n",
              "    }\n",
              "</style>\n",
              "<table border=\"1\" class=\"dataframe\">\n",
              "  <thead>\n",
              "    <tr style=\"text-align: right;\">\n",
              "      <th></th>\n",
              "      <th>lat</th>\n",
              "      <th>long</th>\n",
              "      <th>date</th>\n",
              "      <th>fatalities</th>\n",
              "      <th>capital</th>\n",
              "      <th>humidity</th>\n",
              "      <th>tempC</th>\n",
              "      <th>cases</th>\n",
              "    </tr>\n",
              "  </thead>\n",
              "  <tbody>\n",
              "    <tr>\n",
              "      <th>0</th>\n",
              "      <td>0.286719</td>\n",
              "      <td>0.755321</td>\n",
              "      <td>-0.086630</td>\n",
              "      <td>-0.067021</td>\n",
              "      <td>-0.459991</td>\n",
              "      <td>-0.079141</td>\n",
              "      <td>-1.617612</td>\n",
              "      <td>0</td>\n",
              "    </tr>\n",
              "    <tr>\n",
              "      <th>1</th>\n",
              "      <td>0.286719</td>\n",
              "      <td>0.755321</td>\n",
              "      <td>0.028842</td>\n",
              "      <td>-0.067021</td>\n",
              "      <td>-0.459991</td>\n",
              "      <td>-0.396940</td>\n",
              "      <td>-1.807608</td>\n",
              "      <td>0</td>\n",
              "    </tr>\n",
              "    <tr>\n",
              "      <th>2</th>\n",
              "      <td>0.286719</td>\n",
              "      <td>0.755321</td>\n",
              "      <td>0.144315</td>\n",
              "      <td>-0.067021</td>\n",
              "      <td>-0.459991</td>\n",
              "      <td>0.238657</td>\n",
              "      <td>-1.522614</td>\n",
              "      <td>0</td>\n",
              "    </tr>\n",
              "    <tr>\n",
              "      <th>3</th>\n",
              "      <td>0.286719</td>\n",
              "      <td>0.755321</td>\n",
              "      <td>0.259787</td>\n",
              "      <td>-0.067021</td>\n",
              "      <td>-0.459991</td>\n",
              "      <td>0.662389</td>\n",
              "      <td>-1.522614</td>\n",
              "      <td>0</td>\n",
              "    </tr>\n",
              "    <tr>\n",
              "      <th>4</th>\n",
              "      <td>0.286719</td>\n",
              "      <td>0.755321</td>\n",
              "      <td>0.375260</td>\n",
              "      <td>-0.067021</td>\n",
              "      <td>-0.459991</td>\n",
              "      <td>-0.132108</td>\n",
              "      <td>-1.617612</td>\n",
              "      <td>0</td>\n",
              "    </tr>\n",
              "  </tbody>\n",
              "</table>\n",
              "</div>"
            ],
            "text/plain": [
              "        lat      long      date  ...  humidity     tempC  cases\n",
              "0  0.286719  0.755321 -0.086630  ... -0.079141 -1.617612      0\n",
              "1  0.286719  0.755321  0.028842  ... -0.396940 -1.807608      0\n",
              "2  0.286719  0.755321  0.144315  ...  0.238657 -1.522614      0\n",
              "3  0.286719  0.755321  0.259787  ...  0.662389 -1.522614      0\n",
              "4  0.286719  0.755321  0.375260  ... -0.132108 -1.617612      0\n",
              "\n",
              "[5 rows x 8 columns]"
            ]
          },
          "metadata": {
            "tags": []
          },
          "execution_count": 111
        }
      ]
    },
    {
      "cell_type": "markdown",
      "metadata": {
        "id": "H3qgxWZJX7-z",
        "colab_type": "text"
      },
      "source": [
        "## ***4. PCA***"
      ]
    },
    {
      "cell_type": "markdown",
      "metadata": {
        "id": "ovAjpyu8m_ty",
        "colab_type": "text"
      },
      "source": [
        "### ***Aplicación de Análisis de componentes principales (PCA)***"
      ]
    },
    {
      "cell_type": "markdown",
      "metadata": {
        "id": "px3ajFPFsRh7",
        "colab_type": "text"
      },
      "source": [
        "En el siguiente codigo, se esta implementando una técnica de ***PCA***. Dicha tecnica corresponde a la aplicación de el ***Análisis de componentes principales (PCA)***. La técnica de ***PCA*** aplicada no solo reduce la dimensionalidad de los datos, sino que busca el numero de ***componentes principales optimo***. En otras palabras, se busca el numero de ***componentes principales*** con los que se maximice el performance de los clasificadores. Ahora bien, para validar dicha performance, se usa la función ***dtree_score***. Dicha función retorna la precisión promedio aplicando ***Arboles de decisión*** y un muestreo de ***cross-validation estratificado con k=15***. ***Esta parte del codigo no es del todo generica, ya que se debe indicar el indice de la columna clase o objetivo***. La columna clase o objetivo debe ser especificada con el objetivo de que no entre en el proceso de ***reducción de dimensionalidad***. Luego de la aplicación de la técnica, se imprime el conjunto de datos resultante con las ***caracteristicas resultantes y el atributo objetivo***."
      ]
    },
    {
      "cell_type": "code",
      "metadata": {
        "id": "WgxMmbbFus8B",
        "colab_type": "code",
        "colab": {
          "base_uri": "https://localhost:8080/",
          "height": 204
        },
        "outputId": "864caae6-a8e2-4ce1-8fb8-9484abaa0270"
      },
      "source": [
        "from sklearn.preprocessing import StandardScaler\n",
        "from sklearn.decomposition import PCA\n",
        "from sklearn.tree import DecisionTreeClassifier\n",
        "from sklearn.model_selection import train_test_split, cross_val_score\n",
        "\n",
        "def dtree_score(X, Y): #Arbol de decisión y cross-validation con k=15\n",
        "  dtree = DecisionTreeClassifier()\n",
        "  return cross_val_score(dtree, X, Y, cv=15).mean()\n",
        "\n",
        "def pca(df, clase): #Implementación de la técnica de pca\n",
        "  names = df.columns.values\n",
        "  y = df[clase].values\n",
        "  x = StandardScaler().fit_transform(df.drop(clase, 1).values)\n",
        "  score = 0\n",
        "  optimo_n = 2\n",
        "  for n in range(len(names)-1, 1, -1): #Buscando el valor optimo para el numero de componentes principales de PCA\n",
        "    pca = PCA(n_components=n)\n",
        "    if (score <= dtree_score(pca.fit_transform(x), df.iloc[:,ind_clase].values)):\n",
        "      score = dtree_score(pca.fit_transform(x), df.iloc[:,ind_clase].values)\n",
        "      optimo_n = n\n",
        "  pca = PCA(n_components=optimo_n)\n",
        "  df_x = pd.DataFrame(pca.fit_transform(x))\n",
        "  df_y = df[clase]\n",
        "  df = pd.concat([df_x,df_y],axis=1)\n",
        "  return df\n",
        "\n",
        "ind_clase = 5 #Se debe indicar el indice de la columna clase o objetivo\n",
        "names = df.columns.values\n",
        "pcadf = pca(discre2(cod_standarize(natocenter(df), ind_clase), names[ind_clase]), names[ind_clase])\n",
        "pcadf.head()"
      ],
      "execution_count": null,
      "outputs": [
        {
          "output_type": "execute_result",
          "data": {
            "text/html": [
              "<div>\n",
              "<style scoped>\n",
              "    .dataframe tbody tr th:only-of-type {\n",
              "        vertical-align: middle;\n",
              "    }\n",
              "\n",
              "    .dataframe tbody tr th {\n",
              "        vertical-align: top;\n",
              "    }\n",
              "\n",
              "    .dataframe thead th {\n",
              "        text-align: right;\n",
              "    }\n",
              "</style>\n",
              "<table border=\"1\" class=\"dataframe\">\n",
              "  <thead>\n",
              "    <tr style=\"text-align: right;\">\n",
              "      <th></th>\n",
              "      <th>0</th>\n",
              "      <th>1</th>\n",
              "      <th>2</th>\n",
              "      <th>cases</th>\n",
              "    </tr>\n",
              "  </thead>\n",
              "  <tbody>\n",
              "    <tr>\n",
              "      <th>0</th>\n",
              "      <td>0.555058</td>\n",
              "      <td>1.998843</td>\n",
              "      <td>0.219198</td>\n",
              "      <td>0</td>\n",
              "    </tr>\n",
              "    <tr>\n",
              "      <th>1</th>\n",
              "      <td>0.616851</td>\n",
              "      <td>2.118305</td>\n",
              "      <td>0.380303</td>\n",
              "      <td>0</td>\n",
              "    </tr>\n",
              "    <tr>\n",
              "      <th>2</th>\n",
              "      <td>0.244448</td>\n",
              "      <td>2.189261</td>\n",
              "      <td>-0.037226</td>\n",
              "      <td>0</td>\n",
              "    </tr>\n",
              "    <tr>\n",
              "      <th>3</th>\n",
              "      <td>0.295010</td>\n",
              "      <td>1.945180</td>\n",
              "      <td>0.000473</td>\n",
              "      <td>0</td>\n",
              "    </tr>\n",
              "    <tr>\n",
              "      <th>4</th>\n",
              "      <td>0.563083</td>\n",
              "      <td>2.035497</td>\n",
              "      <td>0.244809</td>\n",
              "      <td>0</td>\n",
              "    </tr>\n",
              "  </tbody>\n",
              "</table>\n",
              "</div>"
            ],
            "text/plain": [
              "          0         1         2  cases\n",
              "0  0.555058  1.998843  0.219198      0\n",
              "1  0.616851  2.118305  0.380303      0\n",
              "2  0.244448  2.189261 -0.037226      0\n",
              "3  0.295010  1.945180  0.000473      0\n",
              "4  0.563083  2.035497  0.244809      0"
            ]
          },
          "metadata": {
            "tags": []
          },
          "execution_count": 231
        }
      ]
    },
    {
      "cell_type": "markdown",
      "metadata": {
        "id": "Wh8OCsdOutQ4",
        "colab_type": "text"
      },
      "source": [
        "#***IV. Workflows***"
      ]
    },
    {
      "cell_type": "markdown",
      "metadata": {
        "id": "SUGcB3vlflxs",
        "colab_type": "text"
      },
      "source": [
        "##***1. Introducción y contexto***"
      ]
    },
    {
      "cell_type": "markdown",
      "metadata": {
        "id": "yDkeRhcqRiQs",
        "colab_type": "text"
      },
      "source": [
        "Con respecto a esta parte, se diseñaran workflows a partir de las tecnicas abordadas anteriormente. Se realizara una combinación de todas las tecnicas, generando ***128 Workflows***. Las ***tecnicas de preprocesamiento de datos*** están representadas por variables para facilitar su nomenclatura. A continuación, se presenta una tabla, la cual indica la actividad de proprocesamiento, las tecnicas respectivas y ***la variable que viene a representar a cada tecnica***. \n",
        "\n",
        "![alt text](https://i.ibb.co/KmTG2xW/workvars.png)\n",
        "\n",
        "En ese sentido, las ***tecnicas de preprocesamiento*** estan correctamente representadas, de tal manera que sean facilmente rastreables cuando se desarrollen los ***workflows*** respectivos. Ahora bien, las tecnicas correspondientes a ***Feature Selection*** tambien seran usadas en la generación de ***workflows***. Los nombres de las técnicas en si son muy largos, por lo que se utilizará el nombre de la actividad respectiva para identificarlas. Esto se hace así por motivos de nomenclatura y rastreo. Se procede a presentar un resumen de la técnicas y actividades relacionadas a ***Feature Selection*** aplicadas. \n",
        "\n",
        "![alt text](https://i.ibb.co/gRGKcFm/fiselec.png)\n",
        "\n",
        "Los ***Workflows desarrollados surgen de una serie de combinaciones de tecnicas y/o decisiones de preprocesamiento de datos***. Cada combinación da como resultado un conjunto de datos preprocesado de forma distinta. ***Los datos resultantes de cada Workflow seran probados con 3 clasificadores para verificar la variabilidad del mismo frente al dataset y el pre-procesamiento realizado***. Los clasificadores a usar, se listan a continuación:\n",
        "\n",
        "* ***K Vecinos más Cercanos (KNN)***\n",
        "* ***Arbolés de Decisión***\n",
        "* ***Maquinas de Vectores de Soporte (SVM)***"
      ]
    },
    {
      "cell_type": "markdown",
      "metadata": {
        "id": "a9iTVqCMIwi4",
        "colab_type": "text"
      },
      "source": [
        "En el siguiente codigo, se definen 2 funciones. La primera función ***selecionarEsquemaWorkflow*** tiene como objetivo permitir seleccionar una combinación de procesamiento de datos y tecnicas, dado un arreglo.  La ultima función ***prove*** posse el proposito de probar los conjuntos de datos, dado un esquema de preprocesamiento, con 3 clasificadores. Las dos funciones especificadas son utilizadas en el desarrollo de los ***128 Workflows*** determinados. Asimismo, ***esta parte del codigo no es del todo generica***, ya que se debe indicar la ***columna clase o objetivo*** debido a los tratamientos realizados. "
      ]
    },
    {
      "cell_type": "code",
      "metadata": {
        "id": "FTlreYfArjjV",
        "colab_type": "code",
        "colab": {}
      },
      "source": [
        "from sklearn.model_selection import StratifiedKFold\n",
        "from sklearn.neighbors import KNeighborsClassifier as KNN\n",
        "from sklearn.tree import DecisionTreeClassifier\n",
        "from sklearn.svm import SVC\n",
        "from sklearn.metrics import classification_report, confusion_matrix, accuracy_score\n",
        "\n",
        "names = df.columns.values\n",
        "clase = names[5] #Se debe de indicar el nombre de la columna clase o objetivo\n",
        "\n",
        "def seleccionarEsquemaWorkflow(df, wf): #Función para operar los workflows\n",
        "  if wf[0]== 1: \n",
        "    if wf[5] != 4:\n",
        "      df = reducedata(df, 0.5, 0.3) #Seleccionar tecnida de REDUCCION\n",
        "  if wf[1]== 1: #Seleccionar tecnica de LIMPIEZA de datos\n",
        "    df = natocenter(df)\n",
        "  elif wf[1]== 2:\n",
        "    df = natozero(df)\n",
        "  if wf[2]== 1: #Seleccionar tecnica de FEATURE CONSTRUCTION\n",
        "    if wf[5] != 4:\n",
        "      df = datetodmy(df, names[4]) \n",
        "  if wf[3]== 1: #Selecionar tecnica de TRANSFORMAZION\n",
        "    df = cod_normalize(df, clase) \n",
        "  elif wf[3]== 2:\n",
        "    df = cod_standarize(df, clase) \n",
        "  if wf[5] == 1: #FEATURE SELECTION\n",
        "    df = filterpearson(df, clase)\n",
        "  elif wf[5] == 2:\n",
        "    df = embebido(df, clase)\n",
        "  elif wf[5] == 3:\n",
        "    df = recursivewrapper(df, clase)\n",
        "  elif wf[5] == 4:\n",
        "    if wf[4] == 1: \n",
        "      df = discre2(df, clase)\n",
        "    elif wf[4] == 2:\n",
        "      df = discre3(df, clase)\n",
        "    df = pca(df, clase)\n",
        "  if (wf[5] >=1 and wf[5] <= 3): #Discretizar\n",
        "    if wf[4] == 1: \n",
        "      df = discre2(df, clase)\n",
        "    elif wf[4] == 2:\n",
        "      df = discre3(df, clase)\n",
        "  return df\n",
        "\n",
        "def prove(df, wf, nfols): #Función que desarrolla el preprocesamiento y prueba con clasificadores\n",
        "  data = seleccionarEsquemaWorkflow(df, wf)\n",
        "  X = data.iloc[:,:-1].values #Caracteristicas\n",
        "  Y = data[clase].values #Columna objetivo\n",
        "  skf = StratifiedKFold(n_splits=nfols)\n",
        "  knn = KNN(n_neighbors=5)\n",
        "  dtree = DecisionTreeClassifier()\n",
        "  svm = SVC()\n",
        "  models = [knn, dtree, svm]\n",
        "  scores = [0,0,0]\n",
        "  for train_index, test_index in skf.split(X, Y):\n",
        "    X_train, X_test = X[train_index], X[test_index]\n",
        "    Y_train, Y_test = Y[train_index], Y[test_index]\n",
        "    for i in range(len(models)):\n",
        "      models[i].fit(X_train, Y_train)\n",
        "      predicciones = models[i].predict(X_test)\n",
        "      scores[i] += accuracy_score(Y_test, predicciones)\n",
        "  print(\"Puntuación del clasificaodr KNN: \", scores[0]/nfols)\n",
        "  print(\"Puntuación del clasificaodr Arból de Decisión: \", scores[1]/nfols)\n",
        "  print(\"Puntuación del clasificaodr SVM: \", scores[2]/nfols)"
      ],
      "execution_count": null,
      "outputs": []
    },
    {
      "cell_type": "markdown",
      "metadata": {
        "id": "YUHi6NGmde7w",
        "colab_type": "text"
      },
      "source": [
        "##***2. Listado de Workflows***"
      ]
    },
    {
      "cell_type": "markdown",
      "metadata": {
        "id": "GZTBzZ98cOPP",
        "colab_type": "text"
      },
      "source": [
        "***Llegados a este punto, se listaran los Workflows, aplicando las tecnicas respectivas y mostrando los resultados generados***. Cabe mencionar que cada ***Workflow*** posee como nombre una representación de la combinación de tecnicas implicadas en el mismo. "
      ]
    },
    {
      "cell_type": "markdown",
      "metadata": {
        "id": "y8RD3qwO-YrZ",
        "colab_type": "text"
      },
      "source": [
        "###***1. R1 -> L1 -> F1 -> T1 -> D1 -> FILTERING***"
      ]
    },
    {
      "cell_type": "code",
      "metadata": {
        "id": "IjRVPsMLu5Wn",
        "colab_type": "code",
        "colab": {
          "base_uri": "https://localhost:8080/",
          "height": 68
        },
        "outputId": "3c61e1d6-621f-4d9b-9c0e-ae7667312bf4"
      },
      "source": [
        "prove(df.copy(), [1,1,1,1,1,1], 10)"
      ],
      "execution_count": null,
      "outputs": [
        {
          "output_type": "stream",
          "text": [
            "Puntuación del clasificaodr KNN:  0.7123636363636363\n",
            "Puntuación del clasificaodr Arból de Decisión:  0.7841818181818183\n",
            "Puntuación del clasificaodr SVM:  0.7024242424242424\n"
          ],
          "name": "stdout"
        }
      ]
    },
    {
      "cell_type": "markdown",
      "metadata": {
        "id": "RjK-xeuo5IM3",
        "colab_type": "text"
      },
      "source": [
        "### ***2. R2 -> L1 -> F1 -> T1 -> D1 -> FILTERING***"
      ]
    },
    {
      "cell_type": "code",
      "metadata": {
        "id": "RYUyrPCJQT8C",
        "colab_type": "code",
        "colab": {
          "base_uri": "https://localhost:8080/",
          "height": 68
        },
        "outputId": "6a7efa39-b569-4d28-d470-0d76a4afa011"
      },
      "source": [
        "prove(df.copy(), [2,1,1,1,1,1], 10)"
      ],
      "execution_count": null,
      "outputs": [
        {
          "output_type": "stream",
          "text": [
            "Puntuación del clasificaodr KNN:  0.6958040406307228\n",
            "Puntuación del clasificaodr Arból de Decisión:  0.7856871431469101\n",
            "Puntuación del clasificaodr SVM:  0.7035994599641222\n"
          ],
          "name": "stdout"
        }
      ]
    },
    {
      "cell_type": "markdown",
      "metadata": {
        "id": "ExjJaFFKLi32",
        "colab_type": "text"
      },
      "source": [
        "###***3.\tR1 -> L2 -> F1 -> T1 -> D1 -> FILTERING***"
      ]
    },
    {
      "cell_type": "code",
      "metadata": {
        "id": "aiJDTHwsLuFT",
        "colab_type": "code",
        "colab": {
          "base_uri": "https://localhost:8080/",
          "height": 68
        },
        "outputId": "111c2083-eb16-45e9-f816-9641e56f9aa9"
      },
      "source": [
        "prove(df.copy(), [1,2,1,1,1,1], 10)"
      ],
      "execution_count": null,
      "outputs": [
        {
          "output_type": "stream",
          "text": [
            "Puntuación del clasificaodr KNN:  0.7123636363636363\n",
            "Puntuación del clasificaodr Arból de Decisión:  0.7841818181818183\n",
            "Puntuación del clasificaodr SVM:  0.7024242424242424\n"
          ],
          "name": "stdout"
        }
      ]
    },
    {
      "cell_type": "markdown",
      "metadata": {
        "id": "So_UoKIqLxRn",
        "colab_type": "text"
      },
      "source": [
        "###***4.\tR2 -> L2 -> F1 -> T1 -> D1 -> FILTERING***"
      ]
    },
    {
      "cell_type": "code",
      "metadata": {
        "id": "M9sg9oneL28O",
        "colab_type": "code",
        "colab": {
          "base_uri": "https://localhost:8080/",
          "height": 68
        },
        "outputId": "bc0e063e-81fb-4c07-cdfe-6390e7315dfc"
      },
      "source": [
        "prove(df.copy(), [2,2,1,1,1,1], 10)"
      ],
      "execution_count": null,
      "outputs": [
        {
          "output_type": "stream",
          "text": [
            "Puntuación del clasificaodr KNN:  0.76062870159781\n",
            "Puntuación del clasificaodr Arból de Decisión:  0.7994776224611194\n",
            "Puntuación del clasificaodr SVM:  0.7260247231129313\n"
          ],
          "name": "stdout"
        }
      ]
    },
    {
      "cell_type": "markdown",
      "metadata": {
        "id": "M_niJzR3L6SJ",
        "colab_type": "text"
      },
      "source": [
        "###***5.\tR1 -> L1 -> F2 -> T1 -> D1 -> FILTERING***"
      ]
    },
    {
      "cell_type": "code",
      "metadata": {
        "id": "fiElDkTaL8y6",
        "colab_type": "code",
        "colab": {
          "base_uri": "https://localhost:8080/",
          "height": 68
        },
        "outputId": "1eb42570-de54-483b-9f0f-9f0ea3aecea9"
      },
      "source": [
        "prove(df.copy(), [1,1,2,1,1,1], 10)"
      ],
      "execution_count": null,
      "outputs": [
        {
          "output_type": "stream",
          "text": [
            "Puntuación del clasificaodr KNN:  0.7123636363636363\n",
            "Puntuación del clasificaodr Arból de Decisión:  0.7841818181818183\n",
            "Puntuación del clasificaodr SVM:  0.7024242424242424\n"
          ],
          "name": "stdout"
        }
      ]
    },
    {
      "cell_type": "markdown",
      "metadata": {
        "id": "zKP3upGwMQhz",
        "colab_type": "text"
      },
      "source": [
        "###***6.\tR2 -> L1 -> F2 -> T1 -> D1 -> FILTERING***"
      ]
    },
    {
      "cell_type": "code",
      "metadata": {
        "id": "wgtAwKVUL8vP",
        "colab_type": "code",
        "colab": {
          "base_uri": "https://localhost:8080/",
          "height": 68
        },
        "outputId": "9d2a84c8-9dfd-4f3b-b855-b117a7352ca5"
      },
      "source": [
        "prove(df.copy(), [2,1,2,1,1,1], 10)"
      ],
      "execution_count": null,
      "outputs": [
        {
          "output_type": "stream",
          "text": [
            "Puntuación del clasificaodr KNN:  0.6958040406307228\n",
            "Puntuación del clasificaodr Arból de Decisión:  0.7856871431469101\n",
            "Puntuación del clasificaodr SVM:  0.7035994599641222\n"
          ],
          "name": "stdout"
        }
      ]
    },
    {
      "cell_type": "markdown",
      "metadata": {
        "id": "OOe4YSJOMbiy",
        "colab_type": "text"
      },
      "source": [
        "###***7.\tR1 -> L2 -> F2 -> T1 -> D1 -> FILTERING***"
      ]
    },
    {
      "cell_type": "code",
      "metadata": {
        "id": "gfoBsmhGMwiE",
        "colab_type": "code",
        "colab": {
          "base_uri": "https://localhost:8080/",
          "height": 68
        },
        "outputId": "f61e818e-c646-4b15-a706-721951613160"
      },
      "source": [
        "prove(df.copy(), [1,2,2,1,1,1], 10)"
      ],
      "execution_count": null,
      "outputs": [
        {
          "output_type": "stream",
          "text": [
            "Puntuación del clasificaodr KNN:  0.7123636363636363\n",
            "Puntuación del clasificaodr Arból de Decisión:  0.7841818181818183\n",
            "Puntuación del clasificaodr SVM:  0.7024242424242424\n"
          ],
          "name": "stdout"
        }
      ]
    },
    {
      "cell_type": "markdown",
      "metadata": {
        "id": "E7rGqlTpM5do",
        "colab_type": "text"
      },
      "source": [
        "###***8.\tR2 -> L2 -> F2 -> T1 -> D1 -> FILTERING***"
      ]
    },
    {
      "cell_type": "code",
      "metadata": {
        "id": "3e3dDknGNPCi",
        "colab_type": "code",
        "colab": {
          "base_uri": "https://localhost:8080/",
          "height": 68
        },
        "outputId": "8dcb5440-fc8a-4b60-fa3a-799ea56b33a7"
      },
      "source": [
        "prove(df.copy(), [2,2,2,1,1,1], 10)"
      ],
      "execution_count": null,
      "outputs": [
        {
          "output_type": "stream",
          "text": [
            "Puntuación del clasificaodr KNN:  0.76062870159781\n",
            "Puntuación del clasificaodr Arból de Decisión:  0.7994776224611194\n",
            "Puntuación del clasificaodr SVM:  0.7260247231129313\n"
          ],
          "name": "stdout"
        }
      ]
    },
    {
      "cell_type": "markdown",
      "metadata": {
        "id": "QwenRwNJNEWp",
        "colab_type": "text"
      },
      "source": [
        "###***9.\tR1 -> L1 -> F1 -> T2 -> D1 -> FILTERING***"
      ]
    },
    {
      "cell_type": "code",
      "metadata": {
        "id": "Gx0PxP4DNJLK",
        "colab_type": "code",
        "colab": {
          "base_uri": "https://localhost:8080/",
          "height": 68
        },
        "outputId": "d9299177-7652-4c2c-9b97-274d5a6838b3"
      },
      "source": [
        "prove(df.copy(), [1,1,1,2,1,1], 10)"
      ],
      "execution_count": null,
      "outputs": [
        {
          "output_type": "stream",
          "text": [
            "Puntuación del clasificaodr KNN:  0.7166060606060606\n",
            "Puntuación del clasificaodr Arból de Decisión:  0.7841818181818183\n",
            "Puntuación del clasificaodr SVM:  0.7074545454545454\n"
          ],
          "name": "stdout"
        }
      ]
    },
    {
      "cell_type": "markdown",
      "metadata": {
        "id": "X_saxcYjNUxs",
        "colab_type": "text"
      },
      "source": [
        "###***10.\tR2 -> L1 -> F1 -> T2 -> D1 -> FILTERING***"
      ]
    },
    {
      "cell_type": "code",
      "metadata": {
        "id": "Hqis_OAyNeyn",
        "colab_type": "code",
        "colab": {
          "base_uri": "https://localhost:8080/",
          "height": 68
        },
        "outputId": "996a24cf-46e2-42b3-8870-7b8c08099168"
      },
      "source": [
        "prove(df.copy(), [2,1,1,2,1,1], 10)"
      ],
      "execution_count": null,
      "outputs": [
        {
          "output_type": "stream",
          "text": [
            "Puntuación del clasificaodr KNN:  0.6965233571990638\n",
            "Puntuación del clasificaodr Arból de Decisión:  0.7856871431469101\n",
            "Puntuación del clasificaodr SVM:  0.7089973012591726\n"
          ],
          "name": "stdout"
        }
      ]
    },
    {
      "cell_type": "markdown",
      "metadata": {
        "id": "zHGmpX3HNjhI",
        "colab_type": "text"
      },
      "source": [
        "###***11.\tR1 -> L2 -> F1 -> T2 -> D1 -> FILTERING***"
      ]
    },
    {
      "cell_type": "code",
      "metadata": {
        "id": "VGcvKVpvNq34",
        "colab_type": "code",
        "colab": {
          "base_uri": "https://localhost:8080/",
          "height": 68
        },
        "outputId": "1cbc24ef-6c61-43d4-8de7-bd57a7e029de"
      },
      "source": [
        "prove(df.copy(), [2,2,1,2,1,1], 10)"
      ],
      "execution_count": null,
      "outputs": [
        {
          "output_type": "stream",
          "text": [
            "Puntuación del clasificaodr KNN:  0.76062870159781\n",
            "Puntuación del clasificaodr Arból de Decisión:  0.7994776224611194\n",
            "Puntuación del clasificaodr SVM:  0.7260247231129313\n"
          ],
          "name": "stdout"
        }
      ]
    },
    {
      "cell_type": "markdown",
      "metadata": {
        "id": "PxZT8d4RNu-E",
        "colab_type": "text"
      },
      "source": [
        "###***12. R2 -> L2 -> F1 -> T2 -> D1 -> FILTERING***"
      ]
    },
    {
      "cell_type": "code",
      "metadata": {
        "id": "iV2cBHevN0sx",
        "colab_type": "code",
        "colab": {
          "base_uri": "https://localhost:8080/",
          "height": 68
        },
        "outputId": "cfdc290a-65ad-40d1-b5b2-0fc4805e0d8e"
      },
      "source": [
        "prove(df.copy(), [2,2,2,2,1,1], 10)"
      ],
      "execution_count": null,
      "outputs": [
        {
          "output_type": "stream",
          "text": [
            "Puntuación del clasificaodr KNN:  0.76062870159781\n",
            "Puntuación del clasificaodr Arból de Decisión:  0.7994776224611194\n",
            "Puntuación del clasificaodr SVM:  0.7260247231129313\n"
          ],
          "name": "stdout"
        }
      ]
    },
    {
      "cell_type": "markdown",
      "metadata": {
        "id": "8GYimEH8N3bN",
        "colab_type": "text"
      },
      "source": [
        "###***13.\tR1 -> L1 -> F2 -> T2 -> D1 -> FILTERING***"
      ]
    },
    {
      "cell_type": "code",
      "metadata": {
        "id": "7T6KutfzN_Ko",
        "colab_type": "code",
        "colab": {
          "base_uri": "https://localhost:8080/",
          "height": 68
        },
        "outputId": "0c389ebf-de54-4204-d894-a74a15474fba"
      },
      "source": [
        "prove(df.copy(), [1,1,2,2,1,1], 10)"
      ],
      "execution_count": null,
      "outputs": [
        {
          "output_type": "stream",
          "text": [
            "Puntuación del clasificaodr KNN:  0.7166060606060606\n",
            "Puntuación del clasificaodr Arból de Decisión:  0.7841818181818183\n",
            "Puntuación del clasificaodr SVM:  0.7074545454545454\n"
          ],
          "name": "stdout"
        }
      ]
    },
    {
      "cell_type": "markdown",
      "metadata": {
        "id": "XA4MOwGoOEDs",
        "colab_type": "text"
      },
      "source": [
        "###***14.\tR2 -> L1 -> F2 -> T2 -> D1 -> FILTERING***"
      ]
    },
    {
      "cell_type": "code",
      "metadata": {
        "id": "fuaHWkygOIys",
        "colab_type": "code",
        "colab": {
          "base_uri": "https://localhost:8080/",
          "height": 68
        },
        "outputId": "afa4d2c8-309b-450c-d1f9-db4a39d6b68d"
      },
      "source": [
        "prove(df.copy(), [2,1,2,2,1,1], 10)"
      ],
      "execution_count": null,
      "outputs": [
        {
          "output_type": "stream",
          "text": [
            "Puntuación del clasificaodr KNN:  0.6965233571990638\n",
            "Puntuación del clasificaodr Arból de Decisión:  0.7856871431469101\n",
            "Puntuación del clasificaodr SVM:  0.7089973012591726\n"
          ],
          "name": "stdout"
        }
      ]
    },
    {
      "cell_type": "markdown",
      "metadata": {
        "id": "Iu2tp9vKOLU4",
        "colab_type": "text"
      },
      "source": [
        "###***15.\tR1 -> L2 -> F2 -> T2 -> D1 -> FILTERING***"
      ]
    },
    {
      "cell_type": "code",
      "metadata": {
        "id": "9VzimkJ5OSjo",
        "colab_type": "code",
        "colab": {
          "base_uri": "https://localhost:8080/",
          "height": 68
        },
        "outputId": "70015b43-cee6-43d3-80d9-fe173abeaa5c"
      },
      "source": [
        "prove(df.copy(), [1,2,2,2,1,1], 10)"
      ],
      "execution_count": null,
      "outputs": [
        {
          "output_type": "stream",
          "text": [
            "Puntuación del clasificaodr KNN:  0.7166060606060606\n",
            "Puntuación del clasificaodr Arból de Decisión:  0.7841818181818183\n",
            "Puntuación del clasificaodr SVM:  0.7074545454545454\n"
          ],
          "name": "stdout"
        }
      ]
    },
    {
      "cell_type": "markdown",
      "metadata": {
        "id": "5S-mmcUVOX6p",
        "colab_type": "text"
      },
      "source": [
        "###***16.\tR2 -> L2 -> F2 -> T2 -> D1 -> FILTERING***"
      ]
    },
    {
      "cell_type": "code",
      "metadata": {
        "id": "tlVPT3u0Ochm",
        "colab_type": "code",
        "colab": {
          "base_uri": "https://localhost:8080/",
          "height": 68
        },
        "outputId": "cef59da1-c429-4112-8162-a829e0a34b2c"
      },
      "source": [
        "prove(df.copy(), [2,2,2,2,1,1], 10)"
      ],
      "execution_count": null,
      "outputs": [
        {
          "output_type": "stream",
          "text": [
            "Puntuación del clasificaodr KNN:  0.76062870159781\n",
            "Puntuación del clasificaodr Arból de Decisión:  0.7994776224611194\n",
            "Puntuación del clasificaodr SVM:  0.7260247231129313\n"
          ],
          "name": "stdout"
        }
      ]
    },
    {
      "cell_type": "markdown",
      "metadata": {
        "id": "knACg8TkOkRd",
        "colab_type": "text"
      },
      "source": [
        "###***17.\tR1 -> L1 -> F1 -> T1 -> D2 -> FILTERING***"
      ]
    },
    {
      "cell_type": "code",
      "metadata": {
        "id": "jEuy-S5QOw_x",
        "colab_type": "code",
        "colab": {
          "base_uri": "https://localhost:8080/",
          "height": 68
        },
        "outputId": "0025fce2-80e6-4a4f-df82-8303bcc5f7b5"
      },
      "source": [
        "prove(df.copy(), [1,1,1,1,2,1], 10)"
      ],
      "execution_count": null,
      "outputs": [
        {
          "output_type": "stream",
          "text": [
            "Puntuación del clasificaodr KNN:  0.7168484848484848\n",
            "Puntuación del clasificaodr Arból de Decisión:  0.7677575757575756\n",
            "Puntuación del clasificaodr SVM:  0.6896363636363637\n"
          ],
          "name": "stdout"
        }
      ]
    },
    {
      "cell_type": "markdown",
      "metadata": {
        "id": "MEHlMrrQO078",
        "colab_type": "text"
      },
      "source": [
        "###***18.\tR2 -> L1 -> F1 -> T1 -> D2 -> FILTERING***"
      ]
    },
    {
      "cell_type": "code",
      "metadata": {
        "id": "8cRLSnDvO64a",
        "colab_type": "code",
        "colab": {
          "base_uri": "https://localhost:8080/",
          "height": 68
        },
        "outputId": "253915a2-2132-478c-ecb8-0e673e5383df"
      },
      "source": [
        "prove(df.copy(), [2,1,1,1,2,1], 10)"
      ],
      "execution_count": null,
      "outputs": [
        {
          "output_type": "stream",
          "text": [
            "Puntuación del clasificaodr KNN:  0.7111637025112962\n",
            "Puntuación del clasificaodr Arból de Decisión:  0.769081795151761\n",
            "Puntuación del clasificaodr SVM:  0.6916090882542916\n"
          ],
          "name": "stdout"
        }
      ]
    },
    {
      "cell_type": "markdown",
      "metadata": {
        "id": "bNolJUkCPIt1",
        "colab_type": "text"
      },
      "source": [
        "###***19.\tR1 -> L2 -> F1 -> T1 -> D2 -> FILTERING***"
      ]
    },
    {
      "cell_type": "code",
      "metadata": {
        "id": "mGYmvDdDPNzD",
        "colab_type": "code",
        "colab": {
          "base_uri": "https://localhost:8080/",
          "height": 68
        },
        "outputId": "c336cadc-8e07-46bd-a2dc-df35d51cff49"
      },
      "source": [
        "prove(df.copy(), [1,2,1,1,2,1], 10)"
      ],
      "execution_count": null,
      "outputs": [
        {
          "output_type": "stream",
          "text": [
            "Puntuación del clasificaodr KNN:  0.7168484848484848\n",
            "Puntuación del clasificaodr Arból de Decisión:  0.7677575757575756\n",
            "Puntuación del clasificaodr SVM:  0.6896363636363637\n"
          ],
          "name": "stdout"
        }
      ]
    },
    {
      "cell_type": "markdown",
      "metadata": {
        "id": "945EAFf0O9Y2",
        "colab_type": "text"
      },
      "source": [
        "###***20.\tR2 -> L2 -> F1 -> T1 -> D2 -> FILTERING***"
      ]
    },
    {
      "cell_type": "code",
      "metadata": {
        "id": "IGFllYQ7PCPQ",
        "colab_type": "code",
        "colab": {
          "base_uri": "https://localhost:8080/",
          "height": 68
        },
        "outputId": "33e8b244-01aa-4678-d05d-d710bd2fbdc6"
      },
      "source": [
        "prove(df.copy(), [2,2,1,1,2,1], 10)"
      ],
      "execution_count": null,
      "outputs": [
        {
          "output_type": "stream",
          "text": [
            "Puntuación del clasificaodr KNN:  0.7816734494827653\n",
            "Puntuación del clasificaodr Arból de Decisión:  0.7816734494827653\n",
            "Puntuación del clasificaodr SVM:  0.7173365686574915\n"
          ],
          "name": "stdout"
        }
      ]
    },
    {
      "cell_type": "markdown",
      "metadata": {
        "id": "ZMHmcbjcO_P2",
        "colab_type": "text"
      },
      "source": [
        "###***21.\tR1 -> L1 -> F2 -> T1 -> D2 -> FILTERING***"
      ]
    },
    {
      "cell_type": "code",
      "metadata": {
        "id": "nHnPujO7VlmV",
        "colab_type": "code",
        "colab": {
          "base_uri": "https://localhost:8080/",
          "height": 68
        },
        "outputId": "0c54e2db-60cc-4053-ac07-7e41740b10d0"
      },
      "source": [
        "prove(df.copy(), [1,1,2,1,2,1], 10)"
      ],
      "execution_count": null,
      "outputs": [
        {
          "output_type": "stream",
          "text": [
            "Puntuación del clasificaodr KNN:  0.7168484848484848\n",
            "Puntuación del clasificaodr Arból de Decisión:  0.7677575757575756\n",
            "Puntuación del clasificaodr SVM:  0.6896363636363637\n"
          ],
          "name": "stdout"
        }
      ]
    },
    {
      "cell_type": "markdown",
      "metadata": {
        "id": "Al5Ujxa0Vq-D",
        "colab_type": "text"
      },
      "source": [
        "###***22.\tR2 -> L1 -> F2 -> T1 -> D2 -> FILTERING***"
      ]
    },
    {
      "cell_type": "code",
      "metadata": {
        "id": "No2Wah_xVyZ4",
        "colab_type": "code",
        "colab": {
          "base_uri": "https://localhost:8080/",
          "height": 68
        },
        "outputId": "f755b1e5-2576-486d-f9d4-4bd290ed5114"
      },
      "source": [
        "prove(df.copy(), [2,1,2,1,2,1], 10)"
      ],
      "execution_count": null,
      "outputs": [
        {
          "output_type": "stream",
          "text": [
            "Puntuación del clasificaodr KNN:  0.7111637025112962\n",
            "Puntuación del clasificaodr Arból de Decisión:  0.769081795151761\n",
            "Puntuación del clasificaodr SVM:  0.6916090882542916\n"
          ],
          "name": "stdout"
        }
      ]
    },
    {
      "cell_type": "markdown",
      "metadata": {
        "id": "n0yOrPyQV3m_",
        "colab_type": "text"
      },
      "source": [
        "###***23.\tR1 -> L2 -> F2 -> T1 -> D2 -> FILTERING***"
      ]
    },
    {
      "cell_type": "code",
      "metadata": {
        "id": "lVmyaamOWakf",
        "colab_type": "code",
        "colab": {
          "base_uri": "https://localhost:8080/",
          "height": 68
        },
        "outputId": "705acae1-ce12-4d9f-e152-891be8620d9f"
      },
      "source": [
        "prove(df.copy(), [1,2,2,1,2,1], 10)"
      ],
      "execution_count": null,
      "outputs": [
        {
          "output_type": "stream",
          "text": [
            "Puntuación del clasificaodr KNN:  0.7168484848484848\n",
            "Puntuación del clasificaodr Arból de Decisión:  0.7677575757575756\n",
            "Puntuación del clasificaodr SVM:  0.6896363636363637\n"
          ],
          "name": "stdout"
        }
      ]
    },
    {
      "cell_type": "markdown",
      "metadata": {
        "id": "13zGoLmIWf9b",
        "colab_type": "text"
      },
      "source": [
        "###***24.\tR2 -> L2 -> F2 -> T1 -> D2 -> FILTERING***"
      ]
    },
    {
      "cell_type": "code",
      "metadata": {
        "id": "u2Vdca1YWn7h",
        "colab_type": "code",
        "colab": {
          "base_uri": "https://localhost:8080/",
          "height": 68
        },
        "outputId": "8152fc1c-be6e-4cf4-e835-6673a866e9c1"
      },
      "source": [
        "prove(df.copy(), [2,2,2,1,2,1], 10)"
      ],
      "execution_count": null,
      "outputs": [
        {
          "output_type": "stream",
          "text": [
            "Puntuación del clasificaodr KNN:  0.7816734494827653\n",
            "Puntuación del clasificaodr Arból de Decisión:  0.7816734494827653\n",
            "Puntuación del clasificaodr SVM:  0.7173365686574915\n"
          ],
          "name": "stdout"
        }
      ]
    },
    {
      "cell_type": "markdown",
      "metadata": {
        "id": "Hp20XXCYWu1E",
        "colab_type": "text"
      },
      "source": [
        "###***25.\tR1 -> L1 -> F1 -> T2 -> D2 -> FILTERING***"
      ]
    },
    {
      "cell_type": "code",
      "metadata": {
        "id": "DLyIwElvW1Fx",
        "colab_type": "code",
        "colab": {
          "base_uri": "https://localhost:8080/",
          "height": 68
        },
        "outputId": "f425c14d-1467-460e-e100-9f7d064c480b"
      },
      "source": [
        "prove(df.copy(), [1,1,1,2,2,1], 10)"
      ],
      "execution_count": null,
      "outputs": [
        {
          "output_type": "stream",
          "text": [
            "Puntuación del clasificaodr KNN:  0.7205454545454547\n",
            "Puntuación del clasificaodr Arból de Decisión:  0.7680606060606061\n",
            "Puntuación del clasificaodr SVM:  0.7049090909090909\n"
          ],
          "name": "stdout"
        }
      ]
    },
    {
      "cell_type": "markdown",
      "metadata": {
        "id": "EgPtCS9aXU1G",
        "colab_type": "text"
      },
      "source": [
        "###***26.\tR2 -> L1 -> F1 -> T2 -> D2 -> FILTERING***"
      ]
    },
    {
      "cell_type": "code",
      "metadata": {
        "id": "5y7eeuJ3XcAc",
        "colab_type": "code",
        "colab": {
          "base_uri": "https://localhost:8080/",
          "height": 68
        },
        "outputId": "49f74153-f062-4663-9e45-854934cb1b17"
      },
      "source": [
        "prove(df.copy(), [2,1,1,2,2,1], 10)"
      ],
      "execution_count": null,
      "outputs": [
        {
          "output_type": "stream",
          "text": [
            "Puntuación del clasificaodr KNN:  0.7081636550387765\n",
            "Puntuación del clasificaodr Arból de Decisión:  0.7695014594203461\n",
            "Puntuación del clasificaodr SVM:  0.706721461463103\n"
          ],
          "name": "stdout"
        }
      ]
    },
    {
      "cell_type": "markdown",
      "metadata": {
        "id": "lRWs4bvOXgBZ",
        "colab_type": "text"
      },
      "source": [
        "###***27.\tR1 -> L2 -> F1 -> T2 -> D2 -> FILTERING***"
      ]
    },
    {
      "cell_type": "code",
      "metadata": {
        "id": "dSp6yQRLXlKU",
        "colab_type": "code",
        "colab": {
          "base_uri": "https://localhost:8080/",
          "height": 68
        },
        "outputId": "a03e1ccb-c56a-46f0-9eb2-5ce0b32a813c"
      },
      "source": [
        "prove(df.copy(), [1,2,1,2,2,1], 10)"
      ],
      "execution_count": null,
      "outputs": [
        {
          "output_type": "stream",
          "text": [
            "Puntuación del clasificaodr KNN:  0.7205454545454547\n",
            "Puntuación del clasificaodr Arból de Decisión:  0.7680606060606061\n",
            "Puntuación del clasificaodr SVM:  0.7049090909090909\n"
          ],
          "name": "stdout"
        }
      ]
    },
    {
      "cell_type": "markdown",
      "metadata": {
        "id": "FzZnEadSXqnd",
        "colab_type": "text"
      },
      "source": [
        "###***28.\tR2 -> L2 -> F1 -> T2 -> D2 -> FILTERING***"
      ]
    },
    {
      "cell_type": "code",
      "metadata": {
        "id": "zZy9PKdWXxuP",
        "colab_type": "code",
        "colab": {
          "base_uri": "https://localhost:8080/",
          "height": 68
        },
        "outputId": "f7f36014-d0b3-4201-e733-9bd3d674056b"
      },
      "source": [
        "prove(df.copy(), [2,2,1,2,2,1], 10)"
      ],
      "execution_count": null,
      "outputs": [
        {
          "output_type": "stream",
          "text": [
            "Puntuación del clasificaodr KNN:  0.7816734494827653\n",
            "Puntuación del clasificaodr Arból de Decisión:  0.7816734494827653\n",
            "Puntuación del clasificaodr SVM:  0.7173365686574915\n"
          ],
          "name": "stdout"
        }
      ]
    },
    {
      "cell_type": "markdown",
      "metadata": {
        "id": "1lSFAdwKX1Ar",
        "colab_type": "text"
      },
      "source": [
        "###***29.\tR1 -> L1 -> F2 -> T2 -> D2 -> FILTERING***"
      ]
    },
    {
      "cell_type": "code",
      "metadata": {
        "id": "CA3bFokLYG2G",
        "colab_type": "code",
        "colab": {
          "base_uri": "https://localhost:8080/",
          "height": 68
        },
        "outputId": "ed0ecf36-dbfd-4922-9669-0c82bd4d5397"
      },
      "source": [
        "prove(df.copy(), [1,1,2,2,2,1], 10)"
      ],
      "execution_count": null,
      "outputs": [
        {
          "output_type": "stream",
          "text": [
            "Puntuación del clasificaodr KNN:  0.7205454545454547\n",
            "Puntuación del clasificaodr Arból de Decisión:  0.7680606060606061\n",
            "Puntuación del clasificaodr SVM:  0.7049090909090909\n"
          ],
          "name": "stdout"
        }
      ]
    },
    {
      "cell_type": "markdown",
      "metadata": {
        "id": "KaCpc2nOYLqv",
        "colab_type": "text"
      },
      "source": [
        "###***30.\tR2 -> L1 -> F2 -> T2 -> D2 -> FILTERING***"
      ]
    },
    {
      "cell_type": "code",
      "metadata": {
        "id": "zwV0o5rcYRoS",
        "colab_type": "code",
        "colab": {
          "base_uri": "https://localhost:8080/",
          "height": 68
        },
        "outputId": "aba2a20d-d74c-471c-c6c1-276991dead2a"
      },
      "source": [
        "prove(df.copy(), [2,1,2,2,2,1], 10)"
      ],
      "execution_count": null,
      "outputs": [
        {
          "output_type": "stream",
          "text": [
            "Puntuación del clasificaodr KNN:  0.7081636550387765\n",
            "Puntuación del clasificaodr Arból de Decisión:  0.7695014594203461\n",
            "Puntuación del clasificaodr SVM:  0.706721461463103\n"
          ],
          "name": "stdout"
        }
      ]
    },
    {
      "cell_type": "markdown",
      "metadata": {
        "id": "HtfdQ3P-YWz-",
        "colab_type": "text"
      },
      "source": [
        "###***31.\tR1 -> L2 -> F2 -> T2 -> D2 -> FILTERING***"
      ]
    },
    {
      "cell_type": "code",
      "metadata": {
        "id": "RGi0csJQYeXJ",
        "colab_type": "code",
        "colab": {
          "base_uri": "https://localhost:8080/",
          "height": 68
        },
        "outputId": "ade27c41-945d-4c5f-f499-00829be49ed6"
      },
      "source": [
        "prove(df.copy(), [1,2,2,2,2,1], 10)"
      ],
      "execution_count": null,
      "outputs": [
        {
          "output_type": "stream",
          "text": [
            "Puntuación del clasificaodr KNN:  0.7205454545454547\n",
            "Puntuación del clasificaodr Arból de Decisión:  0.7680606060606061\n",
            "Puntuación del clasificaodr SVM:  0.7049090909090909\n"
          ],
          "name": "stdout"
        }
      ]
    },
    {
      "cell_type": "markdown",
      "metadata": {
        "id": "JM-vj3T7Yhry",
        "colab_type": "text"
      },
      "source": [
        "###***32.\tR2 -> L2 -> F2 -> T2 -> D2 -> FILTERING***"
      ]
    },
    {
      "cell_type": "code",
      "metadata": {
        "id": "8IvtH_JfYok_",
        "colab_type": "code",
        "colab": {
          "base_uri": "https://localhost:8080/",
          "height": 68
        },
        "outputId": "d7c49247-8056-4eb4-b1c7-78b26bfead9d"
      },
      "source": [
        "prove(df.copy(), [2,2,2,2,2,1], 10)"
      ],
      "execution_count": null,
      "outputs": [
        {
          "output_type": "stream",
          "text": [
            "Puntuación del clasificaodr KNN:  0.7816734494827653\n",
            "Puntuación del clasificaodr Arból de Decisión:  0.7816734494827653\n",
            "Puntuación del clasificaodr SVM:  0.7173365686574915\n"
          ],
          "name": "stdout"
        }
      ]
    },
    {
      "cell_type": "markdown",
      "metadata": {
        "id": "ZL2svTCbYrDo",
        "colab_type": "text"
      },
      "source": [
        "###***33. R1 -> L1 -> F1 -> T1 -> D1 -> EMBEDDED***"
      ]
    },
    {
      "cell_type": "code",
      "metadata": {
        "id": "oBzjWbf8ZSJD",
        "colab_type": "code",
        "colab": {
          "base_uri": "https://localhost:8080/",
          "height": 68
        },
        "outputId": "5da0734c-db4e-4e15-d2bd-3e9e791a051c"
      },
      "source": [
        "prove(df.copy(), [1,1,1,1,1,2], 10)"
      ],
      "execution_count": null,
      "outputs": [
        {
          "output_type": "stream",
          "text": [
            "Puntuación del clasificaodr KNN:  0.5729090909090908\n",
            "Puntuación del clasificaodr Arból de Decisión:  0.7300000000000001\n",
            "Puntuación del clasificaodr SVM:  0.7887878787878787\n"
          ],
          "name": "stdout"
        }
      ]
    },
    {
      "cell_type": "markdown",
      "metadata": {
        "id": "FUJqZY3TZYXo",
        "colab_type": "text"
      },
      "source": [
        "###***34. R2 -> L1 -> F1 -> T1 -> D1 -> EMBEDDED***"
      ]
    },
    {
      "cell_type": "code",
      "metadata": {
        "id": "IFRer6M9Zg-b",
        "colab_type": "code",
        "colab": {
          "base_uri": "https://localhost:8080/",
          "height": 68
        },
        "outputId": "78726ac2-a7aa-4312-9786-0ac090e47ec4"
      },
      "source": [
        "prove(df.copy(), [2,1,1,1,1,2], 10)"
      ],
      "execution_count": null,
      "outputs": [
        {
          "output_type": "stream",
          "text": [
            "Puntuación del clasificaodr KNN:  0.6098293290982092\n",
            "Puntuación del clasificaodr Arból de Decisión:  0.739639410247447\n",
            "Puntuación del clasificaodr SVM:  0.7933678372239222\n"
          ],
          "name": "stdout"
        }
      ]
    },
    {
      "cell_type": "markdown",
      "metadata": {
        "id": "xSBhYiXkZjqV",
        "colab_type": "text"
      },
      "source": [
        "###***35.\tR1 -> L2 -> F1 -> T1 -> D1 -> EMBEDDED***"
      ]
    },
    {
      "cell_type": "code",
      "metadata": {
        "id": "Gu6J1RWtZqzy",
        "colab_type": "code",
        "colab": {
          "base_uri": "https://localhost:8080/",
          "height": 68
        },
        "outputId": "e2f2e3d9-024d-4a1d-c037-4bdec7c60e2a"
      },
      "source": [
        "prove(df.copy(), [1,2,1,1,1,2], 10)"
      ],
      "execution_count": null,
      "outputs": [
        {
          "output_type": "stream",
          "text": [
            "Puntuación del clasificaodr KNN:  0.5729090909090908\n",
            "Puntuación del clasificaodr Arból de Decisión:  0.7272727272727273\n",
            "Puntuación del clasificaodr SVM:  0.7887878787878787\n"
          ],
          "name": "stdout"
        }
      ]
    },
    {
      "cell_type": "markdown",
      "metadata": {
        "id": "VAIq2N1XZvBJ",
        "colab_type": "text"
      },
      "source": [
        "###***36.\tR2 -> L2 -> F1 -> T1 -> D1 -> EMBEDDED***"
      ]
    },
    {
      "cell_type": "code",
      "metadata": {
        "id": "-2NuwkZhZ3GL",
        "colab_type": "code",
        "colab": {
          "base_uri": "https://localhost:8080/",
          "height": 68
        },
        "outputId": "add049bc-782a-4ca6-e29f-ebd0d0b33a44"
      },
      "source": [
        "prove(df.copy(), [2,2,1,1,1,2], 10)"
      ],
      "execution_count": null,
      "outputs": [
        {
          "output_type": "stream",
          "text": [
            "Puntuación del clasificaodr KNN:  0.6083898328248019\n",
            "Puntuación del clasificaodr Arból de Decisión:  0.7423973119045255\n",
            "Puntuación del clasificaodr SVM:  0.7949838809216575\n"
          ],
          "name": "stdout"
        }
      ]
    },
    {
      "cell_type": "markdown",
      "metadata": {
        "id": "T3n27DOmaAR3",
        "colab_type": "text"
      },
      "source": [
        "###***37.\tR1 -> L1 -> F2 -> T1 -> D1 -> EMBEDDED***"
      ]
    },
    {
      "cell_type": "code",
      "metadata": {
        "id": "jF7ZOCwAaGfy",
        "colab_type": "code",
        "colab": {
          "base_uri": "https://localhost:8080/",
          "height": 68
        },
        "outputId": "9ae81c7f-172b-4d6e-bd37-64fd2abe56e0"
      },
      "source": [
        "prove(df.copy(), [1,1,2,1,1,2], 10)"
      ],
      "execution_count": null,
      "outputs": [
        {
          "output_type": "stream",
          "text": [
            "Puntuación del clasificaodr KNN:  0.5572727272727274\n",
            "Puntuación del clasificaodr Arból de Decisión:  0.6867272727272729\n",
            "Puntuación del clasificaodr SVM:  0.715030303030303\n"
          ],
          "name": "stdout"
        }
      ]
    },
    {
      "cell_type": "markdown",
      "metadata": {
        "id": "SzN1JgyKaMVv",
        "colab_type": "text"
      },
      "source": [
        "###***38.\tR2 -> L1 -> F2 -> T1 -> D1 -> EMBEDDED***"
      ]
    },
    {
      "cell_type": "code",
      "metadata": {
        "id": "SlX4RfKdaUNR",
        "colab_type": "code",
        "colab": {
          "base_uri": "https://localhost:8080/",
          "height": 68
        },
        "outputId": "2a61121f-e367-4e55-8552-52ebd979e659"
      },
      "source": [
        "prove(df.copy(), [2,1,2,1,1,2], 10)"
      ],
      "execution_count": null,
      "outputs": [
        {
          "output_type": "stream",
          "text": [
            "Puntuación del clasificaodr KNN:  0.5810524585730337\n",
            "Puntuación del clasificaodr Arból de Decisión:  0.6757317960868257\n",
            "Puntuación del clasificaodr SVM:  0.7089927338273352\n"
          ],
          "name": "stdout"
        }
      ]
    },
    {
      "cell_type": "markdown",
      "metadata": {
        "id": "mC1TMISLaW63",
        "colab_type": "text"
      },
      "source": [
        "###***39.\tR1 -> L2 -> F2 -> T1 -> D1 -> EMBEDDED***"
      ]
    },
    {
      "cell_type": "code",
      "metadata": {
        "id": "gjBtvb_had_o",
        "colab_type": "code",
        "colab": {
          "base_uri": "https://localhost:8080/",
          "height": 68
        },
        "outputId": "b5fe5096-97ea-4b2c-df2a-54ec94111d49"
      },
      "source": [
        "prove(df.copy(), [1,2,2,1,1,2], 10)"
      ],
      "execution_count": null,
      "outputs": [
        {
          "output_type": "stream",
          "text": [
            "Puntuación del clasificaodr KNN:  0.5572727272727274\n",
            "Puntuación del clasificaodr Arból de Decisión:  0.6811515151515151\n",
            "Puntuación del clasificaodr SVM:  0.715030303030303\n"
          ],
          "name": "stdout"
        }
      ]
    },
    {
      "cell_type": "markdown",
      "metadata": {
        "id": "Puz9MfBeait5",
        "colab_type": "text"
      },
      "source": [
        "###***40.\tR2 -> L2 -> F2 -> T1 -> D1 -> EMBEDDED***"
      ]
    },
    {
      "cell_type": "code",
      "metadata": {
        "id": "rCauqwoRapW7",
        "colab_type": "code",
        "colab": {
          "base_uri": "https://localhost:8080/",
          "height": 68
        },
        "outputId": "9183d1e3-70ce-4574-b7c0-78537a7358d0"
      },
      "source": [
        "prove(df.copy(), [2,2,2,1,1,2], 10)"
      ],
      "execution_count": null,
      "outputs": [
        {
          "output_type": "stream",
          "text": [
            "Puntuación del clasificaodr KNN:  0.577574736851191\n",
            "Puntuación del clasificaodr Arból de Decisión:  0.6771743133387711\n",
            "Puntuación del clasificaodr SVM:  0.7104938724485319\n"
          ],
          "name": "stdout"
        }
      ]
    },
    {
      "cell_type": "markdown",
      "metadata": {
        "id": "OdoVH2Doav-S",
        "colab_type": "text"
      },
      "source": [
        "###***41.\tR1 -> L1 -> F1 -> T2 -> D1 -> EMBEDDED***"
      ]
    },
    {
      "cell_type": "code",
      "metadata": {
        "id": "LI3kHSRWa2MQ",
        "colab_type": "code",
        "colab": {
          "base_uri": "https://localhost:8080/",
          "height": 68
        },
        "outputId": "9b329caf-9fc7-48be-c0bf-8981c57079dc"
      },
      "source": [
        "prove(df.copy(), [1,1,1,2,1,2], 10)"
      ],
      "execution_count": null,
      "outputs": [
        {
          "output_type": "stream",
          "text": [
            "Puntuación del clasificaodr KNN:  0.6595757575757576\n",
            "Puntuación del clasificaodr Arból de Decisión:  0.7708484848484848\n",
            "Puntuación del clasificaodr SVM:  0.8064848484848485\n"
          ],
          "name": "stdout"
        }
      ]
    },
    {
      "cell_type": "markdown",
      "metadata": {
        "id": "Fa31uUdYa7W2",
        "colab_type": "text"
      },
      "source": [
        "###***42.\tR2 -> L1 -> F1 -> T2 -> D1 -> EMBEDDED***"
      ]
    },
    {
      "cell_type": "code",
      "metadata": {
        "id": "tzudkKusbG2T",
        "colab_type": "code",
        "colab": {
          "base_uri": "https://localhost:8080/",
          "height": 68
        },
        "outputId": "f4038c4c-4cdb-4234-bc03-afa24fb79eea"
      },
      "source": [
        "prove(df.copy(), [2,1,1,2,1,2], 10)"
      ],
      "execution_count": null,
      "outputs": [
        {
          "output_type": "stream",
          "text": [
            "Puntuación del clasificaodr KNN:  0.6929884167051481\n",
            "Puntuación del clasificaodr Arból de Decisión:  0.7708175271420536\n",
            "Puntuación del clasificaodr SVM:  0.8021169147465471\n"
          ],
          "name": "stdout"
        }
      ]
    },
    {
      "cell_type": "markdown",
      "metadata": {
        "id": "k9LYvCEbbKL3",
        "colab_type": "text"
      },
      "source": [
        "###***43.\tR1 -> L2 -> F1 -> T2 -> D1 -> EMBEDDED***"
      ]
    },
    {
      "cell_type": "code",
      "metadata": {
        "id": "EcRA7Nh_bQeL",
        "colab_type": "code",
        "colab": {
          "base_uri": "https://localhost:8080/",
          "height": 68
        },
        "outputId": "aff6f1cb-4ea3-4eff-8499-15af3dad4bf1"
      },
      "source": [
        "prove(df.copy(), [1,2,1,2,1,2], 10)"
      ],
      "execution_count": null,
      "outputs": [
        {
          "output_type": "stream",
          "text": [
            "Puntuación del clasificaodr KNN:  0.6595757575757576\n",
            "Puntuación del clasificaodr Arból de Decisión:  0.7683030303030304\n",
            "Puntuación del clasificaodr SVM:  0.8064848484848485\n"
          ],
          "name": "stdout"
        }
      ]
    },
    {
      "cell_type": "markdown",
      "metadata": {
        "id": "OfIlrgDUbWW5",
        "colab_type": "text"
      },
      "source": [
        "###***44.\tR2 -> L2 -> F1 -> T2 -> D1 -> EMBEDDED***\n",
        "\n"
      ]
    },
    {
      "cell_type": "code",
      "metadata": {
        "id": "urP6psSubb6V",
        "colab_type": "code",
        "colab": {
          "base_uri": "https://localhost:8080/",
          "height": 68
        },
        "outputId": "ca611fd4-f78f-41b2-870a-674da557a5c7"
      },
      "source": [
        "prove(df.copy(), [2,2,1,2,1,2], 10)"
      ],
      "execution_count": null,
      "outputs": [
        {
          "output_type": "stream",
          "text": [
            "Puntuación del clasificaodr KNN:  0.694010226731632\n",
            "Puntuación del clasificaodr Arból de Decisión:  0.7697384623794666\n",
            "Puntuación del clasificaodr SVM:  0.7950405961973072\n"
          ],
          "name": "stdout"
        }
      ]
    },
    {
      "cell_type": "markdown",
      "metadata": {
        "id": "Ycnkm7Wobnlk",
        "colab_type": "text"
      },
      "source": [
        "###***45.\tR1 -> L1 -> F2 -> T2 -> D1 -> EMBEDDED***"
      ]
    },
    {
      "cell_type": "code",
      "metadata": {
        "id": "7LvzoVtRbuwN",
        "colab_type": "code",
        "colab": {
          "base_uri": "https://localhost:8080/",
          "height": 68
        },
        "outputId": "e5daf29f-ab35-41f1-aad3-77dfa98edee2"
      },
      "source": [
        "prove(df.copy(), [1,1,2,2,1,2], 10)"
      ],
      "execution_count": null,
      "outputs": [
        {
          "output_type": "stream",
          "text": [
            "Puntuación del clasificaodr KNN:  0.6573939393939394\n",
            "Puntuación del clasificaodr Arból de Decisión:  0.7313333333333334\n",
            "Puntuación del clasificaodr SVM:  0.7547878787878788\n"
          ],
          "name": "stdout"
        }
      ]
    },
    {
      "cell_type": "markdown",
      "metadata": {
        "id": "Ab1PxO1Dby43",
        "colab_type": "text"
      },
      "source": [
        "###***46.\tR2 -> L1 -> F2 -> T2 -> D1 -> EMBEDDED***"
      ]
    },
    {
      "cell_type": "code",
      "metadata": {
        "id": "Otr_ZHudb5Rf",
        "colab_type": "code",
        "colab": {
          "base_uri": "https://localhost:8080/",
          "height": 68
        },
        "outputId": "f003eb61-04a3-4535-f2e4-dda1e0cb46c1"
      },
      "source": [
        "prove(df.copy(), [2,1,2,2,1,2], 10)"
      ],
      "execution_count": null,
      "outputs": [
        {
          "output_type": "stream",
          "text": [
            "Puntuación del clasificaodr KNN:  0.6864564137532205\n",
            "Puntuación del clasificaodr Arból de Decisión:  0.7192589539646027\n",
            "Puntuación del clasificaodr SVM:  0.7464654191463866\n"
          ],
          "name": "stdout"
        }
      ]
    },
    {
      "cell_type": "markdown",
      "metadata": {
        "id": "-9mPLYEocA2v",
        "colab_type": "text"
      },
      "source": [
        "###***47.\tR1 -> L2 -> F2 -> T2 -> D1 -> EMBEDDED***"
      ]
    },
    {
      "cell_type": "code",
      "metadata": {
        "id": "uqHSi-KecGxM",
        "colab_type": "code",
        "colab": {
          "base_uri": "https://localhost:8080/",
          "height": 68
        },
        "outputId": "b4f63821-ea17-4719-8c9b-989e27e689e8"
      },
      "source": [
        "prove(df.copy(), [1,2,2,2,1,2], 10)"
      ],
      "execution_count": null,
      "outputs": [
        {
          "output_type": "stream",
          "text": [
            "Puntuación del clasificaodr KNN:  0.6573939393939394\n",
            "Puntuación del clasificaodr Arból de Decisión:  0.7247272727272727\n",
            "Puntuación del clasificaodr SVM:  0.7547878787878788\n"
          ],
          "name": "stdout"
        }
      ]
    },
    {
      "cell_type": "markdown",
      "metadata": {
        "id": "tRRIpuI8cLFD",
        "colab_type": "text"
      },
      "source": [
        "###***48.\tR2 -> L2 -> F2 -> T2 -> D1 -> EMBEDDED***\n"
      ]
    },
    {
      "cell_type": "code",
      "metadata": {
        "id": "TJtECV0HcUGZ",
        "colab_type": "code",
        "colab": {
          "base_uri": "https://localhost:8080/",
          "height": 68
        },
        "outputId": "e53d2c82-4e79-4378-8696-e11cf99e77e6"
      },
      "source": [
        "prove(df.copy(), [2,2,2,2,1,2], 10)"
      ],
      "execution_count": null,
      "outputs": [
        {
          "output_type": "stream",
          "text": [
            "Puntuación del clasificaodr KNN:  0.6741042438994216\n",
            "Puntuación del clasificaodr Arból de Decisión:  0.7190791697775554\n",
            "Puntuación del clasificaodr SVM:  0.7393888848129656\n"
          ],
          "name": "stdout"
        }
      ]
    },
    {
      "cell_type": "markdown",
      "metadata": {
        "id": "_f1PZj6wcYky",
        "colab_type": "text"
      },
      "source": [
        "###***49.\tR1 -> L1 -> F1 -> T1 -> D2 -> EMBEDDED***"
      ]
    },
    {
      "cell_type": "code",
      "metadata": {
        "id": "dMN4iDGEcw5J",
        "colab_type": "code",
        "colab": {
          "base_uri": "https://localhost:8080/",
          "height": 68
        },
        "outputId": "8b2fdd6c-3bec-42b7-b477-3698d56bc5cd"
      },
      "source": [
        "prove(df.copy(), [1,1,1,1,2,2], 10)"
      ],
      "execution_count": null,
      "outputs": [
        {
          "output_type": "stream",
          "text": [
            "Puntuación del clasificaodr KNN:  0.5012727272727273\n",
            "Puntuación del clasificaodr Arból de Decisión:  0.6510909090909089\n",
            "Puntuación del clasificaodr SVM:  0.7036363636363635\n"
          ],
          "name": "stdout"
        }
      ]
    },
    {
      "cell_type": "markdown",
      "metadata": {
        "id": "RWtELjtgc1aR",
        "colab_type": "text"
      },
      "source": [
        "###***50.\tR2 -> L1 -> F1 -> T1 -> D2 -> EMBEDDED***"
      ]
    },
    {
      "cell_type": "code",
      "metadata": {
        "id": "sLIu6qmRc8jc",
        "colab_type": "code",
        "colab": {
          "base_uri": "https://localhost:8080/",
          "height": 68
        },
        "outputId": "5152c555-81c8-4c99-adda-1592c95e4800"
      },
      "source": [
        "prove(df.copy(), [2,1,1,1,2,2], 10)"
      ],
      "execution_count": null,
      "outputs": [
        {
          "output_type": "stream",
          "text": [
            "Puntuación del clasificaodr KNN:  0.5216882163135719\n",
            "Puntuación del clasificaodr Arból de Decisión:  0.6565316073475953\n",
            "Puntuación del clasificaodr SVM:  0.7058118592108917\n"
          ],
          "name": "stdout"
        }
      ]
    },
    {
      "cell_type": "markdown",
      "metadata": {
        "id": "EKdmIPIOc_IE",
        "colab_type": "text"
      },
      "source": [
        "###***51.\tR1 -> L2 -> F1 -> T1 -> D2 -> EMBEDDED***"
      ]
    },
    {
      "cell_type": "code",
      "metadata": {
        "id": "kGsOhts5dHwj",
        "colab_type": "code",
        "colab": {
          "base_uri": "https://localhost:8080/",
          "height": 68
        },
        "outputId": "e23851a3-d258-469c-ba72-d6da9921ddc6"
      },
      "source": [
        "prove(df.copy(), [1,2,1,1,2,2], 10)"
      ],
      "execution_count": null,
      "outputs": [
        {
          "output_type": "stream",
          "text": [
            "Puntuación del clasificaodr KNN:  0.5012727272727273\n",
            "Puntuación del clasificaodr Arból de Decisión:  0.6503636363636364\n",
            "Puntuación del clasificaodr SVM:  0.7036363636363635\n"
          ],
          "name": "stdout"
        }
      ]
    },
    {
      "cell_type": "markdown",
      "metadata": {
        "id": "ahCEymLCdG5h",
        "colab_type": "text"
      },
      "source": [
        "###***52.\tR2 -> L2 -> F1 -> T1 -> D2 -> EMBEDDED***"
      ]
    },
    {
      "cell_type": "code",
      "metadata": {
        "id": "186qbDGodRJD",
        "colab_type": "code",
        "colab": {
          "base_uri": "https://localhost:8080/",
          "height": 68
        },
        "outputId": "db830c33-c59c-4286-846f-a328cfcec3b0"
      },
      "source": [
        "prove(df.copy(), [1,2,1,1,2,2], 10)"
      ],
      "execution_count": null,
      "outputs": [
        {
          "output_type": "stream",
          "text": [
            "Puntuación del clasificaodr KNN:  0.5012727272727273\n",
            "Puntuación del clasificaodr Arból de Decisión:  0.6476969696969697\n",
            "Puntuación del clasificaodr SVM:  0.7036363636363635\n"
          ],
          "name": "stdout"
        }
      ]
    },
    {
      "cell_type": "markdown",
      "metadata": {
        "id": "F7OBf5HCdSc8",
        "colab_type": "text"
      },
      "source": [
        "###***53.\tR1 -> L1 -> F2 -> T1 -> D2 -> EMBEDDED***"
      ]
    },
    {
      "cell_type": "code",
      "metadata": {
        "id": "nH98xGFhdYpb",
        "colab_type": "code",
        "colab": {
          "base_uri": "https://localhost:8080/",
          "height": 68
        },
        "outputId": "f729320e-5b4d-4e15-8c56-95598442fa5d"
      },
      "source": [
        "prove(df.copy(), [1,1,2,1,2,2], 10)"
      ],
      "execution_count": null,
      "outputs": [
        {
          "output_type": "stream",
          "text": [
            "Puntuación del clasificaodr KNN:  0.4787878787878788\n",
            "Puntuación del clasificaodr Arból de Decisión:  0.5902424242424242\n",
            "Puntuación del clasificaodr SVM:  0.6994545454545456\n"
          ],
          "name": "stdout"
        }
      ]
    },
    {
      "cell_type": "markdown",
      "metadata": {
        "id": "x_iEy4A1ddZo",
        "colab_type": "text"
      },
      "source": [
        "###***54.\tR2 -> L1 -> F2 -> T1 -> D2 -> EMBEDDED***"
      ]
    },
    {
      "cell_type": "code",
      "metadata": {
        "id": "Spe5hmxSdjbM",
        "colab_type": "code",
        "colab": {
          "base_uri": "https://localhost:8080/",
          "height": 68
        },
        "outputId": "1afa704d-7f22-4fdc-b22d-a95e4d26743c"
      },
      "source": [
        "prove(df.copy(), [2,1,2,1,2,2], 10)"
      ],
      "execution_count": null,
      "outputs": [
        {
          "output_type": "stream",
          "text": [
            "Puntuación del clasificaodr KNN:  0.49675086565420734\n",
            "Puntuación del clasificaodr Arból de Decisión:  0.5901696279449146\n",
            "Puntuación del clasificaodr SVM:  0.6904046169183429\n"
          ],
          "name": "stdout"
        }
      ]
    },
    {
      "cell_type": "markdown",
      "metadata": {
        "id": "JEjPSoaedqr6",
        "colab_type": "text"
      },
      "source": [
        "###***55.\tR1 -> L2 -> F2 -> T1 -> D2 -> EMBEDDED***"
      ]
    },
    {
      "cell_type": "code",
      "metadata": {
        "id": "JTpesdm9duLx",
        "colab_type": "code",
        "colab": {
          "base_uri": "https://localhost:8080/",
          "height": 68
        },
        "outputId": "65b8c370-be5a-4082-ce32-7a2cdc65ef00"
      },
      "source": [
        "prove(df.copy(), [1,2,2,1,2,2], 10)"
      ],
      "execution_count": null,
      "outputs": [
        {
          "output_type": "stream",
          "text": [
            "Puntuación del clasificaodr KNN:  0.4787878787878788\n",
            "Puntuación del clasificaodr Arból de Decisión:  0.5942424242424243\n",
            "Puntuación del clasificaodr SVM:  0.6994545454545456\n"
          ],
          "name": "stdout"
        }
      ]
    },
    {
      "cell_type": "markdown",
      "metadata": {
        "id": "jQu3r-PidxPT",
        "colab_type": "text"
      },
      "source": [
        "###***56.\tR2 -> L2 -> F2 -> T1 -> D2 -> EMBEDDED***"
      ]
    },
    {
      "cell_type": "code",
      "metadata": {
        "id": "dPgpummYd-3z",
        "colab_type": "code",
        "colab": {
          "base_uri": "https://localhost:8080/",
          "height": 68
        },
        "outputId": "721a8acb-4e19-4214-8994-31bc9669ec11"
      },
      "source": [
        "prove(df.copy(), [2,2,2,1,2,2], 10)"
      ],
      "execution_count": null,
      "outputs": [
        {
          "output_type": "stream",
          "text": [
            "Puntuación del clasificaodr KNN:  0.4890761056421809\n",
            "Puntuación del clasificaodr Arból de Decisión:  0.5997040160313262\n",
            "Puntuación del clasificaodr SVM:  0.6872873267073203\n"
          ],
          "name": "stdout"
        }
      ]
    },
    {
      "cell_type": "markdown",
      "metadata": {
        "id": "m4m7TI2geE68",
        "colab_type": "text"
      },
      "source": [
        "###***57.\tR1 -> L1 -> F1 -> T2 -> D2 -> EMBEDDED***"
      ]
    },
    {
      "cell_type": "code",
      "metadata": {
        "id": "ZYYm1EYPeMmx",
        "colab_type": "code",
        "colab": {
          "base_uri": "https://localhost:8080/",
          "height": 68
        },
        "outputId": "14ebf3b5-2ab6-4cf0-a16c-cb34ab0e7159"
      },
      "source": [
        "prove(df.copy(), [1,1,1,2,2,2], 10)"
      ],
      "execution_count": null,
      "outputs": [
        {
          "output_type": "stream",
          "text": [
            "Puntuación del clasificaodr KNN:  0.5848484848484847\n",
            "Puntuación del clasificaodr Arból de Decisión:  0.692969696969697\n",
            "Puntuación del clasificaodr SVM:  0.708\n"
          ],
          "name": "stdout"
        }
      ]
    },
    {
      "cell_type": "markdown",
      "metadata": {
        "id": "bJO1lULreYYk",
        "colab_type": "text"
      },
      "source": [
        "###***58.\tR2 -> L1 -> F1 -> T2 -> D2 -> EMBEDDED***"
      ]
    },
    {
      "cell_type": "code",
      "metadata": {
        "id": "wX6mRKn0efx4",
        "colab_type": "code",
        "colab": {
          "base_uri": "https://localhost:8080/",
          "height": 68
        },
        "outputId": "299dbc0d-58f5-4dd9-b5a6-ec7047d6000c"
      },
      "source": [
        "prove(df.copy(), [2,1,1,2,2,2], 10)"
      ],
      "execution_count": null,
      "outputs": [
        {
          "output_type": "stream",
          "text": [
            "Puntuación del clasificaodr KNN:  0.6019691025823612\n",
            "Puntuación del clasificaodr Arból de Decisión:  0.6914244848871952\n",
            "Puntuación del clasificaodr SVM:  0.7091684181149382\n"
          ],
          "name": "stdout"
        }
      ]
    },
    {
      "cell_type": "markdown",
      "metadata": {
        "id": "5kSw_fgaeiAm",
        "colab_type": "text"
      },
      "source": [
        "###***59.\tR1 -> L2 -> F1 -> T2 -> D2 -> EMBEDDED***"
      ]
    },
    {
      "cell_type": "code",
      "metadata": {
        "id": "PnQ7BI1deoDx",
        "colab_type": "code",
        "colab": {
          "base_uri": "https://localhost:8080/",
          "height": 68
        },
        "outputId": "42b31a35-b175-4ae1-ad3b-7b6f36dc5cf5"
      },
      "source": [
        "prove(df.copy(), [1,2,1,2,2,2], 10)"
      ],
      "execution_count": null,
      "outputs": [
        {
          "output_type": "stream",
          "text": [
            "Puntuación del clasificaodr KNN:  0.5848484848484847\n",
            "Puntuación del clasificaodr Arból de Decisión:  0.7026060606060606\n",
            "Puntuación del clasificaodr SVM:  0.708\n"
          ],
          "name": "stdout"
        }
      ]
    },
    {
      "cell_type": "markdown",
      "metadata": {
        "id": "C-fV0fKyerl2",
        "colab_type": "text"
      },
      "source": [
        "###***60.\tR2 -> L2 -> F1 -> T2 -> D2 -> EMBEDDED***"
      ]
    },
    {
      "cell_type": "code",
      "metadata": {
        "id": "N2r82LCkexwi",
        "colab_type": "code",
        "colab": {
          "base_uri": "https://localhost:8080/",
          "height": 68
        },
        "outputId": "4d876580-6e00-48fe-ce67-f89891b4ba30"
      },
      "source": [
        "prove(df.copy(), [2,2,1,2,2,2], 10)"
      ],
      "execution_count": null,
      "outputs": [
        {
          "output_type": "stream",
          "text": [
            "Puntuación del clasificaodr KNN:  0.6024528187887603\n",
            "Puntuación del clasificaodr Arból de Decisión:  0.6904048686665544\n",
            "Puntuación del clasificaodr SVM:  0.7070694494194687\n"
          ],
          "name": "stdout"
        }
      ]
    },
    {
      "cell_type": "markdown",
      "metadata": {
        "id": "1lvyfNgge0m8",
        "colab_type": "text"
      },
      "source": [
        "###***61.\tR1 -> L1 -> F2 -> T2 -> D2 -> EMBEDDED***"
      ]
    },
    {
      "cell_type": "code",
      "metadata": {
        "id": "Bn54ICA1e7SW",
        "colab_type": "code",
        "colab": {
          "base_uri": "https://localhost:8080/",
          "height": 68
        },
        "outputId": "7f4145b9-00f9-454c-9c3f-7cdbf704e8a3"
      },
      "source": [
        "prove(df.copy(), [1,1,2,2,2,2], 10)"
      ],
      "execution_count": null,
      "outputs": [
        {
          "output_type": "stream",
          "text": [
            "Puntuación del clasificaodr KNN:  0.5834545454545454\n",
            "Puntuación del clasificaodr Arból de Decisión:  0.6311515151515151\n",
            "Puntuación del clasificaodr SVM:  0.712969696969697\n"
          ],
          "name": "stdout"
        }
      ]
    },
    {
      "cell_type": "markdown",
      "metadata": {
        "id": "ob46XFmBe_p5",
        "colab_type": "text"
      },
      "source": [
        "###***62.\tR2 -> L1 -> F2 -> T2 -> D2 -> EMBEDDED***"
      ]
    },
    {
      "cell_type": "code",
      "metadata": {
        "id": "9Gz38dTWfGwn",
        "colab_type": "code",
        "colab": {
          "base_uri": "https://localhost:8080/",
          "height": 68
        },
        "outputId": "20f6ba8c-42f4-4250-da68-052ebda3b748"
      },
      "source": [
        "prove(df.copy(), [2,1,2,2,2,2], 10)"
      ],
      "execution_count": null,
      "outputs": [
        {
          "output_type": "stream",
          "text": [
            "Puntuación del clasificaodr KNN:  0.6001140059757832\n",
            "Puntuación del clasificaodr Arból de Decisión:  0.6237984417504989\n",
            "Puntuación del clasificaodr SVM:  0.7113278783092303\n"
          ],
          "name": "stdout"
        }
      ]
    },
    {
      "cell_type": "markdown",
      "metadata": {
        "id": "KTDH647-fK1d",
        "colab_type": "text"
      },
      "source": [
        "###***63. R1 -> L2 -> F2 -> T2 -> D2 -> EMBEDDED***"
      ]
    },
    {
      "cell_type": "code",
      "metadata": {
        "id": "5KcieLM2fSCF",
        "colab_type": "code",
        "colab": {
          "base_uri": "https://localhost:8080/",
          "height": 68
        },
        "outputId": "fad3bb34-b918-45b8-bca6-de24b8baf8ad"
      },
      "source": [
        "prove(df.copy(), [1,2,2,2,2,2], 10)"
      ],
      "execution_count": null,
      "outputs": [
        {
          "output_type": "stream",
          "text": [
            "Puntuación del clasificaodr KNN:  0.5834545454545454\n",
            "Puntuación del clasificaodr Arból de Decisión:  0.6283030303030303\n",
            "Puntuación del clasificaodr SVM:  0.712969696969697\n"
          ],
          "name": "stdout"
        }
      ]
    },
    {
      "cell_type": "markdown",
      "metadata": {
        "id": "mPOEaS1NfUwS",
        "colab_type": "text"
      },
      "source": [
        "###***64.\tR2 -> L2 -> F2 -> T2 -> D2 -> EMBEDDED***"
      ]
    },
    {
      "cell_type": "code",
      "metadata": {
        "id": "L4r-FbLefdnW",
        "colab_type": "code",
        "colab": {
          "base_uri": "https://localhost:8080/",
          "height": 68
        },
        "outputId": "2ed9c8d8-2b8b-4298-c283-2e6cee25df93"
      },
      "source": [
        "prove(df.copy(), [2,2,2,2,2,2], 10)"
      ],
      "execution_count": null,
      "outputs": [
        {
          "output_type": "stream",
          "text": [
            "Puntuación del clasificaodr KNN:  0.5886038259973904\n",
            "Puntuación del clasificaodr Arból de Decisión:  0.6260761876401699\n",
            "Puntuación del clasificaodr SVM:  0.6971756727791132\n"
          ],
          "name": "stdout"
        }
      ]
    },
    {
      "cell_type": "markdown",
      "metadata": {
        "colab_type": "text",
        "id": "MGALpUvzk9T5"
      },
      "source": [
        "###***65. R1 -> L1 -> F1 -> T1 -> D1 -> WRAPPER***"
      ]
    },
    {
      "cell_type": "code",
      "metadata": {
        "colab_type": "code",
        "id": "__Bj4sNUk9UF",
        "colab": {
          "base_uri": "https://localhost:8080/",
          "height": 68
        },
        "outputId": "fbc38012-2adb-476d-f331-c01b53547d15"
      },
      "source": [
        "prove(df.copy(), [1,1,1,1,1,3], 10)"
      ],
      "execution_count": null,
      "outputs": [
        {
          "output_type": "stream",
          "text": [
            "Puntuación del clasificaodr KNN:  0.5729090909090908\n",
            "Puntuación del clasificaodr Arból de Decisión:  0.7306666666666667\n",
            "Puntuación del clasificaodr SVM:  0.666848484848485\n"
          ],
          "name": "stdout"
        }
      ]
    },
    {
      "cell_type": "markdown",
      "metadata": {
        "colab_type": "text",
        "id": "iBw390euk9UM"
      },
      "source": [
        "###***66. R2 -> L1 -> F1 -> T1 -> D1 -> WRAPPER***"
      ]
    },
    {
      "cell_type": "code",
      "metadata": {
        "colab_type": "code",
        "id": "DRIiCc-Kk9UP",
        "colab": {
          "base_uri": "https://localhost:8080/",
          "height": 68
        },
        "outputId": "dddafa98-dc73-4ab2-bb04-32f8deaad28e"
      },
      "source": [
        "prove(df.copy(), [2,1,1,1,1,3], 10)"
      ],
      "execution_count": null,
      "outputs": [
        {
          "output_type": "stream",
          "text": [
            "Puntuación del clasificaodr KNN:  0.6098293290982092\n",
            "Puntuación del clasificaodr Arból de Decisión:  0.7417986546575578\n",
            "Puntuación del clasificaodr SVM:  0.7933678372239222\n"
          ],
          "name": "stdout"
        }
      ]
    },
    {
      "cell_type": "markdown",
      "metadata": {
        "colab_type": "text",
        "id": "0z1f4eRak9US"
      },
      "source": [
        "###***67.\tR1 -> L2 -> F1 -> T1 -> D1 -> WRAPPER***"
      ]
    },
    {
      "cell_type": "code",
      "metadata": {
        "colab_type": "code",
        "id": "4dqb3FNak9UT",
        "colab": {
          "base_uri": "https://localhost:8080/",
          "height": 68
        },
        "outputId": "f609ecc2-e9fa-4723-c353-748002606efc"
      },
      "source": [
        "prove(df.copy(), [1,2,1,1,1,3], 10)"
      ],
      "execution_count": null,
      "outputs": [
        {
          "output_type": "stream",
          "text": [
            "Puntuación del clasificaodr KNN:  0.5729090909090908\n",
            "Puntuación del clasificaodr Arból de Decisión:  0.7264242424242424\n",
            "Puntuación del clasificaodr SVM:  0.666848484848485\n"
          ],
          "name": "stdout"
        }
      ]
    },
    {
      "cell_type": "markdown",
      "metadata": {
        "colab_type": "text",
        "id": "ksHnFJKdk9UW"
      },
      "source": [
        "###***68.\tR2 -> L2 -> F1 -> T1 -> D1 -> WRAPPER***"
      ]
    },
    {
      "cell_type": "code",
      "metadata": {
        "colab_type": "code",
        "id": "7wtrTyBNk9UY",
        "colab": {
          "base_uri": "https://localhost:8080/",
          "height": 68
        },
        "outputId": "6ced2e91-9d1f-41d4-8571-46e635a406c6"
      },
      "source": [
        "prove(df.copy(), [2,2,1,1,1,3], 10)"
      ],
      "execution_count": null,
      "outputs": [
        {
          "output_type": "stream",
          "text": [
            "Puntuación del clasificaodr KNN:  0.6083898328248019\n",
            "Puntuación del clasificaodr Arból de Decisión:  0.737900117818163\n",
            "Puntuación del clasificaodr SVM:  0.7949838809216575\n"
          ],
          "name": "stdout"
        }
      ]
    },
    {
      "cell_type": "markdown",
      "metadata": {
        "colab_type": "text",
        "id": "icL25RM5k9Ue"
      },
      "source": [
        "###***69.\tR1 -> L1 -> F2 -> T1 -> D1 -> WRAPPER***"
      ]
    },
    {
      "cell_type": "code",
      "metadata": {
        "colab_type": "code",
        "id": "mrvsNp5Lk9Uf",
        "colab": {
          "base_uri": "https://localhost:8080/",
          "height": 68
        },
        "outputId": "75eec0ac-dac2-4905-a606-263b265aaa5e"
      },
      "source": [
        "prove(df.copy(), [1,1,2,1,1,3], 10)"
      ],
      "execution_count": null,
      "outputs": [
        {
          "output_type": "stream",
          "text": [
            "Puntuación del clasificaodr KNN:  0.5572727272727274\n",
            "Puntuación del clasificaodr Arból de Decisión:  0.6933333333333332\n",
            "Puntuación del clasificaodr SVM:  0.715030303030303\n"
          ],
          "name": "stdout"
        }
      ]
    },
    {
      "cell_type": "markdown",
      "metadata": {
        "colab_type": "text",
        "id": "ge6vh6umk9Uj"
      },
      "source": [
        "###***70.\tR2 -> L1 -> F2 -> T1 -> D1 -> WRAPPER***"
      ]
    },
    {
      "cell_type": "code",
      "metadata": {
        "colab_type": "code",
        "id": "wltLeQ5Tk9Uk",
        "colab": {
          "base_uri": "https://localhost:8080/",
          "height": 68
        },
        "outputId": "d0520ce8-cc3e-45e7-be7b-98d47588a28c"
      },
      "source": [
        "prove(df.copy(), [2,1,2,1,1,3], 10)"
      ],
      "execution_count": null,
      "outputs": [
        {
          "output_type": "stream",
          "text": [
            "Puntuación del clasificaodr KNN:  0.5462213672373439\n",
            "Puntuación del clasificaodr Arból de Decisión:  0.5500621458442124\n",
            "Puntuación del clasificaodr SVM:  0.7578541845587717\n"
          ],
          "name": "stdout"
        }
      ]
    },
    {
      "cell_type": "markdown",
      "metadata": {
        "colab_type": "text",
        "id": "i5O2fm1xk9Uo"
      },
      "source": [
        "###***71.\tR1 -> L2 -> F2 -> T1 -> D1 -> WRAPPER***"
      ]
    },
    {
      "cell_type": "code",
      "metadata": {
        "colab_type": "code",
        "id": "JxZH-jcUk9Uo",
        "colab": {
          "base_uri": "https://localhost:8080/",
          "height": 68
        },
        "outputId": "5280c14d-18ac-4c19-ba78-cc32401bb411"
      },
      "source": [
        "prove(df.copy(), [1,2,2,1,1,3], 10)"
      ],
      "execution_count": null,
      "outputs": [
        {
          "output_type": "stream",
          "text": [
            "Puntuación del clasificaodr KNN:  0.5572727272727274\n",
            "Puntuación del clasificaodr Arból de Decisión:  0.6875757575757577\n",
            "Puntuación del clasificaodr SVM:  0.715030303030303\n"
          ],
          "name": "stdout"
        }
      ]
    },
    {
      "cell_type": "markdown",
      "metadata": {
        "colab_type": "text",
        "id": "WihLEvByk9Ur"
      },
      "source": [
        "###***72.\tR2 -> L2 -> F2 -> T1 -> D1 -> WRAPPER***"
      ]
    },
    {
      "cell_type": "code",
      "metadata": {
        "colab_type": "code",
        "id": "EjsOHwhhk9Us",
        "colab": {
          "base_uri": "https://localhost:8080/",
          "height": 68
        },
        "outputId": "af953bf8-ffa0-4d2b-92b7-1f6adae45dde"
      },
      "source": [
        "prove(df.copy(), [2,2,2,1,1,3], 10)"
      ],
      "execution_count": null,
      "outputs": [
        {
          "output_type": "stream",
          "text": [
            "Puntuación del clasificaodr KNN:  0.6659484649832624\n",
            "Puntuación del clasificaodr Arból de Decisión:  0.7194398170725567\n",
            "Puntuación del clasificaodr SVM:  0.7524585011055342\n"
          ],
          "name": "stdout"
        }
      ]
    },
    {
      "cell_type": "markdown",
      "metadata": {
        "colab_type": "text",
        "id": "WjUb3mahk9Uu"
      },
      "source": [
        "###***73.\tR1 -> L1 -> F1 -> T2 -> D1 -> WRAPPER***"
      ]
    },
    {
      "cell_type": "code",
      "metadata": {
        "colab_type": "code",
        "id": "hig1_cp7k9Uv",
        "colab": {
          "base_uri": "https://localhost:8080/",
          "height": 68
        },
        "outputId": "ba3a1f00-54d0-48ca-8885-d21d675924cf"
      },
      "source": [
        "prove(df.copy(), [1,1,1,2,1,3], 10)"
      ],
      "execution_count": null,
      "outputs": [
        {
          "output_type": "stream",
          "text": [
            "Puntuación del clasificaodr KNN:  0.6022424242424242\n",
            "Puntuación del clasificaodr Arból de Decisión:  0.7298787878787878\n",
            "Puntuación del clasificaodr SVM:  0.7762424242424242\n"
          ],
          "name": "stdout"
        }
      ]
    },
    {
      "cell_type": "markdown",
      "metadata": {
        "colab_type": "text",
        "id": "KnIOAH3hk9Uz"
      },
      "source": [
        "###***74.\tR2 -> L1 -> F1 -> T2 -> D1 -> WRAPPER***"
      ]
    },
    {
      "cell_type": "code",
      "metadata": {
        "colab_type": "code",
        "id": "Mc6MN-l1k9U0",
        "colab": {
          "base_uri": "https://localhost:8080/",
          "height": 68
        },
        "outputId": "d339567a-d5eb-4874-c674-8d648a799850"
      },
      "source": [
        "prove(df.copy(), [2,1,1,2,1,3], 10)"
      ],
      "execution_count": null,
      "outputs": [
        {
          "output_type": "stream",
          "text": [
            "Puntuación del clasificaodr KNN:  0.625303176774717\n",
            "Puntuación del clasificaodr Arból de Decisión:  0.7121875265234723\n",
            "Puntuación del clasificaodr SVM:  0.7299732859183558\n"
          ],
          "name": "stdout"
        }
      ]
    },
    {
      "cell_type": "markdown",
      "metadata": {
        "colab_type": "text",
        "id": "NrRw5s2Zk9U2"
      },
      "source": [
        "###***75.\tR1 -> L2 -> F1 -> T2 -> D1 -> WRAPPER***"
      ]
    },
    {
      "cell_type": "code",
      "metadata": {
        "colab_type": "code",
        "id": "9N9Asu66k9U3",
        "colab": {
          "base_uri": "https://localhost:8080/",
          "height": 68
        },
        "outputId": "f1153f51-2e2f-46c9-9aa8-64e9bed44cc4"
      },
      "source": [
        "prove(df.copy(), [1,2,1,2,1,3], 10)"
      ],
      "execution_count": null,
      "outputs": [
        {
          "output_type": "stream",
          "text": [
            "Puntuación del clasificaodr KNN:  0.6022424242424242\n",
            "Puntuación del clasificaodr Arból de Decisión:  0.729090909090909\n",
            "Puntuación del clasificaodr SVM:  0.7762424242424242\n"
          ],
          "name": "stdout"
        }
      ]
    },
    {
      "cell_type": "markdown",
      "metadata": {
        "colab_type": "text",
        "id": "0QsoL1VTk9U7"
      },
      "source": [
        "###***76.\tR2 -> L2 -> F1 -> T2 -> D1 -> WRAPPER***\n",
        "\n"
      ]
    },
    {
      "cell_type": "code",
      "metadata": {
        "colab_type": "code",
        "id": "irRdwf2Dk9U7",
        "colab": {
          "base_uri": "https://localhost:8080/",
          "height": 68
        },
        "outputId": "13a4dd27-c486-4849-a0df-d2a4423cfbe0"
      },
      "source": [
        "prove(df.copy(), [2,2,1,2,1,3], 10)"
      ],
      "execution_count": null,
      "outputs": [
        {
          "output_type": "stream",
          "text": [
            "Puntuación del clasificaodr KNN:  0.6609732010432446\n",
            "Puntuación del clasificaodr Arból de Decisión:  0.719975465338587\n",
            "Puntuación del clasificaodr SVM:  0.7427471699904624\n"
          ],
          "name": "stdout"
        }
      ]
    },
    {
      "cell_type": "markdown",
      "metadata": {
        "colab_type": "text",
        "id": "GBFx4FWNk9U9"
      },
      "source": [
        "###***77.\tR1 -> L1 -> F2 -> T2 -> D1 -> WRAPPER***"
      ]
    },
    {
      "cell_type": "code",
      "metadata": {
        "colab_type": "code",
        "id": "LybEuYK9k9U-",
        "colab": {
          "base_uri": "https://localhost:8080/",
          "height": 68
        },
        "outputId": "f0c2a4a1-826b-49cb-c7ee-fdda3f6609f9"
      },
      "source": [
        "prove(df.copy(), [1,1,2,2,1,3], 10)"
      ],
      "execution_count": null,
      "outputs": [
        {
          "output_type": "stream",
          "text": [
            "Puntuación del clasificaodr KNN:  0.5944242424242424\n",
            "Puntuación del clasificaodr Arból de Decisión:  0.6870303030303029\n",
            "Puntuación del clasificaodr SVM:  0.7069090909090909\n"
          ],
          "name": "stdout"
        }
      ]
    },
    {
      "cell_type": "markdown",
      "metadata": {
        "colab_type": "text",
        "id": "T5wyyjVIk9VA"
      },
      "source": [
        "###***78.\tR2 -> L1 -> F2 -> T2 -> D1 -> WRAPPER***"
      ]
    },
    {
      "cell_type": "code",
      "metadata": {
        "colab_type": "code",
        "id": "evuvNUA2k9VA",
        "colab": {
          "base_uri": "https://localhost:8080/",
          "height": 68
        },
        "outputId": "20c46fa2-d5d6-4c45-be2d-82e6223404f7"
      },
      "source": [
        "prove(df.copy(), [2,1,2,2,1,3], 10)"
      ],
      "execution_count": null,
      "outputs": [
        {
          "output_type": "stream",
          "text": [
            "Puntuación del clasificaodr KNN:  0.6026331784002912\n",
            "Puntuación del clasificaodr Arból de Decisión:  0.6934105984558483\n",
            "Puntuación del clasificaodr SVM:  0.7305142208968279\n"
          ],
          "name": "stdout"
        }
      ]
    },
    {
      "cell_type": "markdown",
      "metadata": {
        "colab_type": "text",
        "id": "Vlzt0z0ck9VD"
      },
      "source": [
        "###***79.\tR1 -> L2 -> F2 -> T2 -> D1 -> WRAPPER***"
      ]
    },
    {
      "cell_type": "code",
      "metadata": {
        "colab_type": "code",
        "id": "2gttfkyIk9VD",
        "colab": {
          "base_uri": "https://localhost:8080/",
          "height": 68
        },
        "outputId": "5acc53c0-75da-4806-cc7b-668f0241d92c"
      },
      "source": [
        "prove(df.copy(), [1,2,2,2,1,3], 10)"
      ],
      "execution_count": null,
      "outputs": [
        {
          "output_type": "stream",
          "text": [
            "Puntuación del clasificaodr KNN:  0.5944242424242424\n",
            "Puntuación del clasificaodr Arból de Decisión:  0.6832727272727273\n",
            "Puntuación del clasificaodr SVM:  0.7069090909090909\n"
          ],
          "name": "stdout"
        }
      ]
    },
    {
      "cell_type": "markdown",
      "metadata": {
        "colab_type": "text",
        "id": "uk9s301nk9VF"
      },
      "source": [
        "###***80.\tR2 -> L2 -> F2 -> T2 -> D1 -> WRAPPER***\n"
      ]
    },
    {
      "cell_type": "code",
      "metadata": {
        "colab_type": "code",
        "id": "15AXu1Ktk9VI",
        "colab": {
          "base_uri": "https://localhost:8080/",
          "height": 68
        },
        "outputId": "d276934d-d665-4433-f4f8-4ad73cd024e3"
      },
      "source": [
        "prove(df.copy(), [2,2,2,2,1,3], 10)"
      ],
      "execution_count": null,
      "outputs": [
        {
          "output_type": "stream",
          "text": [
            "Puntuación del clasificaodr KNN:  0.6741042438994216\n",
            "Puntuación del clasificaodr Arból de Decisión:  0.7249556203867141\n",
            "Puntuación del clasificaodr SVM:  0.7393888848129656\n"
          ],
          "name": "stdout"
        }
      ]
    },
    {
      "cell_type": "markdown",
      "metadata": {
        "colab_type": "text",
        "id": "VhEwTArWk9VK"
      },
      "source": [
        "###***81.\tR1 -> L1 -> F1 -> T1 -> D2 -> WRAPPER***"
      ]
    },
    {
      "cell_type": "code",
      "metadata": {
        "colab_type": "code",
        "id": "-6iwlXE6k9VL",
        "colab": {
          "base_uri": "https://localhost:8080/",
          "height": 68
        },
        "outputId": "b430ae7b-d728-4f88-80c7-cc15e4e91bae"
      },
      "source": [
        "prove(df.copy(), [1,1,1,1,2,3], 10)"
      ],
      "execution_count": null,
      "outputs": [
        {
          "output_type": "stream",
          "text": [
            "Puntuación del clasificaodr KNN:  0.5012727272727273\n",
            "Puntuación del clasificaodr Arból de Decisión:  0.6518787878787878\n",
            "Puntuación del clasificaodr SVM:  0.666848484848485\n"
          ],
          "name": "stdout"
        }
      ]
    },
    {
      "cell_type": "markdown",
      "metadata": {
        "colab_type": "text",
        "id": "VKqjlcyDk9VN"
      },
      "source": [
        "###***82.\tR2 -> L1 -> F1 -> T1 -> D2 -> WRAPPER***"
      ]
    },
    {
      "cell_type": "code",
      "metadata": {
        "colab_type": "code",
        "id": "JQzElC33k9VN",
        "colab": {
          "base_uri": "https://localhost:8080/",
          "height": 68
        },
        "outputId": "df04dd20-7420-4a15-fb73-b1702dfaef62"
      },
      "source": [
        "prove(df.copy(), [2,1,1,1,2,3], 10)"
      ],
      "execution_count": null,
      "outputs": [
        {
          "output_type": "stream",
          "text": [
            "Puntuación del clasificaodr KNN:  0.5216882163135719\n",
            "Puntuación del clasificaodr Arból de Decisión:  0.6564701448199568\n",
            "Puntuación del clasificaodr SVM:  0.7058118592108917\n"
          ],
          "name": "stdout"
        }
      ]
    },
    {
      "cell_type": "markdown",
      "metadata": {
        "colab_type": "text",
        "id": "61dvY9OJk9VP"
      },
      "source": [
        "###***83.\tR1 -> L2 -> F1 -> T1 -> D2 -> WRAPPER***"
      ]
    },
    {
      "cell_type": "code",
      "metadata": {
        "colab_type": "code",
        "id": "mzpDGZ4ek9VQ",
        "colab": {
          "base_uri": "https://localhost:8080/",
          "height": 68
        },
        "outputId": "6660cfdb-615d-4018-84fe-b2ca38aab4da"
      },
      "source": [
        "prove(df.copy(), [1,2,1,1,2,3], 10)"
      ],
      "execution_count": null,
      "outputs": [
        {
          "output_type": "stream",
          "text": [
            "Puntuación del clasificaodr KNN:  0.5012727272727273\n",
            "Puntuación del clasificaodr Arból de Decisión:  0.6519393939393939\n",
            "Puntuación del clasificaodr SVM:  0.666848484848485\n"
          ],
          "name": "stdout"
        }
      ]
    },
    {
      "cell_type": "markdown",
      "metadata": {
        "colab_type": "text",
        "id": "Y47FtimLk9VS"
      },
      "source": [
        "###***84.\tR2 -> L2 -> F1 -> T1 -> D2 -> WRAPPER***"
      ]
    },
    {
      "cell_type": "code",
      "metadata": {
        "colab_type": "code",
        "id": "mU_0gomIk9VT",
        "colab": {
          "base_uri": "https://localhost:8080/",
          "height": 68
        },
        "outputId": "65023ec6-063e-476a-c273-c59f47b5ba38"
      },
      "source": [
        "prove(df.copy(), [1,2,1,1,2,3], 10)"
      ],
      "execution_count": null,
      "outputs": [
        {
          "output_type": "stream",
          "text": [
            "Puntuación del clasificaodr KNN:  0.5012727272727273\n",
            "Puntuación del clasificaodr Arból de Decisión:  0.6528484848484849\n",
            "Puntuación del clasificaodr SVM:  0.666848484848485\n"
          ],
          "name": "stdout"
        }
      ]
    },
    {
      "cell_type": "markdown",
      "metadata": {
        "colab_type": "text",
        "id": "5rpZvIDFk9VW"
      },
      "source": [
        "###***85.\tR1 -> L1 -> F2 -> T1 -> D2 -> WRAPPER***"
      ]
    },
    {
      "cell_type": "code",
      "metadata": {
        "colab_type": "code",
        "id": "tdgo8lLGk9VW",
        "colab": {
          "base_uri": "https://localhost:8080/",
          "height": 68
        },
        "outputId": "da674b08-695d-4706-aa81-252bf2d48258"
      },
      "source": [
        "prove(df.copy(), [1,1,2,1,2,3], 10)"
      ],
      "execution_count": null,
      "outputs": [
        {
          "output_type": "stream",
          "text": [
            "Puntuación del clasificaodr KNN:  0.4787878787878788\n",
            "Puntuación del clasificaodr Arból de Decisión:  0.5982424242424244\n",
            "Puntuación del clasificaodr SVM:  0.6994545454545456\n"
          ],
          "name": "stdout"
        }
      ]
    },
    {
      "cell_type": "markdown",
      "metadata": {
        "colab_type": "text",
        "id": "ODO08kSnk9Vc"
      },
      "source": [
        "###***86.\tR2 -> L1 -> F2 -> T1 -> D2 -> WRAPPER***"
      ]
    },
    {
      "cell_type": "code",
      "metadata": {
        "colab_type": "code",
        "id": "_VXyN4yWk9Vf",
        "colab": {
          "base_uri": "https://localhost:8080/",
          "height": 68
        },
        "outputId": "31bfdfe2-2c19-4a3d-fb63-223d03610a7d"
      },
      "source": [
        "prove(df.copy(), [2,1,2,1,2,3], 10)"
      ],
      "execution_count": null,
      "outputs": [
        {
          "output_type": "stream",
          "text": [
            "Puntuación del clasificaodr KNN:  0.4704906141073943\n",
            "Puntuación del clasificaodr Arból de Decisión:  0.4315870998462178\n",
            "Puntuación del clasificaodr SVM:  0.7534184170360174\n"
          ],
          "name": "stdout"
        }
      ]
    },
    {
      "cell_type": "markdown",
      "metadata": {
        "colab_type": "text",
        "id": "spPLC8QHk9Vj"
      },
      "source": [
        "###***87.\tR1 -> L2 -> F2 -> T1 -> D2 -> WRAPPER***"
      ]
    },
    {
      "cell_type": "code",
      "metadata": {
        "colab_type": "code",
        "id": "lqlcBJIYk9Vj",
        "colab": {
          "base_uri": "https://localhost:8080/",
          "height": 68
        },
        "outputId": "fa7201f3-1e96-4503-c262-9e1da1a13cb6"
      },
      "source": [
        "prove(df.copy(), [1,2,2,1,2,3], 10)"
      ],
      "execution_count": null,
      "outputs": [
        {
          "output_type": "stream",
          "text": [
            "Puntuación del clasificaodr KNN:  0.4787878787878788\n",
            "Puntuación del clasificaodr Arból de Decisión:  0.5933333333333334\n",
            "Puntuación del clasificaodr SVM:  0.6994545454545456\n"
          ],
          "name": "stdout"
        }
      ]
    },
    {
      "cell_type": "markdown",
      "metadata": {
        "colab_type": "text",
        "id": "UVD1E2NLk9Vl"
      },
      "source": [
        "###***88.\tR2 -> L2 -> F2 -> T1 -> D2 -> WRAPPER***"
      ]
    },
    {
      "cell_type": "code",
      "metadata": {
        "colab_type": "code",
        "id": "aKn1Toquk9Vm",
        "colab": {
          "base_uri": "https://localhost:8080/",
          "height": 68
        },
        "outputId": "545a4509-3609-41bb-ef12-d987ad882af4"
      },
      "source": [
        "prove(df.copy(), [2,2,2,1,2,3], 10)"
      ],
      "execution_count": null,
      "outputs": [
        {
          "output_type": "stream",
          "text": [
            "Puntuación del clasificaodr KNN:  0.5795470761962715\n",
            "Puntuación del clasificaodr Arból de Decisión:  0.624877038980693\n",
            "Puntuación del clasificaodr SVM:  0.7272130465993132\n"
          ],
          "name": "stdout"
        }
      ]
    },
    {
      "cell_type": "markdown",
      "metadata": {
        "colab_type": "text",
        "id": "rOXJeGk1k9Vo"
      },
      "source": [
        "###***89.\tR1 -> L1 -> F1 -> T2 -> D2 -> WRAPPER***"
      ]
    },
    {
      "cell_type": "code",
      "metadata": {
        "colab_type": "code",
        "id": "F0ZCahZqk9Vo",
        "colab": {
          "base_uri": "https://localhost:8080/",
          "height": 68
        },
        "outputId": "aacd8df8-f174-4e7f-98e4-261debf525a7"
      },
      "source": [
        "prove(df.copy(), [1,1,1,2,2,3], 10)"
      ],
      "execution_count": null,
      "outputs": [
        {
          "output_type": "stream",
          "text": [
            "Puntuación del clasificaodr KNN:  0.5336969696969696\n",
            "Puntuación del clasificaodr Arból de Decisión:  0.6487272727272728\n",
            "Puntuación del clasificaodr SVM:  0.6844242424242424\n"
          ],
          "name": "stdout"
        }
      ]
    },
    {
      "cell_type": "markdown",
      "metadata": {
        "colab_type": "text",
        "id": "Xdk5SRkck9Vr"
      },
      "source": [
        "###***90.\tR2 -> L1 -> F1 -> T2 -> D2 -> WRAPPER***"
      ]
    },
    {
      "cell_type": "code",
      "metadata": {
        "colab_type": "code",
        "id": "Rymy09aVk9Vr",
        "colab": {
          "base_uri": "https://localhost:8080/",
          "height": 68
        },
        "outputId": "d598db74-71e7-4fa8-d485-a8073d5ef240"
      },
      "source": [
        "prove(df.copy(), [2,1,1,2,2,3], 10)"
      ],
      "execution_count": null,
      "outputs": [
        {
          "output_type": "stream",
          "text": [
            "Puntuación del clasificaodr KNN:  0.5462728317645823\n",
            "Puntuación del clasificaodr Arból de Decisión:  0.6380150228947016\n",
            "Puntuación del clasificaodr SVM:  0.7184045924628024\n"
          ],
          "name": "stdout"
        }
      ]
    },
    {
      "cell_type": "markdown",
      "metadata": {
        "colab_type": "text",
        "id": "IR5NcBQqk9Vt"
      },
      "source": [
        "###***91.\tR1 -> L2 -> F1 -> T2 -> D2 -> WRAPPER***"
      ]
    },
    {
      "cell_type": "code",
      "metadata": {
        "colab_type": "code",
        "id": "qNcvhGpMk9Vu",
        "colab": {
          "base_uri": "https://localhost:8080/",
          "height": 68
        },
        "outputId": "1a889779-b43c-403d-cae4-17d71a5f43be"
      },
      "source": [
        "prove(df.copy(), [1,2,1,2,2,3], 10)"
      ],
      "execution_count": null,
      "outputs": [
        {
          "output_type": "stream",
          "text": [
            "Puntuación del clasificaodr KNN:  0.5336969696969696\n",
            "Puntuación del clasificaodr Arból de Decisión:  0.6498181818181817\n",
            "Puntuación del clasificaodr SVM:  0.6844242424242424\n"
          ],
          "name": "stdout"
        }
      ]
    },
    {
      "cell_type": "markdown",
      "metadata": {
        "colab_type": "text",
        "id": "mvSBjxEGk9Vw"
      },
      "source": [
        "###***92.\tR2 -> L2 -> F1 -> T2 -> D2 -> WRAPPER***"
      ]
    },
    {
      "cell_type": "code",
      "metadata": {
        "colab_type": "code",
        "id": "IIpPCenlk9Vw",
        "colab": {
          "base_uri": "https://localhost:8080/",
          "height": 68
        },
        "outputId": "2edb4cf1-6ad9-4acf-89d3-a60eafe2cbb7"
      },
      "source": [
        "prove(df.copy(), [2,2,1,2,2,3], 10)"
      ],
      "execution_count": null,
      "outputs": [
        {
          "output_type": "stream",
          "text": [
            "Puntuación del clasificaodr KNN:  0.5757100738125757\n",
            "Puntuación del clasificaodr Arból de Decisión:  0.6433458991654907\n",
            "Puntuación del clasificaodr SVM:  0.7057565105683898\n"
          ],
          "name": "stdout"
        }
      ]
    },
    {
      "cell_type": "markdown",
      "metadata": {
        "colab_type": "text",
        "id": "myOkZNvKk9V0"
      },
      "source": [
        "###***93.\tR1 -> L1 -> F2 -> T2 -> D2 -> WRAPPER***"
      ]
    },
    {
      "cell_type": "code",
      "metadata": {
        "colab_type": "code",
        "id": "MTdMGnX2k9V1",
        "colab": {
          "base_uri": "https://localhost:8080/",
          "height": 68
        },
        "outputId": "c17a3781-ce9a-417c-ae04-e56b434ef7a5"
      },
      "source": [
        "prove(df.copy(), [1,1,2,2,2,3], 10)"
      ],
      "execution_count": null,
      "outputs": [
        {
          "output_type": "stream",
          "text": [
            "Puntuación del clasificaodr KNN:  0.5274545454545454\n",
            "Puntuación del clasificaodr Arból de Decisión:  0.5911515151515151\n",
            "Puntuación del clasificaodr SVM:  0.6754545454545455\n"
          ],
          "name": "stdout"
        }
      ]
    },
    {
      "cell_type": "markdown",
      "metadata": {
        "colab_type": "text",
        "id": "cuce1G2Fk9V3"
      },
      "source": [
        "###***94.\tR2 -> L1 -> F2 -> T2 -> D2 -> WRAPPER***"
      ]
    },
    {
      "cell_type": "code",
      "metadata": {
        "colab_type": "code",
        "id": "pgPIXajYk9V3",
        "colab": {
          "base_uri": "https://localhost:8080/",
          "height": 68
        },
        "outputId": "14ad8dfc-b5ab-4809-96f5-79162e2eb35e"
      },
      "source": [
        "prove(df.copy(), [2,1,2,2,2,3], 10)"
      ],
      "execution_count": null,
      "outputs": [
        {
          "output_type": "stream",
          "text": [
            "Puntuación del clasificaodr KNN:  0.5323597510713685\n",
            "Puntuación del clasificaodr Arból de Decisión:  0.6004713445800048\n",
            "Puntuación del clasificaodr SVM:  0.7178641609807535\n"
          ],
          "name": "stdout"
        }
      ]
    },
    {
      "cell_type": "markdown",
      "metadata": {
        "colab_type": "text",
        "id": "JGWKHdV0k9V6"
      },
      "source": [
        "###***95. R1 -> L2 -> F2 -> T2 -> D2 -> WRAPPER***"
      ]
    },
    {
      "cell_type": "code",
      "metadata": {
        "colab_type": "code",
        "id": "Dh5A42NDk9V8",
        "colab": {
          "base_uri": "https://localhost:8080/",
          "height": 68
        },
        "outputId": "24490107-191b-4d98-f88d-3b9db61a937d"
      },
      "source": [
        "prove(df.copy(), [1,2,2,2,2,3], 10)"
      ],
      "execution_count": null,
      "outputs": [
        {
          "output_type": "stream",
          "text": [
            "Puntuación del clasificaodr KNN:  0.5274545454545454\n",
            "Puntuación del clasificaodr Arból de Decisión:  0.5918787878787878\n",
            "Puntuación del clasificaodr SVM:  0.6754545454545455\n"
          ],
          "name": "stdout"
        }
      ]
    },
    {
      "cell_type": "markdown",
      "metadata": {
        "colab_type": "text",
        "id": "31YeXW0Xk9V_"
      },
      "source": [
        "###***96.\tR2 -> L2 -> F2 -> T2 -> D2 -> WRAPPER***"
      ]
    },
    {
      "cell_type": "code",
      "metadata": {
        "colab_type": "code",
        "id": "rX1oYF67k9V_",
        "colab": {
          "base_uri": "https://localhost:8080/",
          "height": 68
        },
        "outputId": "2c660463-bfd8-467d-d03e-8c8e8045c996"
      },
      "source": [
        "prove(df.copy(), [2,2,2,2,2,3], 10)"
      ],
      "execution_count": null,
      "outputs": [
        {
          "output_type": "stream",
          "text": [
            "Puntuación del clasificaodr KNN:  0.5886038259973904\n",
            "Puntuación del clasificaodr Arból de Decisión:  0.6271560076473914\n",
            "Puntuación del clasificaodr SVM:  0.6971756727791132\n"
          ],
          "name": "stdout"
        }
      ]
    },
    {
      "cell_type": "markdown",
      "metadata": {
        "colab_type": "text",
        "id": "r_JWijkCooBQ"
      },
      "source": [
        "###***97. R1 -> L1 -> F1 -> T1 -> D1 -> PCA***"
      ]
    },
    {
      "cell_type": "code",
      "metadata": {
        "colab_type": "code",
        "id": "1psl_JyRooBX",
        "colab": {
          "base_uri": "https://localhost:8080/",
          "height": 68
        },
        "outputId": "5f9af721-40fb-4d2e-81f6-c2b6cbf12e7b"
      },
      "source": [
        "prove(df.copy(), [1,1,1,1,1,4], 10)"
      ],
      "execution_count": null,
      "outputs": [
        {
          "output_type": "stream",
          "text": [
            "Puntuación del clasificaodr KNN:  0.6799153119016484\n",
            "Puntuación del clasificaodr Arból de Decisión:  0.6335706599687256\n",
            "Puntuación del clasificaodr SVM:  0.7634900358057886\n"
          ],
          "name": "stdout"
        }
      ]
    },
    {
      "cell_type": "markdown",
      "metadata": {
        "colab_type": "text",
        "id": "t4M1IctTooBd"
      },
      "source": [
        "###***98. R2 -> L1 -> F1 -> T1 -> D1 -> PCA***"
      ]
    },
    {
      "cell_type": "code",
      "metadata": {
        "colab_type": "code",
        "id": "OLIneUOSooBe",
        "colab": {
          "base_uri": "https://localhost:8080/",
          "height": 68
        },
        "outputId": "0f2c0f42-9464-413e-9da1-479ea885410d"
      },
      "source": [
        "prove(df.copy(), [2,1,1,1,1,4], 10)"
      ],
      "execution_count": null,
      "outputs": [
        {
          "output_type": "stream",
          "text": [
            "Puntuación del clasificaodr KNN:  0.6799153119016484\n",
            "Puntuación del clasificaodr Arból de Decisión:  0.6326704802924308\n",
            "Puntuación del clasificaodr SVM:  0.7634900358057886\n"
          ],
          "name": "stdout"
        }
      ]
    },
    {
      "cell_type": "markdown",
      "metadata": {
        "colab_type": "text",
        "id": "oGUlKpf-ooBg"
      },
      "source": [
        "###***99.\tR1 -> L2 -> F1 -> T1 -> D1 -> PCA***"
      ]
    },
    {
      "cell_type": "code",
      "metadata": {
        "colab_type": "code",
        "id": "yx7E0be0ooBh",
        "colab": {
          "base_uri": "https://localhost:8080/",
          "height": 68
        },
        "outputId": "5e96f77d-3f25-4275-b98a-3677d65b867d"
      },
      "source": [
        "prove(df.copy(), [1,2,1,1,1,4], 10)"
      ],
      "execution_count": null,
      "outputs": [
        {
          "output_type": "stream",
          "text": [
            "Puntuación del clasificaodr KNN:  0.6929874097123021\n",
            "Puntuación del clasificaodr Arból de Decisión:  0.6420226746017702\n",
            "Puntuación del clasificaodr SVM:  0.7686456593573373\n"
          ],
          "name": "stdout"
        }
      ]
    },
    {
      "cell_type": "markdown",
      "metadata": {
        "colab_type": "text",
        "id": "CDMMm52uooBj"
      },
      "source": [
        "###***100.\tR2 -> L2 -> F1 -> T1 -> D1 -> PCA***"
      ]
    },
    {
      "cell_type": "code",
      "metadata": {
        "colab_type": "code",
        "id": "MMTBhuumooBk",
        "colab": {
          "base_uri": "https://localhost:8080/",
          "height": 68
        },
        "outputId": "6db23abc-797f-467c-c2a8-8c5a8c9cd69e"
      },
      "source": [
        "prove(df.copy(), [2,2,1,1,1,4], 10)"
      ],
      "execution_count": null,
      "outputs": [
        {
          "output_type": "stream",
          "text": [
            "Puntuación del clasificaodr KNN:  0.6929874097123021\n",
            "Puntuación del clasificaodr Arból de Decisión:  0.6389056361389593\n",
            "Puntuación del clasificaodr SVM:  0.7686456593573373\n"
          ],
          "name": "stdout"
        }
      ]
    },
    {
      "cell_type": "markdown",
      "metadata": {
        "colab_type": "text",
        "id": "IZfdN45vooBp"
      },
      "source": [
        "###***101.\tR1 -> L1 -> F2 -> T1 -> D1 -> PCA***\n",
        "\n"
      ]
    },
    {
      "cell_type": "code",
      "metadata": {
        "colab_type": "code",
        "id": "ialkuc2IooBq",
        "colab": {
          "base_uri": "https://localhost:8080/",
          "height": 68
        },
        "outputId": "7ef2b51e-b65f-4b8e-bab2-22fbe1f1b0b0"
      },
      "source": [
        "prove(df.copy(), [1,1,2,1,1,4], 10)"
      ],
      "execution_count": null,
      "outputs": [
        {
          "output_type": "stream",
          "text": [
            "Puntuación del clasificaodr KNN:  0.6193066422686686\n",
            "Puntuación del clasificaodr Arból de Decisión:  0.6196067980648475\n",
            "Puntuación del clasificaodr SVM:  0.7051592199545702\n"
          ],
          "name": "stdout"
        }
      ]
    },
    {
      "cell_type": "markdown",
      "metadata": {
        "colab_type": "text",
        "id": "K9vSmuzBooBt"
      },
      "source": [
        "###***102.\tR2 -> L1 -> F2 -> T1 -> D1 -> PCA***"
      ]
    },
    {
      "cell_type": "code",
      "metadata": {
        "colab_type": "code",
        "id": "B03ZA364ooBt",
        "colab": {
          "base_uri": "https://localhost:8080/",
          "height": 68
        },
        "outputId": "628fe7ce-6bcc-42e4-ab5f-f9a5263dcbbf"
      },
      "source": [
        "prove(df.copy(), [2,1,2,1,1,4], 10)"
      ],
      "execution_count": null,
      "outputs": [
        {
          "output_type": "stream",
          "text": [
            "Puntuación del clasificaodr KNN:  0.6799153119016484\n",
            "Puntuación del clasificaodr Arból de Decisión:  0.6344694730118725\n",
            "Puntuación del clasificaodr SVM:  0.7634900358057886\n"
          ],
          "name": "stdout"
        }
      ]
    },
    {
      "cell_type": "markdown",
      "metadata": {
        "colab_type": "text",
        "id": "RICJaguXooBw"
      },
      "source": [
        "###***103.\tR1 -> L2 -> F2 -> T1 -> D1 -> PCA***"
      ]
    },
    {
      "cell_type": "code",
      "metadata": {
        "colab_type": "code",
        "id": "CYCccfpOooBw",
        "colab": {
          "base_uri": "https://localhost:8080/",
          "height": 68
        },
        "outputId": "17411bbb-1b1a-473d-fd69-4f5de73b8a00"
      },
      "source": [
        "prove(df.copy(), [1,2,2,1,1,4], 10)"
      ],
      "execution_count": null,
      "outputs": [
        {
          "output_type": "stream",
          "text": [
            "Puntuación del clasificaodr KNN:  0.6929874097123021\n",
            "Puntuación del clasificaodr Arból de Decisión:  0.6400444371557343\n",
            "Puntuación del clasificaodr SVM:  0.7686456593573373\n"
          ],
          "name": "stdout"
        }
      ]
    },
    {
      "cell_type": "markdown",
      "metadata": {
        "colab_type": "text",
        "id": "hP4RpFNAooBy"
      },
      "source": [
        "###***104.\tR2 -> L2 -> F2 -> T1 -> D1 -> PCA***"
      ]
    },
    {
      "cell_type": "code",
      "metadata": {
        "colab_type": "code",
        "id": "DDpVikMpooBz",
        "colab": {
          "base_uri": "https://localhost:8080/",
          "height": 68
        },
        "outputId": "ff66341c-8c6e-4134-ee66-a1b6bd00132a"
      },
      "source": [
        "prove(df.copy(), [2,2,2,1,1,4], 10)"
      ],
      "execution_count": null,
      "outputs": [
        {
          "output_type": "stream",
          "text": [
            "Puntuación del clasificaodr KNN:  0.6929874097123021\n",
            "Puntuación del clasificaodr Arból de Decisión:  0.6381856722180744\n",
            "Puntuación del clasificaodr SVM:  0.7686456593573373\n"
          ],
          "name": "stdout"
        }
      ]
    },
    {
      "cell_type": "markdown",
      "metadata": {
        "colab_type": "text",
        "id": "m-FJR1heooB1"
      },
      "source": [
        "###***105.\tR1 -> L1 -> F1 -> T2 -> D1 -> PCA***"
      ]
    },
    {
      "cell_type": "code",
      "metadata": {
        "colab_type": "code",
        "id": "fsr4ETGKooB2",
        "colab": {
          "base_uri": "https://localhost:8080/",
          "height": 68
        },
        "outputId": "3d95094f-9bda-4855-b149-70db577f2779"
      },
      "source": [
        "prove(df.copy(), [1,1,1,2,1,4], 10)"
      ],
      "execution_count": null,
      "outputs": [
        {
          "output_type": "stream",
          "text": [
            "Puntuación del clasificaodr KNN:  0.6799153119016484\n",
            "Puntuación del clasificaodr Arból de Decisión:  0.6356691611318024\n",
            "Puntuación del clasificaodr SVM:  0.7634900358057886\n"
          ],
          "name": "stdout"
        }
      ]
    },
    {
      "cell_type": "markdown",
      "metadata": {
        "colab_type": "text",
        "id": "yc_gi93tooB4"
      },
      "source": [
        "###***106.\tR2 -> L1 -> F1 -> T2 -> D1 -> PCA***"
      ]
    },
    {
      "cell_type": "code",
      "metadata": {
        "colab_type": "code",
        "id": "25vXx1A7ooB5",
        "colab": {
          "base_uri": "https://localhost:8080/",
          "height": 68
        },
        "outputId": "95a1b8f7-c9d3-4a1d-adf7-e02c0941a52e"
      },
      "source": [
        "prove(df.copy(), [2,1,1,2,1,4], 10)"
      ],
      "execution_count": null,
      "outputs": [
        {
          "output_type": "stream",
          "text": [
            "Puntuación del clasificaodr KNN:  0.6799153119016484\n",
            "Puntuación del clasificaodr Arból de Decisión:  0.6324903364650811\n",
            "Puntuación del clasificaodr SVM:  0.7634900358057886\n"
          ],
          "name": "stdout"
        }
      ]
    },
    {
      "cell_type": "markdown",
      "metadata": {
        "colab_type": "text",
        "id": "fQrbVwdUooB-"
      },
      "source": [
        "###***107.\tR1 -> L2 -> F1 -> T2 -> D1 -> PCA***"
      ]
    },
    {
      "cell_type": "code",
      "metadata": {
        "colab_type": "code",
        "id": "Quhhc70booB-",
        "colab": {
          "base_uri": "https://localhost:8080/",
          "height": 68
        },
        "outputId": "4af05b84-7d24-42c8-f1c8-d3a7b762a3bd"
      },
      "source": [
        "prove(df.copy(), [1,2,1,2,1,4], 10)"
      ],
      "execution_count": null,
      "outputs": [
        {
          "output_type": "stream",
          "text": [
            "Puntuación del clasificaodr KNN:  0.6929874097123021\n",
            "Puntuación del clasificaodr Arból de Decisión:  0.6401646289447147\n",
            "Puntuación del clasificaodr SVM:  0.7686456593573373\n"
          ],
          "name": "stdout"
        }
      ]
    },
    {
      "cell_type": "markdown",
      "metadata": {
        "colab_type": "text",
        "id": "0OrlCoWBooCB"
      },
      "source": [
        "###***108.\tR2 -> L2 -> F1 -> T2 -> D1 -> PCA***\n",
        "\n"
      ]
    },
    {
      "cell_type": "code",
      "metadata": {
        "colab_type": "code",
        "id": "EtbG7wNjooCB",
        "colab": {
          "base_uri": "https://localhost:8080/",
          "height": 68
        },
        "outputId": "f26eea2a-0e70-4689-9c13-4718cd23cbf1"
      },
      "source": [
        "prove(df.copy(), [2,2,1,2,1,4], 10)"
      ],
      "execution_count": null,
      "outputs": [
        {
          "output_type": "stream",
          "text": [
            "Puntuación del clasificaodr KNN:  0.6929874097123021\n",
            "Puntuación del clasificaodr Arból de Decisión:  0.6399843412612441\n",
            "Puntuación del clasificaodr SVM:  0.7686456593573373\n"
          ],
          "name": "stdout"
        }
      ]
    },
    {
      "cell_type": "markdown",
      "metadata": {
        "colab_type": "text",
        "id": "j-SYh2U1ooCD"
      },
      "source": [
        "###***109.\tR1 -> L1 -> F2 -> T2 -> D1 -> PCA***"
      ]
    },
    {
      "cell_type": "code",
      "metadata": {
        "colab_type": "code",
        "id": "Uc64wvdFooCE",
        "colab": {
          "base_uri": "https://localhost:8080/",
          "height": 68
        },
        "outputId": "fb178e4e-48e9-4465-e966-834ae12a26c0"
      },
      "source": [
        "prove(df.copy(), [1,1,2,2,1,4], 10)"
      ],
      "execution_count": null,
      "outputs": [
        {
          "output_type": "stream",
          "text": [
            "Puntuación del clasificaodr KNN:  0.6193066422686686\n",
            "Puntuación del clasificaodr Arból de Decisión:  0.6193069659449406\n",
            "Puntuación del clasificaodr SVM:  0.7051592199545702\n"
          ],
          "name": "stdout"
        }
      ]
    },
    {
      "cell_type": "markdown",
      "metadata": {
        "colab_type": "text",
        "id": "4xTAnPxqooCG"
      },
      "source": [
        "###***110.\tR2 -> L1 -> F2 -> T2 -> D1 -> PCA***"
      ]
    },
    {
      "cell_type": "code",
      "metadata": {
        "colab_type": "code",
        "id": "3JSu13l8ooCH",
        "colab": {
          "base_uri": "https://localhost:8080/",
          "height": 68
        },
        "outputId": "e13bd41d-d59b-4016-981c-439a4e5b558f"
      },
      "source": [
        "prove(df.copy(), [2,1,2,2,1,4], 10)"
      ],
      "execution_count": null,
      "outputs": [
        {
          "output_type": "stream",
          "text": [
            "Puntuación del clasificaodr KNN:  0.6799153119016484\n",
            "Puntuación del clasificaodr Arból de Decisión:  0.6326705162564609\n",
            "Puntuación del clasificaodr SVM:  0.7634300478033891\n"
          ],
          "name": "stdout"
        }
      ]
    },
    {
      "cell_type": "markdown",
      "metadata": {
        "colab_type": "text",
        "id": "9KCTnLbvooCK"
      },
      "source": [
        "###***111.\tR1 -> L2 -> F2 -> T2 -> D1 -> PCA***"
      ]
    },
    {
      "cell_type": "code",
      "metadata": {
        "colab_type": "code",
        "id": "u9shZMLIooCK",
        "colab": {
          "base_uri": "https://localhost:8080/",
          "height": 68
        },
        "outputId": "ad333330-7783-4257-e9a9-02de083089c4"
      },
      "source": [
        "prove(df.copy(), [1,2,2,2,1,4], 10)"
      ],
      "execution_count": null,
      "outputs": [
        {
          "output_type": "stream",
          "text": [
            "Puntuación del clasificaodr KNN:  0.6929874097123021\n",
            "Puntuación del clasificaodr Arból de Decisión:  0.6411837416689324\n",
            "Puntuación del clasificaodr SVM:  0.7686456593573373\n"
          ],
          "name": "stdout"
        }
      ]
    },
    {
      "cell_type": "markdown",
      "metadata": {
        "colab_type": "text",
        "id": "q9LivNJDooCO"
      },
      "source": [
        "###***112.\tR2 -> L2 -> F2 -> T2 -> D1 -> PCA***\n"
      ]
    },
    {
      "cell_type": "code",
      "metadata": {
        "colab_type": "code",
        "id": "Bgji6_gqooCQ",
        "colab": {
          "base_uri": "https://localhost:8080/",
          "height": 68
        },
        "outputId": "8e4720cc-0928-460a-ad2d-37cbae65c5fe"
      },
      "source": [
        "prove(df.copy(), [2,2,2,2,1,4], 10)"
      ],
      "execution_count": null,
      "outputs": [
        {
          "output_type": "stream",
          "text": [
            "Puntuación del clasificaodr KNN:  0.6929874097123021\n",
            "Puntuación del clasificaodr Arból de Decisión:  0.6396850126377602\n",
            "Puntuación del clasificaodr SVM:  0.7686456593573373\n"
          ],
          "name": "stdout"
        }
      ]
    },
    {
      "cell_type": "markdown",
      "metadata": {
        "colab_type": "text",
        "id": "jju2AYB3ooCV"
      },
      "source": [
        "###***113.\tR1 -> L1 -> F1 -> T1 -> D2 -> PCA***"
      ]
    },
    {
      "cell_type": "code",
      "metadata": {
        "colab_type": "code",
        "id": "uIDfAdXBooCV",
        "colab": {
          "base_uri": "https://localhost:8080/",
          "height": 68
        },
        "outputId": "1f61ee71-ffef-4d66-bd1c-d298ed9d5349"
      },
      "source": [
        "prove(df.copy(), [1,1,1,1,2,4], 10)"
      ],
      "execution_count": null,
      "outputs": [
        {
          "output_type": "stream",
          "text": [
            "Puntuación del clasificaodr KNN:  0.6746963916569205\n",
            "Puntuación del clasificaodr Arból de Decisión:  0.5745070050738054\n",
            "Puntuación del clasificaodr SVM:  0.7467032852422323\n"
          ],
          "name": "stdout"
        }
      ]
    },
    {
      "cell_type": "markdown",
      "metadata": {
        "colab_type": "text",
        "id": "Oex-TknSooCY"
      },
      "source": [
        "###***114.\tR2 -> L1 -> F1 -> T1 -> D2 -> PCA***"
      ]
    },
    {
      "cell_type": "code",
      "metadata": {
        "colab_type": "code",
        "id": "i_Le7woNooCZ",
        "colab": {
          "base_uri": "https://localhost:8080/",
          "height": 68
        },
        "outputId": "cf752c4f-6ecc-46bc-8be7-48d0785ba375"
      },
      "source": [
        "prove(df.copy(), [2,1,1,1,2,4], 10)"
      ],
      "execution_count": null,
      "outputs": [
        {
          "output_type": "stream",
          "text": [
            "Puntuación del clasificaodr KNN:  0.6746963916569205\n",
            "Puntuación del clasificaodr Arból de Decisión:  0.5761264653544111\n",
            "Puntuación del clasificaodr SVM:  0.7467632372806016\n"
          ],
          "name": "stdout"
        }
      ]
    },
    {
      "cell_type": "markdown",
      "metadata": {
        "colab_type": "text",
        "id": "IqsteIH6ooCc"
      },
      "source": [
        "###***115.\tR1 -> L2 -> F1 -> T1 -> D2 ->PCA***"
      ]
    },
    {
      "cell_type": "code",
      "metadata": {
        "colab_type": "code",
        "id": "Ku5hdaOJooCd",
        "colab": {
          "base_uri": "https://localhost:8080/",
          "height": 68
        },
        "outputId": "b550dffa-853f-4ca5-975d-2f6fee6e4004"
      },
      "source": [
        "prove(df.copy(), [1,2,1,1,2,4], 10)"
      ],
      "execution_count": null,
      "outputs": [
        {
          "output_type": "stream",
          "text": [
            "Puntuación del clasificaodr KNN:  0.6819518470406638\n",
            "Puntuación del clasificaodr Arból de Decisión:  0.5818232396686132\n",
            "Puntuación del clasificaodr SVM:  0.749041414738635\n"
          ],
          "name": "stdout"
        }
      ]
    },
    {
      "cell_type": "markdown",
      "metadata": {
        "colab_type": "text",
        "id": "OgysylxYooCg"
      },
      "source": [
        "###***116.\tR2 -> L2 -> F1 -> T1 -> D2 -> PCA***"
      ]
    },
    {
      "cell_type": "code",
      "metadata": {
        "colab_type": "code",
        "id": "gd5RHZrNooCg",
        "colab": {
          "base_uri": "https://localhost:8080/",
          "height": 68
        },
        "outputId": "8fc0360f-96ef-48b5-9cdf-206a9cffeb49"
      },
      "source": [
        "prove(df.copy(), [1,2,1,1,2,4], 10)"
      ],
      "execution_count": null,
      "outputs": [
        {
          "output_type": "stream",
          "text": [
            "Puntuación del clasificaodr KNN:  0.6819518470406638\n",
            "Puntuación del clasificaodr Arból de Decisión:  0.58044452260627\n",
            "Puntuación del clasificaodr SVM:  0.749041414738635\n"
          ],
          "name": "stdout"
        }
      ]
    },
    {
      "cell_type": "markdown",
      "metadata": {
        "colab_type": "text",
        "id": "Gu42UBgKooCj"
      },
      "source": [
        "###***117.\tR1 -> L1 -> F2 -> T1 -> D2 -> PCA***"
      ]
    },
    {
      "cell_type": "code",
      "metadata": {
        "colab_type": "code",
        "id": "WigX2NgYooCj",
        "colab": {
          "base_uri": "https://localhost:8080/",
          "height": 68
        },
        "outputId": "7c3c54da-c145-4b8e-8d12-44807742d65e"
      },
      "source": [
        "prove(df.copy(), [1,1,2,1,2,4], 10)"
      ],
      "execution_count": null,
      "outputs": [
        {
          "output_type": "stream",
          "text": [
            "Puntuación del clasificaodr KNN:  0.6746963916569205\n",
            "Puntuación del clasificaodr Arból de Decisión:  0.5736685396733604\n",
            "Puntuación del clasificaodr SVM:  0.7467632372806016\n"
          ],
          "name": "stdout"
        }
      ]
    },
    {
      "cell_type": "markdown",
      "metadata": {
        "colab_type": "text",
        "id": "ON8n5OVkooCo"
      },
      "source": [
        "###***118.\tR2 -> L1 -> F2 -> T1 -> D2 -> PCA***"
      ]
    },
    {
      "cell_type": "code",
      "metadata": {
        "colab_type": "code",
        "id": "EEg1wi7mooCp",
        "colab": {
          "base_uri": "https://localhost:8080/",
          "height": 68
        },
        "outputId": "d488364a-94fa-47c6-c290-df2b557abc74"
      },
      "source": [
        "prove(df.copy(), [2,1,2,1,2,4], 10)"
      ],
      "execution_count": null,
      "outputs": [
        {
          "output_type": "stream",
          "text": [
            "Puntuación del clasificaodr KNN:  0.6746963916569205\n",
            "Puntuación del clasificaodr Arból de Decisión:  0.5761264653544111\n",
            "Puntuación del clasificaodr SVM:  0.7467032852422323\n"
          ],
          "name": "stdout"
        }
      ]
    },
    {
      "cell_type": "markdown",
      "metadata": {
        "colab_type": "text",
        "id": "97rmVZZdooCu"
      },
      "source": [
        "###***119.\tR1 -> L2 -> F2 -> T1 -> D2 -> PCA***"
      ]
    },
    {
      "cell_type": "code",
      "metadata": {
        "colab_type": "code",
        "id": "RluwoTOBooCv",
        "colab": {
          "base_uri": "https://localhost:8080/",
          "height": 68
        },
        "outputId": "75bfbc2a-33ee-4acf-b493-ad2b6741d862"
      },
      "source": [
        "prove(df.copy(), [1,2,2,1,2,4], 10)"
      ],
      "execution_count": null,
      "outputs": [
        {
          "output_type": "stream",
          "text": [
            "Puntuación del clasificaodr KNN:  0.6819518470406638\n",
            "Puntuación del clasificaodr Arból de Decisión:  0.5781659495439041\n",
            "Puntuación del clasificaodr SVM:  0.749041414738635\n"
          ],
          "name": "stdout"
        }
      ]
    },
    {
      "cell_type": "markdown",
      "metadata": {
        "colab_type": "text",
        "id": "4pakqbjBooCy"
      },
      "source": [
        "###***120.\tR2 -> L2 -> F2 -> T1 -> D2 -> PCA***"
      ]
    },
    {
      "cell_type": "code",
      "metadata": {
        "colab_type": "code",
        "id": "znicWtR_ooCy",
        "colab": {
          "base_uri": "https://localhost:8080/",
          "height": 68
        },
        "outputId": "90c2bc6d-eabf-489f-c46b-5220256cc8fc"
      },
      "source": [
        "prove(df.copy(), [2,2,2,1,2,4], 10)"
      ],
      "execution_count": null,
      "outputs": [
        {
          "output_type": "stream",
          "text": [
            "Puntuación del clasificaodr KNN:  0.6819518470406638\n",
            "Puntuación del clasificaodr Arból de Decisión:  0.581463491474367\n",
            "Puntuación del clasificaodr SVM:  0.749041414738635\n"
          ],
          "name": "stdout"
        }
      ]
    },
    {
      "cell_type": "markdown",
      "metadata": {
        "colab_type": "text",
        "id": "iQt4K8JQooC0"
      },
      "source": [
        "###***121.\tR1 -> L1 -> F1 -> T2 -> D2 -> PCA***"
      ]
    },
    {
      "cell_type": "code",
      "metadata": {
        "colab_type": "code",
        "id": "9r6Sr8qUooC1",
        "colab": {
          "base_uri": "https://localhost:8080/",
          "height": 68
        },
        "outputId": "d712a547-cc3b-4d58-dd62-55228b6c0688"
      },
      "source": [
        "prove(df.copy(), [1,1,1,2,2,4], 10)"
      ],
      "execution_count": null,
      "outputs": [
        {
          "output_type": "stream",
          "text": [
            "Puntuación del clasificaodr KNN:  0.6746963916569205\n",
            "Puntuación del clasificaodr Arból de Decisión:  0.5742079281985331\n",
            "Puntuación del clasificaodr SVM:  0.7467632372806016\n"
          ],
          "name": "stdout"
        }
      ]
    },
    {
      "cell_type": "markdown",
      "metadata": {
        "colab_type": "text",
        "id": "NbTD1PlcooC3"
      },
      "source": [
        "###***122.\tR2 -> L1 -> F1 -> T2 -> D2 -> PCA***"
      ]
    },
    {
      "cell_type": "code",
      "metadata": {
        "colab_type": "code",
        "id": "-P2OW420ooC3",
        "colab": {
          "base_uri": "https://localhost:8080/",
          "height": 68
        },
        "outputId": "5257f45e-8f58-4518-fa7c-bb8638d043d3"
      },
      "source": [
        "prove(df.copy(), [2,1,1,2,2,4], 10)"
      ],
      "execution_count": null,
      "outputs": [
        {
          "output_type": "stream",
          "text": [
            "Puntuación del clasificaodr KNN:  0.6746963916569205\n",
            "Puntuación del clasificaodr Arból de Decisión:  0.571809379131368\n",
            "Puntuación del clasificaodr SVM:  0.7467032852422323\n"
          ],
          "name": "stdout"
        }
      ]
    },
    {
      "cell_type": "markdown",
      "metadata": {
        "colab_type": "text",
        "id": "AxpK8tfbooC6"
      },
      "source": [
        "###***123.\tR1 -> L2 -> F1 -> T2 -> D2 -> PCA***"
      ]
    },
    {
      "cell_type": "code",
      "metadata": {
        "colab_type": "code",
        "id": "Amxold1cooC7",
        "colab": {
          "base_uri": "https://localhost:8080/",
          "height": 68
        },
        "outputId": "5f95fbd8-4a7c-479c-bc8a-936c33b48f2f"
      },
      "source": [
        "prove(df.copy(), [1,2,1,2,2,4], 10)"
      ],
      "execution_count": null,
      "outputs": [
        {
          "output_type": "stream",
          "text": [
            "Puntuación del clasificaodr KNN:  0.6819518470406638\n",
            "Puntuación del clasificaodr Arból de Decisión:  0.5803842468916288\n",
            "Puntuación del clasificaodr SVM:  0.749041414738635\n"
          ],
          "name": "stdout"
        }
      ]
    },
    {
      "cell_type": "markdown",
      "metadata": {
        "colab_type": "text",
        "id": "Se09OzZDooC_"
      },
      "source": [
        "###***124.\tR2 -> L2 -> F1 -> T2 -> D2 -> PCA***"
      ]
    },
    {
      "cell_type": "code",
      "metadata": {
        "colab_type": "code",
        "id": "Fcc7lrWKooDA",
        "colab": {
          "base_uri": "https://localhost:8080/",
          "height": 68
        },
        "outputId": "32abed35-aa0a-4486-b669-848f08a982b8"
      },
      "source": [
        "prove(df.copy(), [2,2,1,2,2,4], 10)"
      ],
      "execution_count": null,
      "outputs": [
        {
          "output_type": "stream",
          "text": [
            "Puntuación del clasificaodr KNN:  0.6819518470406638\n",
            "Puntuación del clasificaodr Arból de Decisión:  0.5820627241458183\n",
            "Puntuación del clasificaodr SVM:  0.749041414738635\n"
          ],
          "name": "stdout"
        }
      ]
    },
    {
      "cell_type": "markdown",
      "metadata": {
        "colab_type": "text",
        "id": "UTLzTAxgooDF"
      },
      "source": [
        "###***125.\tR1 -> L1 -> F2 -> T2 -> D2 -> PCA***"
      ]
    },
    {
      "cell_type": "code",
      "metadata": {
        "colab_type": "code",
        "id": "bQ3bP7KtooDF",
        "colab": {
          "base_uri": "https://localhost:8080/",
          "height": 68
        },
        "outputId": "528b7d2c-baf6-4886-808b-f073b5bff5ac"
      },
      "source": [
        "prove(df.copy(), [1,1,2,2,2,4], 10)"
      ],
      "execution_count": null,
      "outputs": [
        {
          "output_type": "stream",
          "text": [
            "Puntuación del clasificaodr KNN:  0.6746963916569205\n",
            "Puntuación del clasificaodr Arból de Decisión:  0.5745674246445674\n",
            "Puntuación del clasificaodr SVM:  0.7467632372806016\n"
          ],
          "name": "stdout"
        }
      ]
    },
    {
      "cell_type": "markdown",
      "metadata": {
        "colab_type": "text",
        "id": "d5MPSbgcooDH"
      },
      "source": [
        "###***126.\tR2 -> L1 -> F2 -> T2 -> D2 -> PCA***"
      ]
    },
    {
      "cell_type": "code",
      "metadata": {
        "colab_type": "code",
        "id": "DiFDKeg3ooDI",
        "colab": {
          "base_uri": "https://localhost:8080/",
          "height": 68
        },
        "outputId": "2ac51641-e43f-4f1e-ee3f-c8cbeb7df8c5"
      },
      "source": [
        "prove(df.copy(), [2,1,2,2,2,4], 10)"
      ],
      "execution_count": null,
      "outputs": [
        {
          "output_type": "stream",
          "text": [
            "Puntuación del clasificaodr KNN:  0.6746963916569205\n",
            "Puntuación del clasificaodr Arból de Decisión:  0.5754668850402582\n",
            "Puntuación del clasificaodr SVM:  0.7467632372806016\n"
          ],
          "name": "stdout"
        }
      ]
    },
    {
      "cell_type": "markdown",
      "metadata": {
        "colab_type": "text",
        "id": "3v1SLNYjooDK"
      },
      "source": [
        "###***127. R1 -> L2 -> F2 -> T2 -> D2 -> PCA***"
      ]
    },
    {
      "cell_type": "code",
      "metadata": {
        "colab_type": "code",
        "id": "0d9D_emrooDK",
        "colab": {
          "base_uri": "https://localhost:8080/",
          "height": 68
        },
        "outputId": "e83e3909-c0cb-473c-8292-368cb05c150f"
      },
      "source": [
        "prove(df.copy(), [1,2,2,2,2,4], 10)"
      ],
      "execution_count": null,
      "outputs": [
        {
          "output_type": "stream",
          "text": [
            "Puntuación del clasificaodr KNN:  0.6819518470406638\n",
            "Puntuación del clasificaodr Arból de Decisión:  0.5779256738580341\n",
            "Puntuación del clasificaodr SVM:  0.749041414738635\n"
          ],
          "name": "stdout"
        }
      ]
    },
    {
      "cell_type": "markdown",
      "metadata": {
        "colab_type": "text",
        "id": "umEP-7S2ooDM"
      },
      "source": [
        "###***128.\tR2 -> L2 -> F2 -> T2 -> D2 -> PCA***"
      ]
    },
    {
      "cell_type": "code",
      "metadata": {
        "colab_type": "code",
        "id": "3wr2_HRcooDM",
        "colab": {
          "base_uri": "https://localhost:8080/",
          "height": 68
        },
        "outputId": "239f8dbe-5f95-4010-996e-c3121639f520"
      },
      "source": [
        "prove(df.copy(), [2,2,2,2,2,4], 10)"
      ],
      "execution_count": null,
      "outputs": [
        {
          "output_type": "stream",
          "text": [
            "Puntuación del clasificaodr KNN:  0.6819518470406638\n",
            "Puntuación del clasificaodr Arból de Decisión:  0.5800844147717219\n",
            "Puntuación del clasificaodr SVM:  0.749041414738635\n"
          ],
          "name": "stdout"
        }
      ]
    },
    {
      "cell_type": "markdown",
      "metadata": {
        "id": "UqcZ8Bir4X9s",
        "colab_type": "text"
      },
      "source": [
        "## ***3. Comparación y Conclusión***"
      ]
    },
    {
      "cell_type": "markdown",
      "metadata": {
        "id": "PfaXnWnY4f1i",
        "colab_type": "text"
      },
      "source": [
        "En esta parte, se realizará una comparación a nivel de todos los ***worflows*** realizados. Se seleccionaron los 5 mejores ***flujos de trabajo o workflows*** por cada clasificador. En este caso son ***3*** clasificadores. A continuación, se presentan 3 tablas. En cada tabla, se especifican las ***5*** combinaciones de preprocesamiento que determinan las mejores precisiones para respectivo clasificador. \n",
        "\n",
        "* ***Clasificador K Vecinos más Cercanos (KNN)***\n",
        "\n",
        "![alt text](https://i.ibb.co/tHknfVC/knn.png)\n",
        "\n",
        "* ***Clasificador Arbol de Decisión***\n",
        "\n",
        "![alt text](https://i.ibb.co/hfbJLdY/ad.png)\n",
        "\n",
        "* ***Clasificador Maquinas de Vectores de Soporte (SVM)***\n",
        "\n",
        "![alt text](https://i.ibb.co/qy73Szw/maquinas.png)\n",
        "\n",
        "Ahora bien, dadas estas tablas, es posible realizar ciertas conclusiones. En primer lugar, para el clasificador ***KNN***, Una de las mejores precisiones obtenidas es ***78.1673%***. Ello es posible a partir del siguiente esquema de preprocesamiento de datos:\n",
        "\n",
        "* ***No reducir datos -> Limpieza con 0 -> Contruir caracteristicas de fecha -> Normalización -> Discretizar a 3 intervalos -> Filtering***\n",
        "\n",
        "En segundo lugar, para el clasificador ***Arbol de Decisión***, Una de las mejores precisiones obtenidas es ***79.9478%***. Ello es posible a partir del siguiente esquema de preprocesamiento de datos:\n",
        "\n",
        "* ***No reducir datos -> Limpieza con cero -> Construir Caracteristicas -> Normalización -> Discretizar a 2 intervalos -> Filtering***\n",
        "\n",
        "Por ultimo, para el clasificador ***SVM***, Una de las mejores precisiones obtenidas es ***80.6485%***. Ello es posible a partir del siguiente esquema de preprocesamiento de datos:\n",
        "\n",
        "* ***Reducir datos -> Limpieza con media -> Construir caracteristicas -> Estandarización -> Discretizar a 2 intervalos -> Embedded***\n",
        "\n",
        "En general, la mejor precisión obtenida, a partir de todos los ***flujos de trabajo realizados*** y comparados, es ***80.6485%***. Se pudo alcanzar dicha precisión por medio de el ***clasificador SVM*** y las ***tecnicas de preprocesamiento de datos*** que se especifican a continuación:\n",
        "\n",
        "* ***Reducir datos -> Limpieza con media -> Construir caracteristicas -> Estandarización -> Discretizar a 2 intervalos -> Embedded***\n",
        "\n",
        "En sintesís, se ha logrado determinar ***128 flujos de trabajo***. Cada flujo de trabajo ha sido probado con 3 clasificadores. Se ha determinado el mejor ***flujo de trabajo*** para cada clasificador. Asimismo, se ha determinado la mejor precisión obtenida, a partir de los ***clasificadores y el preprocesamiento*** realizado, y el esquema de trabajo a seguir para llegar a dicha exactitud con respecto a la clasificación. En ese sentido, al\n",
        "tener un gran set de ***workflows***, se logra verificar la variabilidad del clasificador frente al ***dataset*** y el ***pre-procesamiento realizado***.\n",
        "\n",
        "\n",
        "\n",
        "\n",
        "\n"
      ]
    }
  ]
}